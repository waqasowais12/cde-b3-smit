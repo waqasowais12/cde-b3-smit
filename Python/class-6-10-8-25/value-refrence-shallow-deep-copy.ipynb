{
 "cells": [
  {
   "cell_type": "markdown",
   "id": "0fc6ede9",
   "metadata": {
    "vscode": {
     "languageId": "plaintext"
    }
   },
   "source": [
    "### Value and refrence"
   ]
  },
  {
   "cell_type": "markdown",
   "id": "6ec2b508",
   "metadata": {},
   "source": [
    "-  value by refrence "
   ]
  },
  {
   "cell_type": "code",
   "execution_count": null,
   "id": "e8874e0d",
   "metadata": {},
   "outputs": [
    {
     "data": {
      "text/plain": [
       "([11, 2, 3, 4, 5, 6, 7, 8, 9], [11, 2, 3, 4, 5, 6, 7, 8, 9])"
      ]
     },
     "execution_count": 1,
     "metadata": {},
     "output_type": "execute_result"
    }
   ],
   "source": [
    "a = [1,2,3,4,5,6,7,8,9] # value by refrence because list is mutable\n",
    "b = a\n",
    "b[0] = 11\n",
    "a,b"
   ]
  },
  {
   "cell_type": "markdown",
   "id": "42c9ebe1",
   "metadata": {},
   "source": [
    "- Passed by value"
   ]
  },
  {
   "cell_type": "code",
   "execution_count": null,
   "id": "dcfc3c30",
   "metadata": {},
   "outputs": [
    {
     "data": {
      "text/plain": [
       "('waqas', 'Owais')"
      ]
     },
     "execution_count": 2,
     "metadata": {},
     "output_type": "execute_result"
    }
   ],
   "source": [
    "a = \"Waqas\" # Passed by value because string is immutable\n",
    "b= a\n",
    "b = \"Owais\"\n",
    "a,b"
   ]
  },
  {
   "cell_type": "markdown",
   "id": "978b7c98",
   "metadata": {},
   "source": [
    "## Deep & Shalow Copy"
   ]
  },
  {
   "cell_type": "code",
   "execution_count": 3,
   "id": "0aa7a6da",
   "metadata": {},
   "outputs": [
    {
     "data": {
      "text/plain": [
       "(['Waqas', 'Sameer', 'Harees', 'Rafay', 'Aayan'],\n",
       " ['Waqas Owais', 'Sameer', 'Harees', 'Rafay', 'Aayan'])"
      ]
     },
     "execution_count": 3,
     "metadata": {},
     "output_type": "execute_result"
    }
   ],
   "source": [
    "import copy\n",
    "a = [\"Waqas\",\"Sameer\",\"Harees\",\"Rafay\",\"Aayan\"]\n",
    "b = copy.copy(a)\n",
    "b[0] = \"Waqas Owais\"\n",
    "a,b"
   ]
  },
  {
   "cell_type": "markdown",
   "id": "ade3f102",
   "metadata": {},
   "source": [
    "### Shalow Copy"
   ]
  },
  {
   "cell_type": "code",
   "execution_count": 5,
   "id": "f6b24bec",
   "metadata": {},
   "outputs": [
    {
     "data": {
      "text/plain": [
       "(['Sameer', 'Harees', ['Muhammad Waqas', 'Owais'], 'Aayan', 'Rafay'],\n",
       " ['Sameer', 'Harees', ['Muhammad Waqas', 'Owais'], 'Aayan', 'Rafay'])"
      ]
     },
     "execution_count": 5,
     "metadata": {},
     "output_type": "execute_result"
    }
   ],
   "source": [
    "a = [\"Sameer\",\"Harees\",[\"Waqas\",\"Owais\"],\"Aayan\",\"Rafay\"]\n",
    "b = copy.copy(a)\n",
    "a[2][0] = \"Muhammad Waqas\"\n",
    "a,b"
   ]
  },
  {
   "cell_type": "markdown",
   "id": "61abaa1e",
   "metadata": {},
   "source": [
    "### Deep Copy"
   ]
  },
  {
   "cell_type": "code",
   "execution_count": 6,
   "id": "dcd3cdfe",
   "metadata": {},
   "outputs": [
    {
     "data": {
      "text/plain": [
       "(['Sameer', 'Harees', ['Muhammad Waqas', 'Owais'], 'Aayan', 'Rafay'],\n",
       " ['Sameer', 'Harees', ['Waqas', 'Owais'], 'Aayan', 'Rafay'])"
      ]
     },
     "execution_count": 6,
     "metadata": {},
     "output_type": "execute_result"
    }
   ],
   "source": [
    "a = [\"Sameer\",\"Harees\",[\"Waqas\",\"Owais\"],\"Aayan\",\"Rafay\"]\n",
    "b = copy.deepcopy(a)\n",
    "a[2][0] = \"Muhammad Waqas\"\n",
    "a,b"
   ]
  },
  {
   "cell_type": "code",
   "execution_count": null,
   "id": "d005951d",
   "metadata": {},
   "outputs": [],
   "source": []
  }
 ],
 "metadata": {
  "kernelspec": {
   "display_name": "base",
   "language": "python",
   "name": "python3"
  },
  "language_info": {
   "codemirror_mode": {
    "name": "ipython",
    "version": 3
   },
   "file_extension": ".py",
   "mimetype": "text/x-python",
   "name": "python",
   "nbconvert_exporter": "python",
   "pygments_lexer": "ipython3",
   "version": "3.13.5"
  }
 },
 "nbformat": 4,
 "nbformat_minor": 5
}
