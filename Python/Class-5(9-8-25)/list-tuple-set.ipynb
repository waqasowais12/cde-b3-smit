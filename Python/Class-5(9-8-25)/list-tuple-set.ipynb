{
 "cells": [
  {
   "cell_type": "markdown",
   "id": "022eb1ec-6148-46f1-b4ef-fbea21af1ec6",
   "metadata": {},
   "source": [
    "### List"
   ]
  },
  {
   "cell_type": "code",
   "execution_count": 1,
   "id": "4d5a2834-b208-47fd-84f6-6da3440d0cff",
   "metadata": {},
   "outputs": [],
   "source": [
    "city_0 = \"Atlanta\"\n",
    "city_1 = \"Baltimore\"\n",
    "city_2 = \"Chicago\"\n",
    "city_3 = \"Denver\"\n",
    "city_4 = \"Los Angeles\"\n",
    "city_5 = \"Seattle\""
   ]
  },
  {
   "cell_type": "code",
   "execution_count": 2,
   "id": "5fdc6a5b-4b90-4a6b-83dd-82b73db0afe8",
   "metadata": {},
   "outputs": [
    {
     "data": {
      "text/plain": [
       "(2940249066736, 2940249036400)"
      ]
     },
     "execution_count": 2,
     "metadata": {},
     "output_type": "execute_result"
    }
   ],
   "source": [
    "id(city_0), id(city_1)"
   ]
  },
  {
   "cell_type": "markdown",
   "id": "0a21259b-fd8f-41d7-bd9d-df65a766045d",
   "metadata": {},
   "source": [
    "- managing collection of values\n",
    "- Slower\n",
    "- Solution: Data Structure for collection of values: List"
   ]
  },
  {
   "cell_type": "code",
   "execution_count": 3,
   "id": "9ef8634e-f85d-4ca6-a070-cbb9574083b3",
   "metadata": {},
   "outputs": [],
   "source": [
    "cities = [\"Atlanta\",\"Baltimore\",\"Chicago\",\"Denver\",\"Los Angeles\",\"Seattle\"]"
   ]
  },
  {
   "cell_type": "code",
   "execution_count": 4,
   "id": "86544731-5888-4bff-9663-37816081c969",
   "metadata": {},
   "outputs": [
    {
     "name": "stdout",
     "output_type": "stream",
     "text": [
      "<class 'list'> 2364484366784\n"
     ]
    }
   ],
   "source": [
    "print(type(cities), id(cities))"
   ]
  },
  {
   "cell_type": "code",
   "execution_count": 5,
   "id": "f67735a8-38ad-40b8-897f-1c37329c9bb3",
   "metadata": {},
   "outputs": [],
   "source": [
    "cities.append(\"Karachi\") # append men koi bhi argument pass krenge to woh list men add h jaiga"
   ]
  },
  {
   "cell_type": "code",
   "execution_count": 6,
   "id": "af394add-54b7-44c9-94fb-ad7dcbd33166",
   "metadata": {},
   "outputs": [
    {
     "data": {
      "text/plain": [
       "['Atlanta',\n",
       " 'Baltimore',\n",
       " 'Chicago',\n",
       " 'Denver',\n",
       " 'Los Angeles',\n",
       " 'Seattle',\n",
       " 'Karachi']"
      ]
     },
     "execution_count": 6,
     "metadata": {},
     "output_type": "execute_result"
    }
   ],
   "source": [
    "cities"
   ]
  },
  {
   "cell_type": "code",
   "execution_count": 7,
   "id": "1fbaeb96-6cda-4b02-a3ba-b416c64cbc92",
   "metadata": {},
   "outputs": [
    {
     "data": {
      "text/plain": [
       "1"
      ]
     },
     "execution_count": 7,
     "metadata": {},
     "output_type": "execute_result"
    }
   ],
   "source": [
    "cities.count(\"Atlanta\")  # count btata he k ye word kitni dafa he list men"
   ]
  },
  {
   "cell_type": "code",
   "execution_count": null,
   "id": "41871422",
   "metadata": {},
   "outputs": [],
   "source": [
    "cities.extend([\"Islamabad\",\"Lahore\",\"Quetta\"]) # adding a mini list in the existing list"
   ]
  },
  {
   "cell_type": "code",
   "execution_count": 9,
   "id": "77f7fcec",
   "metadata": {},
   "outputs": [
    {
     "data": {
      "text/plain": [
       "['Atlanta',\n",
       " 'Baltimore',\n",
       " 'Chicago',\n",
       " 'Denver',\n",
       " 'Los Angeles',\n",
       " 'Seattle',\n",
       " 'Karachi',\n",
       " 'Islamabad',\n",
       " 'Lahore',\n",
       " 'Quetta']"
      ]
     },
     "execution_count": 9,
     "metadata": {},
     "output_type": "execute_result"
    }
   ],
   "source": [
    "cities"
   ]
  },
  {
   "cell_type": "code",
   "execution_count": 10,
   "id": "218458a2",
   "metadata": {},
   "outputs": [],
   "source": [
    "cities.insert(1,\"Peshawar\") # inserting a single value with respect to particular index"
   ]
  },
  {
   "cell_type": "code",
   "execution_count": 11,
   "id": "52620a43",
   "metadata": {},
   "outputs": [
    {
     "data": {
      "text/plain": [
       "['Atlanta',\n",
       " 'Peshawar',\n",
       " 'Baltimore',\n",
       " 'Chicago',\n",
       " 'Denver',\n",
       " 'Los Angeles',\n",
       " 'Seattle',\n",
       " 'Karachi',\n",
       " 'Islamabad',\n",
       " 'Lahore',\n",
       " 'Quetta']"
      ]
     },
     "execution_count": 11,
     "metadata": {},
     "output_type": "execute_result"
    }
   ],
   "source": [
    "cities"
   ]
  },
  {
   "cell_type": "code",
   "execution_count": 15,
   "id": "f7a165d6",
   "metadata": {},
   "outputs": [
    {
     "data": {
      "text/plain": [
       "7"
      ]
     },
     "execution_count": 15,
     "metadata": {},
     "output_type": "execute_result"
    }
   ],
   "source": [
    "cities.index(\"Karachi\")"
   ]
  },
  {
   "cell_type": "code",
   "execution_count": null,
   "id": "b1bb1d70",
   "metadata": {},
   "outputs": [],
   "source": [
    "cities.pop() # Remove and return item at index (default last)."
   ]
  },
  {
   "cell_type": "code",
   "execution_count": 17,
   "id": "595f9ee1",
   "metadata": {},
   "outputs": [],
   "source": [
    "cities.append(\"Peshawar\")"
   ]
  },
  {
   "cell_type": "code",
   "execution_count": 18,
   "id": "4272b95a",
   "metadata": {},
   "outputs": [
    {
     "data": {
      "text/plain": [
       "['Atlanta',\n",
       " 'Peshawar',\n",
       " 'Baltimore',\n",
       " 'Chicago',\n",
       " 'Denver',\n",
       " 'Los Angeles',\n",
       " 'Seattle',\n",
       " 'Karachi',\n",
       " 'Islamabad',\n",
       " 'Lahore',\n",
       " 'Quetta',\n",
       " 'Peshawar']"
      ]
     },
     "execution_count": 18,
     "metadata": {},
     "output_type": "execute_result"
    }
   ],
   "source": [
    "cities"
   ]
  },
  {
   "cell_type": "code",
   "execution_count": 21,
   "id": "eec95d08",
   "metadata": {},
   "outputs": [],
   "source": [
    "cities.remove(\"Peshawar\") # Remove first occurrence of value."
   ]
  },
  {
   "cell_type": "code",
   "execution_count": null,
   "id": "8d1171f8",
   "metadata": {},
   "outputs": [],
   "source": [
    "cities.reverse()"
   ]
  },
  {
   "cell_type": "code",
   "execution_count": 23,
   "id": "881f01e0",
   "metadata": {},
   "outputs": [],
   "source": [
    "cities.clear()"
   ]
  },
  {
   "cell_type": "code",
   "execution_count": 24,
   "id": "2d2b4da2",
   "metadata": {},
   "outputs": [
    {
     "data": {
      "text/plain": [
       "[]"
      ]
     },
     "execution_count": 24,
     "metadata": {},
     "output_type": "execute_result"
    }
   ],
   "source": [
    "cities"
   ]
  },
  {
   "cell_type": "code",
   "execution_count": 25,
   "id": "d9b162cb",
   "metadata": {},
   "outputs": [
    {
     "data": {
      "text/plain": [
       "[]"
      ]
     },
     "execution_count": 25,
     "metadata": {},
     "output_type": "execute_result"
    }
   ],
   "source": [
    "cities.copy()"
   ]
  },
  {
   "cell_type": "markdown",
   "id": "95482608",
   "metadata": {},
   "source": [
    "### Shallow Copy"
   ]
  },
  {
   "cell_type": "code",
   "execution_count": 27,
   "id": "4bef47d3",
   "metadata": {},
   "outputs": [],
   "source": [
    "cities = [\n",
    "'Atlanta',\n",
    " 'Baltimore',\n",
    " 'Chicago',\n",
    " 'Denver',\n",
    " 'Los Angeles',\n",
    " 'Seattle',\n",
    " 'Karachi']\n"
   ]
  },
  {
   "cell_type": "code",
   "execution_count": 28,
   "id": "2e9e8692",
   "metadata": {},
   "outputs": [],
   "source": [
    "cities_new = cities.copy() # Return a shallow copy of the list"
   ]
  },
  {
   "cell_type": "code",
   "execution_count": 29,
   "id": "f9b734e6",
   "metadata": {},
   "outputs": [
    {
     "name": "stdout",
     "output_type": "stream",
     "text": [
      "<class 'list'> 2364484261760\n"
     ]
    }
   ],
   "source": [
    "print(type(cities_new),id(cities_new))"
   ]
  },
  {
   "cell_type": "code",
   "execution_count": 30,
   "id": "a7276b87",
   "metadata": {},
   "outputs": [
    {
     "name": "stdout",
     "output_type": "stream",
     "text": [
      "<class 'list'> 2364484395072\n"
     ]
    }
   ],
   "source": [
    "print(type(cities),id(cities))"
   ]
  },
  {
   "cell_type": "markdown",
   "id": "d9893260",
   "metadata": {},
   "source": [
    "- Keep values at different address as shown above\n",
    "- Changing values in one collection doesn't effect other"
   ]
  },
  {
   "cell_type": "markdown",
   "id": "067098c1",
   "metadata": {},
   "source": [
    "`### Deep Copy"
   ]
  },
  {
   "cell_type": "code",
   "execution_count": 32,
   "id": "895769d4",
   "metadata": {},
   "outputs": [],
   "source": [
    "cities_new = cities"
   ]
  },
  {
   "cell_type": "code",
   "execution_count": 33,
   "id": "e9e10296",
   "metadata": {},
   "outputs": [
    {
     "data": {
      "text/plain": [
       "(['Atlanta',\n",
       "  'Baltimore',\n",
       "  'Chicago',\n",
       "  'Denver',\n",
       "  'Los Angeles',\n",
       "  'Seattle',\n",
       "  'Karachi'],\n",
       " ['Atlanta',\n",
       "  'Baltimore',\n",
       "  'Chicago',\n",
       "  'Denver',\n",
       "  'Los Angeles',\n",
       "  'Seattle',\n",
       "  'Karachi'])"
      ]
     },
     "execution_count": 33,
     "metadata": {},
     "output_type": "execute_result"
    }
   ],
   "source": [
    "cities_new, cities"
   ]
  },
  {
   "cell_type": "markdown",
   "id": "44000bc4",
   "metadata": {},
   "source": [
    "cities_new.append(\"Dubai\")"
   ]
  },
  {
   "cell_type": "code",
   "execution_count": 35,
   "id": "f0ebadc9",
   "metadata": {},
   "outputs": [
    {
     "data": {
      "text/plain": [
       "(['Atlanta',\n",
       "  'Baltimore',\n",
       "  'Chicago',\n",
       "  'Denver',\n",
       "  'Los Angeles',\n",
       "  'Seattle',\n",
       "  'Karachi',\n",
       "  'Dubai'],\n",
       " ['Atlanta',\n",
       "  'Baltimore',\n",
       "  'Chicago',\n",
       "  'Denver',\n",
       "  'Los Angeles',\n",
       "  'Seattle',\n",
       "  'Karachi',\n",
       "  'Dubai'])"
      ]
     },
     "execution_count": 35,
     "metadata": {},
     "output_type": "execute_result"
    }
   ],
   "source": [
    "cities_new, cities"
   ]
  },
  {
   "cell_type": "markdown",
   "id": "6742e328",
   "metadata": {},
   "source": [
    "### Adding word in a list without using method"
   ]
  },
  {
   "cell_type": "markdown",
   "id": "979fda4d",
   "metadata": {},
   "source": [
    "### Slicing"
   ]
  },
  {
   "cell_type": "code",
   "execution_count": null,
   "id": "459dcd62",
   "metadata": {},
   "outputs": [
    {
     "data": {
      "text/plain": [
       "['Dubai',\n",
       " 'Karachi',\n",
       " 'Seattle',\n",
       " 'Los Angeles',\n",
       " 'Denver',\n",
       " 'Chicago',\n",
       " 'Baltimore',\n",
       " 'Atlanta']"
      ]
     },
     "execution_count": 36,
     "metadata": {},
     "output_type": "execute_result"
    }
   ],
   "source": [
    "cities[::-1] # reverse the list "
   ]
  },
  {
   "cell_type": "markdown",
   "id": "e45aa8e2",
   "metadata": {},
   "source": [
    "### TASK: create a student list of names and apply all methods that we learn today "
   ]
  },
  {
   "cell_type": "code",
   "execution_count": 38,
   "id": "d2b8dcf7",
   "metadata": {},
   "outputs": [],
   "source": [
    "Students = [\n",
    "    \"Waqas\",\n",
    "    \"Sameer\",\n",
    "    \"Aayan\",\n",
    "    \"Harees\",\n",
    "    \"Rafay\"\n",
    "]"
   ]
  },
  {
   "cell_type": "code",
   "execution_count": 40,
   "id": "2ca3503b",
   "metadata": {},
   "outputs": [
    {
     "name": "stdout",
     "output_type": "stream",
     "text": [
      "<class 'list'> 2364485712640\n"
     ]
    }
   ],
   "source": [
    "print(type(Students),id(Students))"
   ]
  },
  {
   "cell_type": "code",
   "execution_count": 46,
   "id": "0193acec",
   "metadata": {},
   "outputs": [],
   "source": [
    "Students.append(\"Sameer\")"
   ]
  },
  {
   "cell_type": "code",
   "execution_count": 47,
   "id": "7f97175d",
   "metadata": {},
   "outputs": [
    {
     "data": {
      "text/plain": [
       "['Waqas', 'Sameer', 'Aayan', 'Harees', 'Rafay', 'Moiz', 'Sameer']"
      ]
     },
     "execution_count": 47,
     "metadata": {},
     "output_type": "execute_result"
    }
   ],
   "source": [
    "Students"
   ]
  },
  {
   "cell_type": "code",
   "execution_count": 48,
   "id": "465ad2ab",
   "metadata": {},
   "outputs": [
    {
     "data": {
      "text/plain": [
       "2"
      ]
     },
     "execution_count": 48,
     "metadata": {},
     "output_type": "execute_result"
    }
   ],
   "source": [
    "Students.count(\"Sameer\")"
   ]
  },
  {
   "cell_type": "code",
   "execution_count": 51,
   "id": "4c80dfaf",
   "metadata": {},
   "outputs": [],
   "source": [
    "Students.extend([\"Ahmed\",\"Hamza\"])"
   ]
  },
  {
   "cell_type": "code",
   "execution_count": 52,
   "id": "a34ca8ac",
   "metadata": {},
   "outputs": [
    {
     "data": {
      "text/plain": [
       "['Waqas',\n",
       " 'Sameer',\n",
       " 'Aayan',\n",
       " 'Harees',\n",
       " 'Rafay',\n",
       " 'Moiz',\n",
       " 'Sameer',\n",
       " 'A',\n",
       " 'h',\n",
       " 'm',\n",
       " 'e',\n",
       " 'd',\n",
       " 'Ahmed',\n",
       " 'Hamza']"
      ]
     },
     "execution_count": 52,
     "metadata": {},
     "output_type": "execute_result"
    }
   ],
   "source": [
    "Students"
   ]
  },
  {
   "cell_type": "code",
   "execution_count": 53,
   "id": "69f0c7cc",
   "metadata": {},
   "outputs": [
    {
     "data": {
      "text/plain": [
       "12"
      ]
     },
     "execution_count": 53,
     "metadata": {},
     "output_type": "execute_result"
    }
   ],
   "source": [
    "Students.index(\"Ahmed\")"
   ]
  },
  {
   "cell_type": "code",
   "execution_count": 56,
   "id": "1690eeba",
   "metadata": {},
   "outputs": [],
   "source": [
    "Students.insert(2,\"Shoaib\")"
   ]
  },
  {
   "cell_type": "code",
   "execution_count": 57,
   "id": "b42d33b1",
   "metadata": {},
   "outputs": [
    {
     "data": {
      "text/plain": [
       "['Waqas',\n",
       " 'Sameer',\n",
       " 'Shoaib',\n",
       " 'Aayan',\n",
       " 'Harees',\n",
       " 'Rafay',\n",
       " 'Moiz',\n",
       " 'Sameer',\n",
       " 'A',\n",
       " 'h',\n",
       " 'm',\n",
       " 'e',\n",
       " 'd',\n",
       " 'Ahmed',\n",
       " 'Hamza']"
      ]
     },
     "execution_count": 57,
     "metadata": {},
     "output_type": "execute_result"
    }
   ],
   "source": [
    "Students"
   ]
  },
  {
   "cell_type": "code",
   "execution_count": 59,
   "id": "6cc7edab",
   "metadata": {},
   "outputs": [
    {
     "data": {
      "text/plain": [
       "'A'"
      ]
     },
     "execution_count": 59,
     "metadata": {},
     "output_type": "execute_result"
    }
   ],
   "source": [
    "Students.pop(8)"
   ]
  },
  {
   "cell_type": "code",
   "execution_count": 60,
   "id": "a1933c83",
   "metadata": {},
   "outputs": [
    {
     "data": {
      "text/plain": [
       "['Waqas',\n",
       " 'Sameer',\n",
       " 'Shoaib',\n",
       " 'Aayan',\n",
       " 'Harees',\n",
       " 'Rafay',\n",
       " 'Moiz',\n",
       " 'Sameer',\n",
       " 'h',\n",
       " 'm',\n",
       " 'e',\n",
       " 'd',\n",
       " 'Ahmed',\n",
       " 'Hamza']"
      ]
     },
     "execution_count": 60,
     "metadata": {},
     "output_type": "execute_result"
    }
   ],
   "source": [
    "Students"
   ]
  },
  {
   "cell_type": "code",
   "execution_count": 61,
   "id": "b9fa0b17",
   "metadata": {},
   "outputs": [
    {
     "data": {
      "text/plain": [
       "'m'"
      ]
     },
     "execution_count": 61,
     "metadata": {},
     "output_type": "execute_result"
    }
   ],
   "source": [
    "Students.pop(9)"
   ]
  },
  {
   "cell_type": "code",
   "execution_count": 62,
   "id": "8fbba2ef",
   "metadata": {},
   "outputs": [
    {
     "data": {
      "text/plain": [
       "'d'"
      ]
     },
     "execution_count": 62,
     "metadata": {},
     "output_type": "execute_result"
    }
   ],
   "source": [
    "Students.pop(10)"
   ]
  },
  {
   "cell_type": "code",
   "execution_count": 63,
   "id": "3a631e09",
   "metadata": {},
   "outputs": [
    {
     "data": {
      "text/plain": [
       "'Hamza'"
      ]
     },
     "execution_count": 63,
     "metadata": {},
     "output_type": "execute_result"
    }
   ],
   "source": [
    "Students.pop(11)"
   ]
  },
  {
   "cell_type": "code",
   "execution_count": 66,
   "id": "a22d7a12",
   "metadata": {},
   "outputs": [
    {
     "data": {
      "text/plain": [
       "'h'"
      ]
     },
     "execution_count": 66,
     "metadata": {},
     "output_type": "execute_result"
    }
   ],
   "source": [
    "Students.pop(8)"
   ]
  },
  {
   "cell_type": "code",
   "execution_count": 68,
   "id": "5c7d8368",
   "metadata": {},
   "outputs": [
    {
     "data": {
      "text/plain": [
       "'Ahmed'"
      ]
     },
     "execution_count": 68,
     "metadata": {},
     "output_type": "execute_result"
    }
   ],
   "source": [
    "Students.pop(9)"
   ]
  },
  {
   "cell_type": "code",
   "execution_count": 69,
   "id": "7f7a30de",
   "metadata": {},
   "outputs": [
    {
     "data": {
      "text/plain": [
       "['Waqas',\n",
       " 'Sameer',\n",
       " 'Shoaib',\n",
       " 'Aayan',\n",
       " 'Harees',\n",
       " 'Rafay',\n",
       " 'Moiz',\n",
       " 'Sameer',\n",
       " 'e']"
      ]
     },
     "execution_count": 69,
     "metadata": {},
     "output_type": "execute_result"
    }
   ],
   "source": [
    "Students"
   ]
  },
  {
   "cell_type": "code",
   "execution_count": 70,
   "id": "ac3e8575",
   "metadata": {},
   "outputs": [
    {
     "data": {
      "text/plain": [
       "'e'"
      ]
     },
     "execution_count": 70,
     "metadata": {},
     "output_type": "execute_result"
    }
   ],
   "source": [
    "Students.pop(8)"
   ]
  },
  {
   "cell_type": "code",
   "execution_count": 71,
   "id": "da40a250",
   "metadata": {},
   "outputs": [],
   "source": [
    "Students.remove(\"Sameer\")"
   ]
  },
  {
   "cell_type": "code",
   "execution_count": 72,
   "id": "8be71851",
   "metadata": {},
   "outputs": [
    {
     "data": {
      "text/plain": [
       "['Waqas', 'Shoaib', 'Aayan', 'Harees', 'Rafay', 'Moiz', 'Sameer']"
      ]
     },
     "execution_count": 72,
     "metadata": {},
     "output_type": "execute_result"
    }
   ],
   "source": [
    "Students"
   ]
  },
  {
   "cell_type": "code",
   "execution_count": 73,
   "id": "fc3d8681",
   "metadata": {},
   "outputs": [],
   "source": [
    "Students.reverse()"
   ]
  },
  {
   "cell_type": "code",
   "execution_count": 75,
   "id": "7d00f74c",
   "metadata": {},
   "outputs": [],
   "source": [
    "Students.sort()"
   ]
  },
  {
   "cell_type": "code",
   "execution_count": 76,
   "id": "d80249dd",
   "metadata": {},
   "outputs": [
    {
     "data": {
      "text/plain": [
       "['Aayan', 'Harees', 'Moiz', 'Rafay', 'Sameer', 'Shoaib', 'Waqas']"
      ]
     },
     "execution_count": 76,
     "metadata": {},
     "output_type": "execute_result"
    }
   ],
   "source": [
    "Students"
   ]
  },
  {
   "cell_type": "code",
   "execution_count": 78,
   "id": "d0f1fa68",
   "metadata": {},
   "outputs": [],
   "source": [
    "Students.clear()"
   ]
  },
  {
   "cell_type": "code",
   "execution_count": 79,
   "id": "113c9fdb",
   "metadata": {},
   "outputs": [],
   "source": [
    "Students = [\n",
    " 'Waqas',\n",
    " 'Sameer',\n",
    " 'Shoaib',\n",
    " 'Aayan',\n",
    " 'Harees',\n",
    " 'Rafay',\n",
    " 'Moiz',\n",
    " 'Sameer',\n",
    "]"
   ]
  },
  {
   "cell_type": "markdown",
   "id": "dd4ce0d1",
   "metadata": {},
   "source": [
    "### Shalow Copy\n"
   ]
  },
  {
   "cell_type": "code",
   "execution_count": 18,
   "id": "ee080bb7",
   "metadata": {},
   "outputs": [
    {
     "name": "stdout",
     "output_type": "stream",
     "text": [
      "['Waqas', 'Sameer Khan', 'Shoaib', 'Aayan', 'Harees', 'Rafay', 'Moiz', 'Sameer']\n",
      "['Waqas', 'Sameer', 'Shoaib', 'Aayan', 'Harees', 'Rafay', 'Moiz', 'Sameer']\n"
     ]
    }
   ],
   "source": [
    "import copy\n",
    "\n",
    "Students = [\n",
    " 'Waqas',\n",
    " 'Sameer',\n",
    " 'Shoaib',\n",
    " 'Aayan',\n",
    " 'Harees',\n",
    " 'Rafay',\n",
    " 'Moiz',\n",
    " 'Sameer',\n",
    "]\n",
    "\n",
    "Students_new = copy.copy(Students)\n",
    "\n",
    "Students[1] = \"Sameer Khan\"\n",
    "\n",
    "print(Students)\n",
    "print(Students_new)"
   ]
  },
  {
   "cell_type": "code",
   "execution_count": 9,
   "id": "be6b29fa",
   "metadata": {},
   "outputs": [
    {
     "name": "stdout",
     "output_type": "stream",
     "text": [
      "[['Waqas', 'Sameer'], ['Aayan', 'Harees'], ['Rafay', 'Hamza']]\n",
      "[['Waqas', 'Sameer'], ['Aayan', 'Harees'], ['Rafay', 'Hamza']]\n"
     ]
    }
   ],
   "source": [
    "import copy\n",
    "\n",
    "Students = [\n",
    "    [\"Waqas\",\"Sameer\",],\n",
    "    [\"Aayan\",\"Harees\"],\n",
    "    [\"Rafay\",\"Hamza\"]\n",
    "]\n",
    "\n",
    "Students_new = copy.copy(Students) # ismen simple old list ki entries new list men add ho rhi hen\n",
    "\n",
    "print(Students)\n",
    "print(Students_new)"
   ]
  },
  {
   "cell_type": "code",
   "execution_count": null,
   "id": "6f3694a1",
   "metadata": {},
   "outputs": [
    {
     "name": "stdout",
     "output_type": "stream",
     "text": [
      "[['Waqas', 'Sameer'], ['Aayan', 'Harees'], ['Rafay', 'Hamza'], ['Ahmed', 'ALi']]\n",
      "[['Waqas', 'Sameer'], ['Aayan', 'Harees'], ['Rafay', 'Hamza']]\n"
     ]
    }
   ],
   "source": [
    "import copy\n",
    "\n",
    "Students = [\n",
    "    [\"Waqas\",\"Sameer\",],\n",
    "    [\"Aayan\",\"Harees\"],\n",
    "    [\"Rafay\",\"Hamza\"]\n",
    "]\n",
    "\n",
    "Students_new = copy.copy(Students)\n",
    "\n",
    "Students.append([\"Ahmed\",\"ALi\"]) #agar hum directly nested list add krenge to woh sirf jahan add ki he usi list men show hogi dosri list men add nhi hogi\n",
    "\n",
    "print(Students)\n",
    "print(Students_new)"
   ]
  },
  {
   "cell_type": "code",
   "execution_count": null,
   "id": "e94b8bf0",
   "metadata": {},
   "outputs": [
    {
     "name": "stdout",
     "output_type": "stream",
     "text": [
      "[['Waqas', 'Sameer'], ['Aayan', 'Harees Ali'], ['Rafay', 'Hamza']]\n",
      "[['Waqas', 'Sameer'], ['Aayan', 'Harees Ali'], ['Rafay', 'Hamza']]\n"
     ]
    }
   ],
   "source": [
    "import copy\n",
    "\n",
    "Students = [\n",
    "    [\"Waqas\",\"Sameer\",],\n",
    "    [\"Aayan\",\"Harees\"],\n",
    "    [\"Rafay\",\"Hamza\"]\n",
    "]\n",
    "\n",
    "Students_new = copy.copy(Students)\n",
    "\n",
    "Students[1][1] = \"Harees Ali\" # agar hum nested list men koi changes krte hen to woh dono list men reflect hongi\n",
    "\n",
    "print(Students)\n",
    "print(Students_new)"
   ]
  },
  {
   "cell_type": "markdown",
   "id": "20d94a16",
   "metadata": {},
   "source": [
    "### Deep Copy"
   ]
  },
  {
   "cell_type": "code",
   "execution_count": 15,
   "id": "f1e56766",
   "metadata": {},
   "outputs": [
    {
     "name": "stdout",
     "output_type": "stream",
     "text": [
      "['Waqas', 'Sameer Khan', 'Shoaib', 'Aayan', 'Harees', 'Rafay', 'Moiz', 'Sameer']\n",
      "['Waqas', 'Sameer', 'Shoaib', 'Aayan', 'Harees', 'Rafay', 'Moiz', 'Sameer']\n"
     ]
    }
   ],
   "source": [
    "import copy\n",
    "\n",
    "Students = [\n",
    " 'Waqas',\n",
    " 'Sameer',\n",
    " 'Shoaib',\n",
    " 'Aayan',\n",
    " 'Harees',\n",
    " 'Rafay',\n",
    " 'Moiz',\n",
    " 'Sameer',\n",
    "]\n",
    "\n",
    "Students_new = copy.deepcopy(Students)\n",
    "\n",
    "Students[1] = \"Sameer Khan\"\n",
    "\n",
    "print(Students)\n",
    "print(Students_new)"
   ]
  },
  {
   "cell_type": "code",
   "execution_count": null,
   "id": "8544998b",
   "metadata": {},
   "outputs": [
    {
     "name": "stdout",
     "output_type": "stream",
     "text": [
      "[['Waqas', 'Sameer'], ['Aayan', 'Harees'], ['Rafay', 'Hamza']]\n",
      "[['Waqas', 'Sameer'], ['Aayan', 'Harees'], ['Rafay', 'Hamza']]\n"
     ]
    }
   ],
   "source": [
    "import copy\n",
    "\n",
    "Students = [\n",
    "    [\"Waqas\",\"Sameer\",],\n",
    "    [\"Aayan\",\"Harees\"],\n",
    "    [\"Rafay\",\"Hamza\"]\n",
    "]\n",
    "\n",
    "Students_new = copy.deepcopy(Students) # ismen simple old list ki entries new list men add ho rhi hen\n",
    "\n",
    "\n",
    "print(Students)\n",
    "print(Students_new)"
   ]
  },
  {
   "cell_type": "code",
   "execution_count": 7,
   "id": "07b089fa",
   "metadata": {},
   "outputs": [
    {
     "name": "stdout",
     "output_type": "stream",
     "text": [
      "[['Waqas', 'Sameer'], ['Aayan', 'Harees'], ['Rafay', 'Hamza'], ['Ahmed', 'ALi']]\n",
      "[['Waqas', 'Sameer'], ['Aayan', 'Harees'], ['Rafay', 'Hamza']]\n"
     ]
    }
   ],
   "source": [
    "import copy\n",
    "\n",
    "Students = [\n",
    "    [\"Waqas\",\"Sameer\",],\n",
    "    [\"Aayan\",\"Harees\"],\n",
    "    [\"Rafay\",\"Hamza\"]\n",
    "]\n",
    "\n",
    "Students_new = copy.deepcopy(Students)\n",
    "\n",
    "Students.append([\"Ahmed\",\"ALi\"]) #agar hum directly nested list add krenge to woh sirf jahan add ki he usi list men show hogi dosri list men add nhi hogi\n",
    "\n",
    "print(Students)\n",
    "print(Students_new)"
   ]
  },
  {
   "cell_type": "code",
   "execution_count": null,
   "id": "65821727",
   "metadata": {},
   "outputs": [
    {
     "name": "stdout",
     "output_type": "stream",
     "text": [
      "[['Waqas', 'Sameer'], ['Aayan', 'Harees'], ['Abdul Rafay', 'Hamza']]\n",
      "[['Waqas', 'Sameer'], ['Aayan', 'Harees'], ['Rafay', 'Hamza']]\n"
     ]
    }
   ],
   "source": [
    "import copy\n",
    "\n",
    "Students = [\n",
    "    [\"Waqas\",\"Sameer\",],\n",
    "    [\"Aayan\",\"Harees\"],\n",
    "    [\"Rafay\",\"Hamza\"]\n",
    "]\n",
    "\n",
    "Students_new = copy.deepcopy(Students)\n",
    "\n",
    "Students[2][0] = \"Abdul Rafay\" # agar hum nested list men koi changes krte hen to woh sirf jis list men add kiya he wahin hogi\n",
    "\n",
    "print(Students)\n",
    "print(Students_new)"
   ]
  },
  {
   "cell_type": "markdown",
   "id": "73a370e2",
   "metadata": {},
   "source": [
    "### Shallow and Deep End\n",
    "\n",
    "Links From where I learn shallow and deep copy \n",
    "\n",
    "- https://www.programiz.com/python-programming/shallow-deep-copy\n",
    "- https://chatgpt.com/c/6897de79-2f40-8333-bbeb-a96423d3a2f5"
   ]
  },
  {
   "cell_type": "code",
   "execution_count": 83,
   "id": "0d5bca97",
   "metadata": {},
   "outputs": [
    {
     "name": "stdout",
     "output_type": "stream",
     "text": [
      "<class 'list'> 2364486519296\n"
     ]
    }
   ],
   "source": [
    "print(type(Students_new),id(Students_new))"
   ]
  },
  {
   "cell_type": "code",
   "execution_count": 85,
   "id": "50fdd1bc",
   "metadata": {},
   "outputs": [
    {
     "name": "stdout",
     "output_type": "stream",
     "text": [
      "<class 'list'> 2364475674368\n"
     ]
    }
   ],
   "source": [
    "print(type(Students),id(Students))"
   ]
  },
  {
   "cell_type": "code",
   "execution_count": 86,
   "id": "48de2895",
   "metadata": {},
   "outputs": [],
   "source": [
    "Students_new = Students"
   ]
  },
  {
   "cell_type": "code",
   "execution_count": 87,
   "id": "5fbf4799",
   "metadata": {},
   "outputs": [
    {
     "data": {
      "text/plain": [
       "(['Waqas', 'Sameer', 'Shoaib', 'Aayan', 'Harees', 'Rafay', 'Moiz', 'Sameer'],\n",
       " ['Waqas', 'Sameer', 'Shoaib', 'Aayan', 'Harees', 'Rafay', 'Moiz', 'Sameer'])"
      ]
     },
     "execution_count": 87,
     "metadata": {},
     "output_type": "execute_result"
    }
   ],
   "source": [
    "Students_new, Students"
   ]
  },
  {
   "cell_type": "code",
   "execution_count": 88,
   "id": "be892670",
   "metadata": {},
   "outputs": [],
   "source": [
    "Students.append(\"Ali\")"
   ]
  },
  {
   "cell_type": "code",
   "execution_count": 89,
   "id": "a14e5b13",
   "metadata": {},
   "outputs": [
    {
     "data": {
      "text/plain": [
       "(['Waqas',\n",
       "  'Sameer',\n",
       "  'Shoaib',\n",
       "  'Aayan',\n",
       "  'Harees',\n",
       "  'Rafay',\n",
       "  'Moiz',\n",
       "  'Sameer',\n",
       "  'Ali'],\n",
       " ['Waqas',\n",
       "  'Sameer',\n",
       "  'Shoaib',\n",
       "  'Aayan',\n",
       "  'Harees',\n",
       "  'Rafay',\n",
       "  'Moiz',\n",
       "  'Sameer',\n",
       "  'Ali'])"
      ]
     },
     "execution_count": 89,
     "metadata": {},
     "output_type": "execute_result"
    }
   ],
   "source": [
    "Students, Students_new"
   ]
  },
  {
   "cell_type": "markdown",
   "id": "c485872e",
   "metadata": {},
   "source": [
    "#### Delete element using hard delete means we add element without using method it's also called overwrite"
   ]
  },
  {
   "cell_type": "code",
   "execution_count": 90,
   "id": "74c0016d",
   "metadata": {},
   "outputs": [],
   "source": [
    "Students[8] = \"Hamza\""
   ]
  },
  {
   "cell_type": "code",
   "execution_count": 91,
   "id": "0934449d",
   "metadata": {},
   "outputs": [
    {
     "data": {
      "text/plain": [
       "['Waqas',\n",
       " 'Sameer',\n",
       " 'Shoaib',\n",
       " 'Aayan',\n",
       " 'Harees',\n",
       " 'Rafay',\n",
       " 'Moiz',\n",
       " 'Sameer',\n",
       " 'Hamza']"
      ]
     },
     "execution_count": 91,
     "metadata": {},
     "output_type": "execute_result"
    }
   ],
   "source": [
    "Students"
   ]
  },
  {
   "cell_type": "markdown",
   "id": "f4b7ecc4",
   "metadata": {},
   "source": [
    "#### End of task"
   ]
  },
  {
   "cell_type": "code",
   "execution_count": 92,
   "id": "40adaa39",
   "metadata": {},
   "outputs": [],
   "source": [
    "bio_data = [\"Waqas\",23,80.4,True]"
   ]
  },
  {
   "cell_type": "code",
   "execution_count": 93,
   "id": "f96b5574",
   "metadata": {},
   "outputs": [
    {
     "data": {
      "text/plain": [
       "['Waqas', 23, 80.4, True]"
      ]
     },
     "execution_count": 93,
     "metadata": {},
     "output_type": "execute_result"
    }
   ],
   "source": [
    "bio_data"
   ]
  },
  {
   "cell_type": "code",
   "execution_count": 94,
   "id": "fe625a7c",
   "metadata": {},
   "outputs": [
    {
     "data": {
      "text/plain": [
       "4"
      ]
     },
     "execution_count": 94,
     "metadata": {},
     "output_type": "execute_result"
    }
   ],
   "source": [
    "len(bio_data)"
   ]
  },
  {
   "cell_type": "markdown",
   "id": "920b4a80",
   "metadata": {},
   "source": [
    "### Tuples - Immutable"
   ]
  },
  {
   "cell_type": "code",
   "execution_count": 98,
   "id": "d45df41d",
   "metadata": {},
   "outputs": [],
   "source": [
    "bio_data.append('Waqas')"
   ]
  },
  {
   "cell_type": "code",
   "execution_count": 99,
   "id": "c1cbdd8f",
   "metadata": {},
   "outputs": [
    {
     "data": {
      "text/plain": [
       "['Waqas', 23, 80.4, True, 'Waqas', 'Waqas', 'Waqas', 'Waqas']"
      ]
     },
     "execution_count": 99,
     "metadata": {},
     "output_type": "execute_result"
    }
   ],
   "source": [
    "bio_data"
   ]
  },
  {
   "cell_type": "code",
   "execution_count": 101,
   "id": "582d5ce2",
   "metadata": {},
   "outputs": [],
   "source": [
    "bio_data_t = tuple(bio_data)"
   ]
  },
  {
   "cell_type": "code",
   "execution_count": null,
   "id": "a62ac2e8",
   "metadata": {},
   "outputs": [
    {
     "ename": "TypeError",
     "evalue": "'tuple' object does not support item assignment",
     "output_type": "error",
     "traceback": [
      "\u001b[1;31m---------------------------------------------------------------------------\u001b[0m",
      "\u001b[1;31mTypeError\u001b[0m                                 Traceback (most recent call last)",
      "Cell \u001b[1;32mIn[102], line 1\u001b[0m\n\u001b[1;32m----> 1\u001b[0m bio_data_t[\u001b[38;5;241m4\u001b[39m] \u001b[38;5;241m=\u001b[39m \u001b[38;5;124m'\u001b[39m\u001b[38;5;124m031245678\u001b[39m\u001b[38;5;124m'\u001b[39m\n",
      "\u001b[1;31mTypeError\u001b[0m: 'tuple' object does not support item assignment"
     ]
    }
   ],
   "source": [
    "bio_data_t[4] = '031245678' # tuple men data change nhi hota"
   ]
  },
  {
   "cell_type": "code",
   "execution_count": 103,
   "id": "ceaca349",
   "metadata": {},
   "outputs": [
    {
     "data": {
      "text/plain": [
       "5"
      ]
     },
     "execution_count": 103,
     "metadata": {},
     "output_type": "execute_result"
    }
   ],
   "source": [
    "bio_data_t.count(\"Waqas\")"
   ]
  },
  {
   "cell_type": "code",
   "execution_count": 105,
   "id": "ca37b4ae",
   "metadata": {},
   "outputs": [
    {
     "data": {
      "text/plain": [
       "0"
      ]
     },
     "execution_count": 105,
     "metadata": {},
     "output_type": "execute_result"
    }
   ],
   "source": [
    "bio_data_t.index(\"Waqas\")"
   ]
  },
  {
   "cell_type": "markdown",
   "id": "2370c6c5",
   "metadata": {},
   "source": [
    "### SET"
   ]
  },
  {
   "cell_type": "code",
   "execution_count": 106,
   "id": "675bf2a1",
   "metadata": {},
   "outputs": [],
   "source": [
    "name_list = [\"Waqas\",\"Waqas\",\"Muhammad Waqas\"]"
   ]
  },
  {
   "cell_type": "code",
   "execution_count": 107,
   "id": "7240daf4",
   "metadata": {},
   "outputs": [],
   "source": [
    "name_set = set(name_list)"
   ]
  },
  {
   "cell_type": "code",
   "execution_count": 108,
   "id": "57f3b46c",
   "metadata": {},
   "outputs": [
    {
     "data": {
      "text/plain": [
       "{'Muhammad Waqas', 'Waqas'}"
      ]
     },
     "execution_count": 108,
     "metadata": {},
     "output_type": "execute_result"
    }
   ],
   "source": [
    "name_set"
   ]
  },
  {
   "cell_type": "code",
   "execution_count": 109,
   "id": "d23e53eb",
   "metadata": {},
   "outputs": [],
   "source": [
    "set_a = {'a','b'}\n",
    "set_b = {'c','d'}\n",
    "universal_set = {'a','b','c','d'}"
   ]
  },
  {
   "cell_type": "code",
   "execution_count": 110,
   "id": "631d415e",
   "metadata": {},
   "outputs": [
    {
     "data": {
      "text/plain": [
       "{'a', 'b'}"
      ]
     },
     "execution_count": 110,
     "metadata": {},
     "output_type": "execute_result"
    }
   ],
   "source": [
    "universal_set.intersection(set_a)"
   ]
  },
  {
   "cell_type": "code",
   "execution_count": 114,
   "id": "a3d4b811",
   "metadata": {},
   "outputs": [],
   "source": [
    "universal_set.update([2]) "
   ]
  },
  {
   "cell_type": "code",
   "execution_count": 115,
   "id": "04ae02c7",
   "metadata": {},
   "outputs": [
    {
     "data": {
      "text/plain": [
       "{2, 'a', 'b', 'c', 'd', 'e'}"
      ]
     },
     "execution_count": 115,
     "metadata": {},
     "output_type": "execute_result"
    }
   ],
   "source": [
    "universal_set"
   ]
  },
  {
   "cell_type": "code",
   "execution_count": 116,
   "id": "6859089c",
   "metadata": {},
   "outputs": [
    {
     "data": {
      "text/plain": [
       "{2, 'c', 'd', 'e'}"
      ]
     },
     "execution_count": 116,
     "metadata": {},
     "output_type": "execute_result"
    }
   ],
   "source": [
    "universal_set.difference(set_a)"
   ]
  },
  {
   "cell_type": "code",
   "execution_count": 120,
   "id": "13c2759f",
   "metadata": {},
   "outputs": [],
   "source": [
    "universal_set.difference_update([2])"
   ]
  },
  {
   "cell_type": "code",
   "execution_count": 121,
   "id": "c9a18c33",
   "metadata": {},
   "outputs": [
    {
     "data": {
      "text/plain": [
       "{'a', 'b', 'c', 'd', 'e'}"
      ]
     },
     "execution_count": 121,
     "metadata": {},
     "output_type": "execute_result"
    }
   ],
   "source": [
    "universal_set"
   ]
  },
  {
   "cell_type": "markdown",
   "id": "99e5952e",
   "metadata": {},
   "source": [
    "### Task\n",
    "\n",
    "- Create a student tuple of names and apply all methods that we learn today\n",
    "- Create a student set of names and apply all method that we learn today"
   ]
  },
  {
   "cell_type": "code",
   "execution_count": 122,
   "id": "51527059",
   "metadata": {},
   "outputs": [
    {
     "data": {
      "text/plain": [
       "['Waqas',\n",
       " 'Sameer',\n",
       " 'Shoaib',\n",
       " 'Aayan',\n",
       " 'Harees',\n",
       " 'Rafay',\n",
       " 'Moiz',\n",
       " 'Sameer',\n",
       " 'Hamza']"
      ]
     },
     "execution_count": 122,
     "metadata": {},
     "output_type": "execute_result"
    }
   ],
   "source": [
    "Students"
   ]
  },
  {
   "cell_type": "code",
   "execution_count": 123,
   "id": "282cc3ea",
   "metadata": {},
   "outputs": [],
   "source": [
    "Students_new = tuple(Students)"
   ]
  },
  {
   "cell_type": "code",
   "execution_count": 124,
   "id": "8c76efeb",
   "metadata": {},
   "outputs": [
    {
     "data": {
      "text/plain": [
       "1"
      ]
     },
     "execution_count": 124,
     "metadata": {},
     "output_type": "execute_result"
    }
   ],
   "source": [
    "Students_new.index(\"Sameer\")"
   ]
  },
  {
   "cell_type": "code",
   "execution_count": 125,
   "id": "bd92bc65",
   "metadata": {},
   "outputs": [
    {
     "data": {
      "text/plain": [
       "1"
      ]
     },
     "execution_count": 125,
     "metadata": {},
     "output_type": "execute_result"
    }
   ],
   "source": [
    "Students_new.count(\"Moiz\")"
   ]
  },
  {
   "cell_type": "code",
   "execution_count": 126,
   "id": "2f77ba28",
   "metadata": {},
   "outputs": [],
   "source": [
    "set_a = {'a','b'}\n",
    "set_b = {'c','d'}\n",
    "universal_set = {'a','b','c','d','e','f','g'}"
   ]
  },
  {
   "cell_type": "code",
   "execution_count": 127,
   "id": "f61c93eb",
   "metadata": {},
   "outputs": [],
   "source": [
    "universal_set.add('h')"
   ]
  },
  {
   "cell_type": "code",
   "execution_count": 128,
   "id": "05035230",
   "metadata": {},
   "outputs": [
    {
     "data": {
      "text/plain": [
       "{'a', 'b', 'c', 'd', 'e', 'f', 'g', 'h'}"
      ]
     },
     "execution_count": 128,
     "metadata": {},
     "output_type": "execute_result"
    }
   ],
   "source": [
    "universal_set"
   ]
  },
  {
   "cell_type": "code",
   "execution_count": null,
   "id": "e6165ac6",
   "metadata": {},
   "outputs": [],
   "source": []
  }
 ],
 "metadata": {
  "kernelspec": {
   "display_name": "base",
   "language": "python",
   "name": "python3"
  },
  "language_info": {
   "codemirror_mode": {
    "name": "ipython",
    "version": 3
   },
   "file_extension": ".py",
   "mimetype": "text/x-python",
   "name": "python",
   "nbconvert_exporter": "python",
   "pygments_lexer": "ipython3",
   "version": "3.13.5"
  }
 },
 "nbformat": 4,
 "nbformat_minor": 5
}
