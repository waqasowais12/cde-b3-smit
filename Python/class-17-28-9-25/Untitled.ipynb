{
 "cells": [
  {
   "cell_type": "markdown",
   "id": "267578a1",
   "metadata": {},
   "source": [
    "### CSV FILE HANDLING"
   ]
  },
  {
   "cell_type": "code",
   "execution_count": 25,
   "id": "23960742-0b22-4981-8d23-a51c2b340ef7",
   "metadata": {},
   "outputs": [],
   "source": [
    "import csv"
   ]
  },
  {
   "cell_type": "code",
   "execution_count": 26,
   "id": "08d34338",
   "metadata": {},
   "outputs": [],
   "source": [
    "competitions = []\n",
    "with open ('./competitions.csv', 'r') as f:\n",
    "    content = csv.reader(f)\n",
    "    # print(content)\n",
    "    for line in content:\n",
    "        competitions.append(line)"
   ]
  },
  {
   "cell_type": "code",
   "execution_count": 27,
   "id": "0fdef4ec",
   "metadata": {},
   "outputs": [
    {
     "data": {
      "text/plain": [
       "[['Year', 'Event', 'Winner'],\n",
       " ['1995', 'Best-Kept Lawn', 'None'],\n",
       " ['1999', 'Gobstones', 'Welch Nationional'],\n",
       " ['2006', 'World Cup', 'Burkina Faso'],\n",
       " ['2012', 'Asia cup', 'Pakistan']]"
      ]
     },
     "execution_count": 27,
     "metadata": {},
     "output_type": "execute_result"
    }
   ],
   "source": [
    "competitions"
   ]
  },
  {
   "cell_type": "code",
   "execution_count": 32,
   "id": "499c7834",
   "metadata": {},
   "outputs": [],
   "source": [
    "year = []\n",
    "events = []\n",
    "winner = []\n",
    "with open ('./competitions.csv', 'r') as f:\n",
    "    content = csv.reader(f)\n",
    "    # print(content)\n",
    "    for line in content:\n",
    "        year.append(line[0])\n",
    "        events.append(line[1])\n",
    "        winner.append(line[2])\n"
   ]
  },
  {
   "cell_type": "code",
   "execution_count": 29,
   "id": "dafa58c1",
   "metadata": {},
   "outputs": [
    {
     "data": {
      "text/plain": [
       "(['Year', '1995', '1999', '2006', '2012'],\n",
       " ['Event', 'Best-Kept Lawn', 'Gobstones', 'World Cup', 'Asia cup'],\n",
       " ['Winner', 'None', 'Welch Nationional', 'Burkina Faso', 'Pakistan'])"
      ]
     },
     "execution_count": 29,
     "metadata": {},
     "output_type": "execute_result"
    }
   ],
   "source": [
    "year, events, winner"
   ]
  },
  {
   "cell_type": "code",
   "execution_count": 34,
   "id": "8d73aa92",
   "metadata": {},
   "outputs": [],
   "source": [
    "competitions = []\n",
    "with open('./competitions.csv',mode='a', newline='') as f:\n",
    "    data = csv.writer(f, delimiter=',')\n",
    "    data.writerows([['2009', 'T20 world cup', 'Pakistan'], ['2017', 'champions trophy', 'Pakistan']])"
   ]
  },
  {
   "cell_type": "code",
   "execution_count": 35,
   "id": "27275fed",
   "metadata": {},
   "outputs": [
    {
     "data": {
      "text/plain": [
       "<_csv.writer at 0x268144923e0>"
      ]
     },
     "execution_count": 35,
     "metadata": {},
     "output_type": "execute_result"
    }
   ],
   "source": [
    "data"
   ]
  },
  {
   "cell_type": "markdown",
   "id": "f7e93aec",
   "metadata": {},
   "source": [
    "### JSON FILE HANDLING"
   ]
  },
  {
   "cell_type": "code",
   "execution_count": 50,
   "id": "5fa66f6b",
   "metadata": {},
   "outputs": [],
   "source": [
    "import json"
   ]
  },
  {
   "cell_type": "code",
   "execution_count": 51,
   "id": "aa425ba7",
   "metadata": {},
   "outputs": [],
   "source": [
    "alphabets = [\"a\", \"b\", \"h\"]\n",
    "\n",
    "with open(\"./data.json\", 'a', newline='') as f:\n",
    "    json.dump(alphabets, f)"
   ]
  },
  {
   "cell_type": "code",
   "execution_count": 53,
   "id": "ee653e0c",
   "metadata": {},
   "outputs": [
    {
     "name": "stdout",
     "output_type": "stream",
     "text": [
      "['a', 'b', 'c']\n"
     ]
    }
   ],
   "source": [
    "with open(\"./data.json\", 'r') as f:\n",
    "    print(json.load(f))"
   ]
  },
  {
   "cell_type": "code",
   "execution_count": 54,
   "id": "8b32b778",
   "metadata": {},
   "outputs": [
    {
     "name": "stdout",
     "output_type": "stream",
     "text": [
      "{'name': 'John Doe', 'age': 30, 'email': 'john.doe@example.com', 'isActive': True, 'skills': ['JavaScript', 'HTML', 'CSS'], 'address': {'street': '123 Main St', 'city': 'Anytown', 'zip': '12345'}}\n"
     ]
    }
   ],
   "source": [
    "with open(\"./data.json\", 'r') as f:\n",
    "    print(json.load(f))"
   ]
  },
  {
   "cell_type": "code",
   "execution_count": null,
   "id": "3bf99135",
   "metadata": {},
   "outputs": [],
   "source": [
    "data = {\n",
    "  \"name\": \"John Doe\",\n",
    "  \"age\": 30,\n",
    "  \"email\": \"john.doe@example.com\",\n",
    "  \"isActive\": true,\n",
    "  \"skills\": [\"JavaScript\", \"HTML\", \"CSS\"],\n",
    "  \"address\": {\n",
    "    \"street\": \"123 Main St\",\n",
    "    \"city\": \"Anytown\",\n",
    "    \"zip\": \"12345\"\n",
    "  }\n",
    "}"
   ]
  },
  {
   "cell_type": "code",
   "execution_count": 63,
   "id": "a708b1f4",
   "metadata": {},
   "outputs": [],
   "source": [
    "with open(\"./data.json\", 'r') as f:\n",
    "    data = json.load(f)\n",
    "    data[\"weight\"] = 60"
   ]
  },
  {
   "cell_type": "code",
   "execution_count": 69,
   "id": "d5d3e815",
   "metadata": {},
   "outputs": [],
   "source": [
    "with open(\"./data.json\", 'w') as f:\n",
    "    json.dump(data, f)"
   ]
  },
  {
   "cell_type": "code",
   "execution_count": 70,
   "id": "9aa3c291",
   "metadata": {},
   "outputs": [
    {
     "data": {
      "text/plain": [
       "{'name': 'John Doe',\n",
       " 'age': 30,\n",
       " 'email': 'john.doe@example.com',\n",
       " 'isActive': True,\n",
       " 'skills': ['JavaScript', 'HTML', 'CSS'],\n",
       " 'address': {'street': '123 Main St', 'city': 'Anytown', 'zip': '12345'},\n",
       " 'weight': 60}"
      ]
     },
     "execution_count": 70,
     "metadata": {},
     "output_type": "execute_result"
    }
   ],
   "source": [
    "data"
   ]
  },
  {
   "cell_type": "code",
   "execution_count": 71,
   "id": "9d910a01",
   "metadata": {},
   "outputs": [],
   "source": [
    "with open(\"./data.json\", 'w') as f:\n",
    "    data['skills'] = ['SQL', 'Python', 'Data Engineer']\n",
    "    json.dump(data, f)"
   ]
  },
  {
   "cell_type": "code",
   "execution_count": 72,
   "id": "b07b5ffa",
   "metadata": {},
   "outputs": [
    {
     "data": {
      "text/plain": [
       "{'name': 'John Doe',\n",
       " 'age': 30,\n",
       " 'email': 'john.doe@example.com',\n",
       " 'isActive': True,\n",
       " 'skills': ['SQL', 'Python', 'Data Engineer'],\n",
       " 'address': {'street': '123 Main St', 'city': 'Anytown', 'zip': '12345'},\n",
       " 'weight': 60}"
      ]
     },
     "execution_count": 72,
     "metadata": {},
     "output_type": "execute_result"
    }
   ],
   "source": [
    "data"
   ]
  },
  {
   "cell_type": "markdown",
   "id": "4fa89a4e",
   "metadata": {},
   "source": [
    "### Error Handling:"
   ]
  },
  {
   "cell_type": "code",
   "execution_count": 76,
   "id": "49c3e0ee",
   "metadata": {},
   "outputs": [
    {
     "name": "stdout",
     "output_type": "stream",
     "text": [
      "Before try except\n",
      "process complete\n",
      "After try-except\n"
     ]
    }
   ],
   "source": [
    "print(\"Before try except\")\n",
    "\n",
    "try:\n",
    "    calculation = 5/5\n",
    "except Exception as e:\n",
    "    print(e)\n",
    "finally:\n",
    "    print('process complete')\n",
    "\n",
    "print(\"After try-except\")\n"
   ]
  },
  {
   "cell_type": "code",
   "execution_count": null,
   "id": "60050d6f",
   "metadata": {},
   "outputs": [],
   "source": []
  }
 ],
 "metadata": {
  "kernelspec": {
   "display_name": "base",
   "language": "python",
   "name": "python3"
  },
  "language_info": {
   "codemirror_mode": {
    "name": "ipython",
    "version": 3
   },
   "file_extension": ".py",
   "mimetype": "text/x-python",
   "name": "python",
   "nbconvert_exporter": "python",
   "pygments_lexer": "ipython3",
   "version": "3.13.5"
  }
 },
 "nbformat": 4,
 "nbformat_minor": 5
}
