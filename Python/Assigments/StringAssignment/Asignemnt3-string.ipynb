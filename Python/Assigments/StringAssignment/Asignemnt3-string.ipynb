{
 "cells": [
  {
   "cell_type": "markdown",
   "id": "220dad75-5009-41de-b237-5ea953a5eff0",
   "metadata": {},
   "source": [
    "## STRING ASSIGNMENT"
   ]
  },
  {
   "cell_type": "markdown",
   "id": "9fbca177",
   "metadata": {},
   "source": [
    "Q1. Write a program that accepts a string from user. Your program should count and display number of\n",
    "vowels in that string"
   ]
  },
  {
   "cell_type": "code",
   "execution_count": 1,
   "id": "9605205e",
   "metadata": {},
   "outputs": [
    {
     "name": "stdout",
     "output_type": "stream",
     "text": [
      "Number of vowels are in the employee is: 4\n"
     ]
    }
   ],
   "source": [
    "inp_str = input(\"Enter any string: \")\n",
    "splt_str = inp_str.split()\n",
    "vowels = ['a','e','i','o','u']\n",
    "count = 0\n",
    "for i in vowels:\n",
    "    for j in inp_str:\n",
    "        if i == j:\n",
    "            count += 1\n",
    "print(f\"Number of vowels are in the {inp_str} is: {count}\")\n"
   ]
  },
  {
   "cell_type": "markdown",
   "id": "0f8a6e87",
   "metadata": {},
   "source": [
    "Q2. Write a program that reads a string from keyboard and display:\n",
    "* The number of uppercase letters in the string\n",
    "* The number of lowercase letters in the string\n",
    "* The number of digits in the string\n",
    "* The number of whitespace characters in the string "
   ]
  },
  {
   "cell_type": "code",
   "execution_count": 3,
   "id": "6ae414a0",
   "metadata": {},
   "outputs": [
    {
     "name": "stdout",
     "output_type": "stream",
     "text": [
      "Digits in Hafiz Waqas12: 2\n",
      "Upper case letters in Hafiz Waqas12: 2\n",
      "Lower case letters in Hafiz Waqas12: 8\n",
      "White space in Hafiz Waqas12: 1\n"
     ]
    }
   ],
   "source": [
    "inp_str = input(\"Enter any string: \")\n",
    "upr_case = 0\n",
    "low_case = 0 \n",
    "dig = 0\n",
    "whitespace_chr = 0 \n",
    "for items in inp_str:\n",
    "    if items.isdigit():\n",
    "        dig += 1\n",
    "    elif items.isspace():\n",
    "        whitespace_chr += 1\n",
    "    elif items == items.upper():\n",
    "        upr_case += 1\n",
    "    elif items == items.lower():\n",
    "        low_case += 1\n",
    "print(f\"Digits in {inp_str}: {dig}\")\n",
    "print(f\"Upper case letters in {inp_str}: {upr_case}\")\n",
    "print(f\"Lower case letters in {inp_str}: {low_case}\")\n",
    "print(f\"White space in {inp_str}: {whitespace_chr}\")"
   ]
  },
  {
   "cell_type": "markdown",
   "id": "a89a7349",
   "metadata": {},
   "source": [
    "Q3. Write a Python program that accepts a string from user. Your program should create and display a\n",
    "new string where the first and last characters have been exchanged.\n",
    "For example if the user enters the string 'HELLO' then new string would be 'OELLH'"
   ]
  },
  {
   "cell_type": "code",
   "execution_count": 4,
   "id": "f49048e4",
   "metadata": {},
   "outputs": [
    {
     "name": "stdout",
     "output_type": "stream",
     "text": [
      "OELLH\n"
     ]
    }
   ],
   "source": [
    "inp_str = input(\"Enter any string: \")\n",
    "new_str = \"\"\n",
    "last_index = len(inp_str) - 1\n",
    "last = inp_str[last_index]\n",
    "first = inp_str[0]\n",
    "for i in range(len(inp_str)):\n",
    "    if inp_str[i] == first:\n",
    "        new_str += last\n",
    "    elif inp_str[i] == last:\n",
    "        new_str += first\n",
    "    else:\n",
    "        new_str += inp_str[i]\n",
    "print(new_str)"
   ]
  },
  {
   "cell_type": "markdown",
   "id": "185a866e",
   "metadata": {},
   "source": [
    "Q4. Write a Python program that accepts a string from user. Your program should create a new string in\n",
    "reverse of first string and display it."
   ]
  },
  {
   "cell_type": "code",
   "execution_count": 68,
   "id": "848542e7",
   "metadata": {},
   "outputs": [
    {
     "name": "stdout",
     "output_type": "stream",
     "text": [
      "Reverse string of EXAM is MAXE\n"
     ]
    }
   ],
   "source": [
    "inp_str = input(\"Enter any string: \")\n",
    "revers = \"\"\n",
    "\n",
    "for i in range(len(inp_str)-1,-1,-1):\n",
    "    revers += inp_str[i]\n",
    "print(f\"Reverse string of {inp_str} is {revers}\")"
   ]
  },
  {
   "cell_type": "markdown",
   "id": "541de14e",
   "metadata": {},
   "source": [
    "Q5. Write a Python program that accepts a string from user. Your program should create a new string by\n",
    "shifting one position to left.\n",
    "For example if the user enters the string 'examination 2021' then new string would be 'xamination\n",
    "2021e' \n"
   ]
  },
  {
   "cell_type": "code",
   "execution_count": 91,
   "id": "7888bcce",
   "metadata": {},
   "outputs": [
    {
     "name": "stdout",
     "output_type": "stream",
     "text": [
      "xamination 2021e\n"
     ]
    }
   ],
   "source": [
    "## using for loop\n",
    "\n",
    "inp_str = input(\"Enter any string: \")\n",
    "new_str = \"\"\n",
    "first = inp_str[0]\n",
    "for i in range(1,len(inp_str)):\n",
    "    new_str += inp_str[i]\n",
    "new_str += first\n",
    "print(new_str)"
   ]
  },
  {
   "cell_type": "code",
   "execution_count": 93,
   "id": "81b06fe3",
   "metadata": {},
   "outputs": [
    {
     "name": "stdout",
     "output_type": "stream",
     "text": [
      "xamination 2021e\n"
     ]
    }
   ],
   "source": [
    "## using slicing\n",
    "\n",
    "new_str = inp_str[1:] + inp_str[0]\n",
    "print(new_str)"
   ]
  },
  {
   "cell_type": "markdown",
   "id": "0d8686e5",
   "metadata": {},
   "source": [
    "Q6. Write a program that asks the user to input his name and print its initials. Assuming that the user\n",
    "always types first name, middle name and last name and does not include any unnecessary spaces.\n",
    "For example, if the user enters Ajay Kumar Garg the program should display A. K. G.\n",
    "Note:Don't use split() method \n"
   ]
  },
  {
   "cell_type": "code",
   "execution_count": null,
   "id": "00b625d9",
   "metadata": {},
   "outputs": [
    {
     "name": "stdout",
     "output_type": "stream",
     "text": [
      "M. W. K.\n"
     ]
    }
   ],
   "source": [
    "## using simple method\n",
    "\n",
    "inp_str = input(\"Enter first name, middle name and last name: \")\n",
    "new_str = inp_str[0] + \". \"\n",
    "for i in range(len(inp_str)):\n",
    "    if inp_str[i] == \" \" and i+1 < len(inp_str):\n",
    "        new_str += inp_str[i+1] + \". \"\n",
    "print(new_str.strip())"
   ]
  },
  {
   "cell_type": "code",
   "execution_count": null,
   "id": "0139f5ee",
   "metadata": {},
   "outputs": [
    {
     "name": "stdout",
     "output_type": "stream",
     "text": [
      "M. W. K.\n"
     ]
    }
   ],
   "source": [
    "## using comprhension\n",
    "\n",
    "inp_str = input(\"Enter first name, middle name and last name: \")\n",
    "new_str = \"\".join([ inp_str[0]+ \". \" ] + [inp_str[i+1] + \". \" for i in range(len(inp_str)) if inp_str[i] == \" \" and i+1 < len(inp_str)]).strip()\n",
    "print(new_str)"
   ]
  },
  {
   "cell_type": "markdown",
   "id": "3bfc9f39",
   "metadata": {},
   "source": [
    "Q7.  A palindrome is a string that reads the same backward as forward. For example, the words dad,\n",
    "madam and radar are all palindromes. Write a programs that determines whether the string is a\n",
    "palindrome.\n",
    "- Note: do not use reverse() method"
   ]
  },
  {
   "cell_type": "code",
   "execution_count": 119,
   "id": "421b10fa",
   "metadata": {},
   "outputs": [
    {
     "name": "stdout",
     "output_type": "stream",
     "text": [
      " wow is a palindrome string. And it's palindrome is wow\n"
     ]
    }
   ],
   "source": [
    "inp_str = input(\"Enter string to check palindrome: \")\n",
    "int_str_reverse = inp_str[::-1]\n",
    "if inp_str == int_str_reverse:\n",
    "    print(f\" {inp_str} is a palindrome string. And it's palindrome is {int_str_reverse}\")\n",
    "else:\n",
    "    print(f\"{inp_str} is not a palindrome string\")"
   ]
  },
  {
   "cell_type": "markdown",
   "id": "052859b0",
   "metadata": {},
   "source": [
    "8. Write a program that display following output:\n",
    "- SHIFT\n",
    "- HIFTS\n",
    "- IFTSH\n",
    "- FTSHI\n",
    "- TSHIF\n",
    "- SHIFT \n"
   ]
  },
  {
   "cell_type": "code",
   "execution_count": null,
   "id": "68ead6a5",
   "metadata": {},
   "outputs": [
    {
     "name": "stdout",
     "output_type": "stream",
     "text": [
      "SHIFT\n",
      "HIFTS\n",
      "IFTSH\n",
      "FTSHI\n",
      "TSHIF\n",
      "SHIFT\n"
     ]
    }
   ],
   "source": [
    "## Method 1 using loop\n",
    "\n",
    "inp = \"SHIFT\"\n",
    "new_str = inp\n",
    "print(new_str)\n",
    "for i in range(len(new_str)):\n",
    "    new_str = new_str[1:] + new_str[0]\n",
    "    print(new_str)"
   ]
  },
  {
   "cell_type": "code",
   "execution_count": 147,
   "id": "3cfb6199",
   "metadata": {},
   "outputs": [
    {
     "name": "stdout",
     "output_type": "stream",
     "text": [
      "SHIFT\n",
      "HIFTS\n",
      "HIFTS\n",
      "HIFTS\n",
      "HIFTS\n",
      "HIFTS\n"
     ]
    }
   ],
   "source": [
    "inp = \"SHIFT\"\n",
    "new_str = inp\n",
    "print(new_str)\n",
    "\n",
    "new_str = [inp[1:] + inp[0] for i in range(len(inp))]\n",
    "\n",
    "for new in new_str:\n",
    "    print(new)\n"
   ]
  },
  {
   "cell_type": "code",
   "execution_count": null,
   "id": "deb8a4d1",
   "metadata": {},
   "outputs": [
    {
     "name": "stdout",
     "output_type": "stream",
     "text": [
      "SHIFT\n",
      "HIFTS\n",
      "IFTSH\n",
      "FTSHI\n",
      "TSHIF\n",
      "SHIFT\n"
     ]
    }
   ],
   "source": [
    "## Method 2 using loop\n",
    "inp = \"SHIFT\"\n",
    " \n",
    "for i in range(len(inp)+1):\n",
    "    rotate = inp[i:] + inp[:i]\n",
    "    print(rotate)"
   ]
  },
  {
   "cell_type": "code",
   "execution_count": null,
   "id": "35ce2ff7",
   "metadata": {},
   "outputs": [
    {
     "name": "stdout",
     "output_type": "stream",
     "text": [
      "SHIFT\n",
      "HIFTS\n",
      "IFTSH\n",
      "FTSHI\n",
      "TSHIF\n",
      "SHIFT\n"
     ]
    }
   ],
   "source": [
    "## Method 2 using comprehension\n",
    "\n",
    "inp = \"SHIFT\"\n",
    "\n",
    "new_str = [inp[i:] + inp[:i] for i in range(len(inp)+1)]\n",
    "\n",
    "for new in new_str:\n",
    "    print(new)"
   ]
  },
  {
   "cell_type": "markdown",
   "id": "34486416",
   "metadata": {},
   "source": [
    "Q9. Write a program in python that accepts a string to setup a passwords. Your entered password must\n",
    "meet the following requirements:\n",
    "- The password must be at least eight characters long.\n",
    "- It must contain at least one uppercase letter.\n",
    "- It must contain at least one lowercase letter.\n",
    "- It must contain at least one numeric digit.\n",
    "- Your program should should perform this validation. "
   ]
  },
  {
   "cell_type": "code",
   "execution_count": 181,
   "id": "2c9cc726",
   "metadata": {},
   "outputs": [
    {
     "name": "stdout",
     "output_type": "stream",
     "text": [
      "Password must contain 8 char long\n"
     ]
    }
   ],
   "source": [
    "password = input(\"Enter password: \")\n",
    "upper = False\n",
    "lower = False\n",
    "digit = False\n",
    "for i in password:\n",
    "    if i.isupper():\n",
    "        upper = True\n",
    "    if i.islower():\n",
    "        lower = True\n",
    "    if i.isdigit():\n",
    "        digit = True\n",
    "\n",
    "if len(password) >= 8:\n",
    "    if upper == True:\n",
    "        if lower == True:\n",
    "            if digit == True:\n",
    "                print(\"Valid Password\")\n",
    "            else:\n",
    "                print(\"Atleast one numeric digit\")\n",
    "        else:\n",
    "            print(\"Atleast one lower case char\")\n",
    "    else:\n",
    "        print(\"Atleast one upper case char\")\n",
    "else:\n",
    "    print(\"Password must contain 8 char long\")\n"
   ]
  }
 ],
 "metadata": {
  "kernelspec": {
   "display_name": "base",
   "language": "python",
   "name": "python3"
  },
  "language_info": {
   "codemirror_mode": {
    "name": "ipython",
    "version": 3
   },
   "file_extension": ".py",
   "mimetype": "text/x-python",
   "name": "python",
   "nbconvert_exporter": "python",
   "pygments_lexer": "ipython3",
   "version": "3.13.5"
  }
 },
 "nbformat": 4,
 "nbformat_minor": 5
}
