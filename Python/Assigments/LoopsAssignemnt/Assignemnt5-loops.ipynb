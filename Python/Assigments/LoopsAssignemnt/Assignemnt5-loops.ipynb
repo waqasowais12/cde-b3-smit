{
 "cells": [
  {
   "cell_type": "markdown",
   "id": "0d78b901-e494-41e2-ab17-c948c160b4e3",
   "metadata": {},
   "source": [
    "LOOPS ASSIGNMENT"
   ]
  },
  {
   "cell_type": "markdown",
   "id": "fbb57f7a",
   "metadata": {},
   "source": [
    "Q1. Write a Python program to print the numbers from 1 to 10 using a for loop."
   ]
  },
  {
   "cell_type": "code",
   "execution_count": 5,
   "id": "41bfcab1",
   "metadata": {},
   "outputs": [
    {
     "name": "stdout",
     "output_type": "stream",
     "text": [
      "1\n",
      "2\n",
      "3\n",
      "4\n",
      "5\n",
      "6\n",
      "7\n",
      "8\n",
      "9\n",
      "10\n",
      "starting point:  1\n",
      "ending point:  10\n"
     ]
    }
   ],
   "source": [
    "start = int(input(\"Enter starting point: \"))\n",
    "end = int(input(\"Enter ending point: \"))\n",
    "[print(i) for i in range(start,end+1)]\n",
    "print(\"starting point: \", start)\n",
    "print(\"ending point: \", end)"
   ]
  },
  {
   "cell_type": "markdown",
   "id": "94711229",
   "metadata": {},
   "source": [
    "Q2. Write a Python program to print the numbers from 20 to 1 using a while loop."
   ]
  },
  {
   "cell_type": "code",
   "execution_count": 15,
   "id": "0abf4118",
   "metadata": {},
   "outputs": [
    {
     "name": "stdout",
     "output_type": "stream",
     "text": [
      "20\n",
      "19\n",
      "18\n",
      "17\n",
      "16\n",
      "15\n",
      "14\n",
      "13\n",
      "12\n",
      "11\n",
      "10\n",
      "9\n",
      "8\n",
      "7\n",
      "6\n",
      "5\n",
      "4\n",
      "3\n",
      "2\n",
      "1\n"
     ]
    }
   ],
   "source": [
    "countt = 20\n",
    "while countt > 0:\n",
    "    print(countt)\n",
    "    countt -= 1"
   ]
  },
  {
   "cell_type": "markdown",
   "id": "18b5eb46",
   "metadata": {},
   "source": [
    "Q3. Write a program to print even numbers from 1 to 10."
   ]
  },
  {
   "cell_type": "code",
   "execution_count": 29,
   "id": "addcda39",
   "metadata": {},
   "outputs": [
    {
     "name": "stdout",
     "output_type": "stream",
     "text": [
      "even numbers:  [2, 4, 6, 8, 10]\n"
     ]
    }
   ],
   "source": [
    "num = [1,2,3,4,5,6,7,8,9,10]\n",
    "even_number = [i for i in num if i%2 == 0]\n",
    "    \n",
    "print(\"even numbers: \", even_number)       "
   ]
  },
  {
   "cell_type": "markdown",
   "id": "44cb3365",
   "metadata": {},
   "source": [
    "Q4. Write a program that prompts the user to enter a number n and prints all the\n",
    "numbers from 1 to n. \n"
   ]
  },
  {
   "cell_type": "code",
   "execution_count": 25,
   "id": "83b4f245",
   "metadata": {},
   "outputs": [
    {
     "name": "stdout",
     "output_type": "stream",
     "text": [
      "[1, 2, 3, 4, 5, 6, 7, 8, 9, 10, 11, 12, 13, 14, 15]\n"
     ]
    }
   ],
   "source": [
    "n_number = int(input(\"Enter range of number: \"))\n",
    "\n",
    "l = [ i for i in range(1,n_number+1)]\n",
    "print(l)"
   ]
  },
  {
   "cell_type": "markdown",
   "id": "1d6f3d1b",
   "metadata": {},
   "source": [
    "Q5. Write a program that prompts the user to enter a number n, and then prints all the\n",
    "odd numbers between 1 and n."
   ]
  },
  {
   "cell_type": "code",
   "execution_count": 27,
   "id": "3008a574",
   "metadata": {},
   "outputs": [
    {
     "name": "stdout",
     "output_type": "stream",
     "text": [
      "Odd numbers:  [1, 3, 5, 7, 9, 11, 13, 15]\n"
     ]
    }
   ],
   "source": [
    "n_number = int(input(\"Enter any number: \"))\n",
    "odd_num = [i for i in range(1,n_number+1) if i %2 != 0 ]\n",
    "print(\"Odd numbers: \", odd_num)"
   ]
  },
  {
   "cell_type": "markdown",
   "id": "86bfd73e",
   "metadata": {},
   "source": [
    "Q6. Write a program that prints 'Happy Birthday!' five times on screen."
   ]
  },
  {
   "cell_type": "code",
   "execution_count": 31,
   "id": "e8605010",
   "metadata": {},
   "outputs": [
    {
     "name": "stdout",
     "output_type": "stream",
     "text": [
      "['Happy Birthday', 'Happy Birthday', 'Happy Birthday', 'Happy Birthday', 'Happy Birthday']\n"
     ]
    }
   ],
   "source": [
    "h_b = \"Happy Birthday\"\n",
    "l = [h_b for i in range(5)]\n",
    "print(l)"
   ]
  },
  {
   "cell_type": "markdown",
   "id": "37fa74e1",
   "metadata": {},
   "source": [
    "Q7. Write a program that takes a number n as input from the user and generates the first\n",
    "n terms of the series formed by squaring the natural numbers."
   ]
  },
  {
   "cell_type": "code",
   "execution_count": 42,
   "id": "a73d274c",
   "metadata": {},
   "outputs": [
    {
     "name": "stdout",
     "output_type": "stream",
     "text": [
      "[1, 4, 9, 16, 25, 36]\n"
     ]
    }
   ],
   "source": [
    "n_number = int(input(\"Enter n numbers: \"))\n",
    "l = [i*i for i in range(1,n_number+1)]\n",
    "\n",
    "print(l)"
   ]
  },
  {
   "cell_type": "markdown",
   "id": "6c500514",
   "metadata": {},
   "source": [
    "Q8. Write a program that prompts the user to input a number and prints its multiplication\n",
    "table. "
   ]
  },
  {
   "cell_type": "code",
   "execution_count": 48,
   "id": "42cf6b4b",
   "metadata": {},
   "outputs": [
    {
     "name": "stdout",
     "output_type": "stream",
     "text": [
      " 2 * 1 = 2 \n",
      " 2 * 2 = 4 \n",
      " 2 * 3 = 6 \n",
      " 2 * 4 = 8 \n",
      " 2 * 5 = 10 \n",
      " 2 * 6 = 12 \n",
      " 2 * 7 = 14 \n",
      " 2 * 8 = 16 \n",
      " 2 * 9 = 18 \n",
      " 2 * 10 = 20 \n"
     ]
    }
   ],
   "source": [
    "n_number = int(input(\"Enter table number to print: \"))\n",
    "\n",
    "l = \"\\n\".join([f\" {n_number} * {i} = {i*n_number} \" for i in range(1,10+1)])\n",
    "print(l)"
   ]
  },
  {
   "cell_type": "markdown",
   "id": "224cd435",
   "metadata": {},
   "source": [
    "Q9. Write a Python program to print the first 8 terms of an arithmetic progression starting\n",
    "with 3 and having a common difference of 4.\n",
    "The program should output the following sequence:\n",
    "3 7 11 15 19 23 27 31 "
   ]
  },
  {
   "cell_type": "code",
   "execution_count": 53,
   "id": "e0f5508d",
   "metadata": {},
   "outputs": [
    {
     "name": "stdout",
     "output_type": "stream",
     "text": [
      "3\n",
      "7\n",
      "11\n",
      "15\n",
      "19\n",
      "23\n",
      "27\n",
      "31\n"
     ]
    }
   ],
   "source": [
    "arith_prog = 3\n",
    "for i in range(1,9):\n",
    "    print(arith_prog)\n",
    "    arith_prog += 4"
   ]
  },
  {
   "cell_type": "markdown",
   "id": "70aab466",
   "metadata": {},
   "source": [
    "Q10. Write a Python program to print the first 6 terms of a geometric sequence starting\n",
    "with 2 and having a common ratio of 3.\n",
    "The program should output the following sequence:\n",
    "2 6 18 54 162 486 "
   ]
  },
  {
   "cell_type": "code",
   "execution_count": 55,
   "id": "335f70a6",
   "metadata": {},
   "outputs": [
    {
     "name": "stdout",
     "output_type": "stream",
     "text": [
      "2\n",
      "6\n",
      "18\n",
      "54\n",
      "162\n",
      "486\n"
     ]
    }
   ],
   "source": [
    "geo_seq = 2\n",
    "for i in range(1,7):\n",
    "    print(geo_seq)\n",
    "    geo_seq *= 3"
   ]
  },
  {
   "cell_type": "markdown",
   "id": "6519627c",
   "metadata": {},
   "source": [
    "Q11. Write a program that asks the user for a positive integer value. The program should\n",
    "calculate the sum of all the integers from 1 up to the number entered. For example, if\n",
    "the user enters 20, the loop will find the sum of 1, 2, 3, 4, ... 20. \n"
   ]
  },
  {
   "cell_type": "code",
   "execution_count": null,
   "id": "d6258e31",
   "metadata": {},
   "outputs": [
    {
     "name": "stdout",
     "output_type": "stream",
     "text": [
      "sum of from 1 to 20 is: 210 \n"
     ]
    }
   ],
   "source": [
    "pos_int_val = int(input(\"Enter any positive integer: \"))\n",
    "summ = 0\n",
    "for i in range(pos_int_val):\n",
    "    summ += i+1\n",
    "print(f\"sum of from 1 to {pos_int_val} is: {summ} \")"
   ]
  },
  {
   "cell_type": "markdown",
   "id": "f1d4a472",
   "metadata": {},
   "source": [
    "Q12. write a program that takes a positive integer N as input and calculates the sum of\n",
    "the reciprocals of all numbers from 1 up to N. The program should display the final sum.\n",
    "- Output of the program should be like:\n",
    "- Enter a positive integer: 5\n",
    "- The sum of reciprocals from 1 to 5 is: 2.28"
   ]
  },
  {
   "cell_type": "code",
   "execution_count": 142,
   "id": "ff6ee3b6",
   "metadata": {},
   "outputs": [
    {
     "name": "stdout",
     "output_type": "stream",
     "text": [
      "2.283333333333333\n"
     ]
    }
   ],
   "source": [
    "n_number = int(input(\"Enter positive integer: \"))\n",
    "reci = 0\n",
    "for i in range(1,n_number+1):\n",
    "    reci += 1/i\n",
    "print(reci)"
   ]
  },
  {
   "cell_type": "markdown",
   "id": "696bac93",
   "metadata": {},
   "source": [
    "Q13. Write a program that prompts the user to enter a number and repeats this process 5\n",
    "times. The program should accumulate the numbers entered and then display the final running total.\n",
    "- Sample Output:\n",
    "- Enter a number: 10\n",
    "- Enter a number: 15\n",
    "- Enter a number: 35\n",
    "- Enter a number: 40\n",
    "- Enter a number: 50\n",
    "- The final running total is: 150 "
   ]
  },
  {
   "cell_type": "code",
   "execution_count": 78,
   "id": "fd9b90a7",
   "metadata": {},
   "outputs": [
    {
     "name": "stdout",
     "output_type": "stream",
     "text": [
      "Enter a number:  10\n",
      "Enter a number:  15\n",
      "Enter a number:  35\n",
      "Enter a number:  40\n",
      "Enter a number:  50\n",
      "The final running total is:  150\n"
     ]
    }
   ],
   "source": [
    "total = 0\n",
    "for i in range(5):\n",
    "    n_number = int(input(\"Enter a number: \"))\n",
    "    print(\"Enter a number: \", n_number)\n",
    "    total += n_number\n",
    "print(\"The final running total is: \", total)"
   ]
  },
  {
   "cell_type": "markdown",
   "id": "448524e6",
   "metadata": {},
   "source": [
    "Q14. Write a program that prompts the user to enter a positive integer and calculates its\n",
    "factorial. The factorial of a positive integer 'n' is denoted as 'n!' and is calculated by\n",
    "multiplying all the integers from 1 to 'n' together. For example, the factorial of 5\n",
    "(denoted as 5!) is calculated as 1 x 2 x 3 x 4 x 5.\n",
    "\n",
    "The program should display the factorial value if the input is a positive number, or\n",
    "display a message stating that the factorial does not exist for negative numbers.\n",
    "Additionally, for an input of zero, the program should output that the factorial of 0 is 1. "
   ]
  },
  {
   "cell_type": "code",
   "execution_count": 141,
   "id": "c464b40e",
   "metadata": {},
   "outputs": [
    {
     "name": "stdout",
     "output_type": "stream",
     "text": [
      "Factorial of 5 is:  120\n"
     ]
    }
   ],
   "source": [
    "pos_int = int(input(\"Enter any positive integer: \"))\n",
    "fac = 1\n",
    "\n",
    "if pos_int == 1 or pos_int == 0:\n",
    "    print(f\"factorial of {pos_int} is 1. \")\n",
    "elif pos_int > 1:\n",
    "    for i in range(1,pos_int+1):\n",
    "        fac = fac * i\n",
    "    print(f\"Factorial of {pos_int} is: \", fac)\n",
    "elif pos_int < 0:\n",
    "    print(\"factorial does not exist for negative numbers. \")"
   ]
  },
  {
   "cell_type": "markdown",
   "id": "565118c5",
   "metadata": {},
   "source": [
    "Q15. Write a Python program that prompts the user to enter a base number and an\n",
    "exponent, and then calculates the power of the base to the exponent. The program\n",
    "should not use the exponentiation operator (**) or the math.pow() function. The\n",
    "program should handle both positive and negative exponents. "
   ]
  },
  {
   "cell_type": "code",
   "execution_count": 172,
   "id": "56fde506",
   "metadata": {},
   "outputs": [
    {
     "name": "stdout",
     "output_type": "stream",
     "text": [
      "Calculated result of base = 2 and exponent = -2 is: 0.25\n"
     ]
    }
   ],
   "source": [
    "base = int(input(\"Enter base: \"))\n",
    "exp = int(input(\"Enter exponent: \"))\n",
    "cal = 1 \n",
    "cal1 = 0\n",
    "\n",
    "if exp < 0:\n",
    "    positive = abs(exp)\n",
    "    for i in range(1,positive+1):\n",
    "       cal *= base\n",
    "    cal1  = 1/cal\n",
    "    print(f\"Calculated result of base = {base} and exponent = {exp} is: {cal1}\")\n",
    "elif exp == 0:\n",
    "    print(f\"Calculated result of base = {base} and exponent = {exp} is: 1\")\n",
    "elif exp > 0:\n",
    "    for i in range(1,exp+1):\n",
    "        cal *= base\n",
    "    print(f\"Calculated result of base = {base} and exponent = {exp} is: {cal}\")\n",
    "\n",
    "\n"
   ]
  }
 ],
 "metadata": {
  "kernelspec": {
   "display_name": "base",
   "language": "python",
   "name": "python3"
  },
  "language_info": {
   "codemirror_mode": {
    "name": "ipython",
    "version": 3
   },
   "file_extension": ".py",
   "mimetype": "text/x-python",
   "name": "python",
   "nbconvert_exporter": "python",
   "pygments_lexer": "ipython3",
   "version": "3.13.5"
  }
 },
 "nbformat": 4,
 "nbformat_minor": 5
}
