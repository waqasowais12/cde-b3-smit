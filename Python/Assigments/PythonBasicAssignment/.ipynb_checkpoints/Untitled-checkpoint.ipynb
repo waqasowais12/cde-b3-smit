{
 "cells": [
  {
   "cell_type": "code",
   "execution_count": null,
   "id": "c4065d7e-cb46-4b34-9b3f-829c00c1d988",
   "metadata": {},
   "outputs": [],
   "source": []
  }
 ],
 "metadata": {
  "kernelspec": {
   "display_name": "Python 3 (ipykernel)",
   "language": "python",
   "name": "python3"
  },
  "language_info": {
   "codemirror_mode": {
    "name": "ipython",
    "version": 3
   },
   "file_extension": ".py",
   "mimetype": "text/x-python",
   "name": "python",
   "nbconvert_exporter": "python",
   "pygments_lexer": "ipython3",
   "version": "3.13.5"
  }
 },
 "nbformat": 4,
 "nbformat_minor": 5
}
