{
 "cells": [
  {
   "cell_type": "markdown",
   "id": "c4065d7e-cb46-4b34-9b3f-829c00c1d988",
   "metadata": {},
   "source": [
    "## PYTHON BASIC ASSIGNMENT"
   ]
  },
  {
   "cell_type": "markdown",
   "id": "e13f6417",
   "metadata": {},
   "source": [
    "### Q1. Print Your Name with your Father name and Date of birth using suitable escape sequence charactor"
   ]
  },
  {
   "cell_type": "code",
   "execution_count": 2,
   "id": "460d0077",
   "metadata": {},
   "outputs": [
    {
     "name": "stdout",
     "output_type": "stream",
     "text": [
      "Name: Hafiz Muhammad Waqas\n",
      "Father's name: Muhammad Owais\n",
      "Date of birth: 22-Nov-2002\n"
     ]
    }
   ],
   "source": [
    "name = \"Hafiz Muhammad Waqas\"\n",
    "father_name = \"Muhammad Owais\"\n",
    "d_o_b = \"22-Nov-2002\"\n",
    "\n",
    "print(f\"Name: {name}\\nFather's name: {father_name}\\nDate of birth: {d_o_b}\")"
   ]
  },
  {
   "cell_type": "markdown",
   "id": "3bec4b48",
   "metadata": {},
   "source": [
    "### Q2. Write your small bio using variables and print it using print function"
   ]
  },
  {
   "cell_type": "code",
   "execution_count": 3,
   "id": "5d3837aa",
   "metadata": {},
   "outputs": [
    {
     "name": "stdout",
     "output_type": "stream",
     "text": [
      "Hafiz Muhammad Waqas\n",
      "23\n",
      "Karachi\n",
      "Software engineering\n"
     ]
    }
   ],
   "source": [
    "name = \"Hafiz Muhammad Waqas\"\n",
    "age = 23\n",
    "city = \"Karachi\"\n",
    "major = \"Software engineering\"\n",
    "\n",
    "print(f\"{name}\\n{age}\\n{city}\\n{major}\")"
   ]
  },
  {
   "cell_type": "markdown",
   "id": "727de5a3",
   "metadata": {},
   "source": [
    "Q3. Write a program in which use all the operators we can use in Python"
   ]
  },
  {
   "cell_type": "code",
   "execution_count": 4,
   "id": "c0c8a825",
   "metadata": {},
   "outputs": [
    {
     "name": "stdout",
     "output_type": "stream",
     "text": [
      "Arithmetic:\n",
      "a + b = 13\n",
      "a - b = 7\n",
      "a * b = 30\n",
      "a / b = 3.3333333333333335\n",
      "a % b = 1\n",
      "a // b = 3\n",
      "a ** b = 1000\n",
      "\n",
      "Comparison:\n",
      "a == b: False\n",
      "a != b: True\n",
      "a > b: True\n",
      "a < b: False\n",
      "a >= b: True\n",
      "a <= b: False\n",
      "\n",
      "Assignment:\n",
      "x after += 2: 7\n",
      "x after -= 1: 6\n",
      "x after *= 3: 18\n",
      "x after /= 2: 9.0\n",
      "x after %= 3: 0.0\n",
      "x after //= 2: 0.0\n",
      "x after **= 2: 0.0\n",
      "\n",
      "Logical:\n",
      "True and False: False\n",
      "True or False: True\n",
      "not True: False\n"
     ]
    }
   ],
   "source": [
    "# 1. Arithmetic Operators\n",
    "a, b = 10, 3\n",
    "print(\"Arithmetic:\")\n",
    "print(\"a + b =\", a + b)\n",
    "print(\"a - b =\", a - b)\n",
    "print(\"a * b =\", a * b)\n",
    "print(\"a / b =\", a / b)\n",
    "print(\"a % b =\", a % b)\n",
    "print(\"a // b =\", a // b)\n",
    "print(\"a ** b =\", a ** b)\n",
    "\n",
    "# 2. Comparison Operators\n",
    "print(\"\\nComparison:\")\n",
    "print(\"a == b:\", a == b)\n",
    "print(\"a != b:\", a != b)\n",
    "print(\"a > b:\", a > b)\n",
    "print(\"a < b:\", a < b)\n",
    "print(\"a >= b:\", a >= b)\n",
    "print(\"a <= b:\", a <= b)\n",
    "\n",
    "# 3. Assignment Operators\n",
    "print(\"\\nAssignment:\")\n",
    "x = 5\n",
    "x += 2; print(\"x after += 2:\", x)\n",
    "x -= 1; print(\"x after -= 1:\", x)\n",
    "x *= 3; print(\"x after *= 3:\", x)\n",
    "x /= 2; print(\"x after /= 2:\", x)\n",
    "x %= 3; print(\"x after %= 3:\", x)\n",
    "x //= 2; print(\"x after //= 2:\", x)\n",
    "x **= 2; print(\"x after **= 2:\", x)\n",
    "\n",
    "# 4. Logical Operators\n",
    "print(\"\\nLogical:\")\n",
    "print(\"True and False:\", True and False)\n",
    "print(\"True or False:\", True or False)\n",
    "print(\"not True:\", not True)"
   ]
  },
  {
   "cell_type": "markdown",
   "id": "48f386e8",
   "metadata": {},
   "source": [
    "### Q4. Completes the following steps of small task:\n",
    "- Mention Marks of English , Islamiat and Maths out of 100 in 3 different variables\n",
    "- Mention Variable of Total Marks and assign 300 to it\n",
    "- Calculate Percentage"
   ]
  },
  {
   "cell_type": "code",
   "execution_count": 7,
   "id": "fa9f2974",
   "metadata": {},
   "outputs": [
    {
     "name": "stdout",
     "output_type": "stream",
     "text": [
      "calculated percentage: 91%\n"
     ]
    }
   ],
   "source": [
    "mathematics = 94\n",
    "islamiat = 95\n",
    "english = 86\n",
    "total = 300\n",
    "obtained_marks = mathematics + islamiat + english\n",
    "percentage = (100*obtained_marks)//300\n",
    "print(f\"calculated percentage: {percentage}%\")"
   ]
  }
 ],
 "metadata": {
  "kernelspec": {
   "display_name": "base",
   "language": "python",
   "name": "python3"
  },
  "language_info": {
   "codemirror_mode": {
    "name": "ipython",
    "version": 3
   },
   "file_extension": ".py",
   "mimetype": "text/x-python",
   "name": "python",
   "nbconvert_exporter": "python",
   "pygments_lexer": "ipython3",
   "version": "3.13.5"
  }
 },
 "nbformat": 4,
 "nbformat_minor": 5
}
