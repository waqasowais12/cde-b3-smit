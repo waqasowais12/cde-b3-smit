{
 "cells": [
  {
   "cell_type": "markdown",
   "id": "88838d85-7413-4a1a-a35c-ebf205d5fd5a",
   "metadata": {},
   "source": [
    "## Functions"
   ]
  },
  {
   "cell_type": "code",
   "execution_count": 1,
   "id": "ddcac8c7",
   "metadata": {},
   "outputs": [],
   "source": [
    "def add(num1, num2):\n",
    "    return num1+num2"
   ]
  },
  {
   "cell_type": "markdown",
   "id": "a9aebb85",
   "metadata": {},
   "source": [
    "## Lambda Function\n",
    "\n",
    "- without name\n",
    "- never been called before or after"
   ]
  },
  {
   "cell_type": "markdown",
   "id": "646b7f1e",
   "metadata": {},
   "source": [
    "filter()"
   ]
  },
  {
   "cell_type": "code",
   "execution_count": 2,
   "id": "22a7bcc6",
   "metadata": {},
   "outputs": [],
   "source": [
    "## lambda <parameters> : <expression> (true if else false)\n",
    "criteria = lambda marks: \"pass\" if marks> 50 else \"fail\""
   ]
  },
  {
   "cell_type": "code",
   "execution_count": 3,
   "id": "177ea34f",
   "metadata": {},
   "outputs": [
    {
     "data": {
      "text/plain": [
       "'pass'"
      ]
     },
     "execution_count": 3,
     "metadata": {},
     "output_type": "execute_result"
    }
   ],
   "source": [
    "criteria(51)"
   ]
  },
  {
   "cell_type": "code",
   "execution_count": 4,
   "id": "7c016618",
   "metadata": {},
   "outputs": [
    {
     "data": {
      "text/plain": [
       "'fail'"
      ]
     },
     "execution_count": 4,
     "metadata": {},
     "output_type": "execute_result"
    }
   ],
   "source": [
    "criteria(49)"
   ]
  },
  {
   "cell_type": "markdown",
   "id": "08713aee",
   "metadata": {},
   "source": [
    "### builtin function\n",
    "- map()\n",
    "- filter()\n",
    "- any()\n",
    "- all()\n",
    "\n",
    "### aggresgassion\n",
    "- sum()\n",
    "- max()\n",
    "- min()\n",
    "\n",
    "### importable function\n",
    "\n",
    "- reduce()\n",
    "\n",
    "### Assignment\n",
    "- sorted()"
   ]
  },
  {
   "cell_type": "markdown",
   "id": "269e7a67",
   "metadata": {},
   "source": [
    "## Classes"
   ]
  },
  {
   "cell_type": "code",
   "execution_count": 96,
   "id": "e8d3de4d",
   "metadata": {},
   "outputs": [],
   "source": [
    "class Saylani():\n",
    "\n",
    "    helpline = '0900078601' # static\n",
    "    obj_count = 0\n",
    "\n",
    "    def __init__(self, campus, staff_count, courses_count):\n",
    "        self.campus = campus  # Attributes\n",
    "        self.staff_count = staff_count\n",
    "        self.courses_count = courses_count\n",
    "        saylani.obj_count += 1\n",
    "\n",
    "    @staticmethod\n",
    "    def details(self, courses: list): # methods\n",
    "        print(f\"{self.campus} have a staff of {self.staff_count} and courses are {self.courses_count}\")\n",
    "        map(lambda course: course, courses)\n",
    "        print(*courses)\n",
    "\n",
    "    @staticmethod\n",
    "    def facilities():\n",
    "        print(\"Medical also\")"
   ]
  },
  {
   "cell_type": "code",
   "execution_count": null,
   "id": "e72ffad9",
   "metadata": {},
   "outputs": [],
   "source": [
    "za = Saylani(\"ZA IT park\", 10, 5)"
   ]
  },
  {
   "cell_type": "code",
   "execution_count": 84,
   "id": "6241fa7e",
   "metadata": {},
   "outputs": [
    {
     "data": {
      "text/plain": [
       "1"
      ]
     },
     "execution_count": 84,
     "metadata": {},
     "output_type": "execute_result"
    }
   ],
   "source": [
    "za.obj_count"
   ]
  },
  {
   "cell_type": "code",
   "execution_count": 85,
   "id": "e5ba0600",
   "metadata": {},
   "outputs": [
    {
     "name": "stdout",
     "output_type": "stream",
     "text": [
      "ZA IT park have a staff of 10 and courses are 5\n",
      "SEO SR\n"
     ]
    }
   ],
   "source": [
    "za.details(['SEO', \"SR\"])"
   ]
  },
  {
   "cell_type": "code",
   "execution_count": null,
   "id": "e1acd070",
   "metadata": {},
   "outputs": [],
   "source": [
    "bhd = Saylani(\"Bahadrabaad\", 11, 7)"
   ]
  },
  {
   "cell_type": "code",
   "execution_count": 87,
   "id": "eae23b55",
   "metadata": {},
   "outputs": [
    {
     "data": {
      "text/plain": [
       "2"
      ]
     },
     "execution_count": 87,
     "metadata": {},
     "output_type": "execute_result"
    }
   ],
   "source": [
    "bhd.obj_count"
   ]
  },
  {
   "cell_type": "code",
   "execution_count": 91,
   "id": "5f4c3afe",
   "metadata": {},
   "outputs": [
    {
     "name": "stdout",
     "output_type": "stream",
     "text": [
      "Bahadrabaad have a staff of 11 and courses are 7\n",
      "SEO SR\n"
     ]
    }
   ],
   "source": [
    "bhd.details(['SEO', \"SR\"])"
   ]
  },
  {
   "cell_type": "code",
   "execution_count": 97,
   "id": "bea8065e",
   "metadata": {},
   "outputs": [
    {
     "name": "stdout",
     "output_type": "stream",
     "text": [
      "Medical also\n"
     ]
    }
   ],
   "source": [
    "Saylani.facilities()"
   ]
  },
  {
   "cell_type": "markdown",
   "id": "b2f6a1b5",
   "metadata": {},
   "source": [
    "Task: Create a class of car with atleast 3 attributes and two methods such that one method should be static. Also class have 2 class variables one should dynamic."
   ]
  },
  {
   "cell_type": "code",
   "execution_count": 110,
   "id": "1aaf9a61",
   "metadata": {},
   "outputs": [],
   "source": [
    "class Car():\n",
    "\n",
    "    country = \"Pakistan\" # static\n",
    "    drive_count = 0 # dynamic\n",
    "\n",
    "    def __init__(self, color, model, speed):\n",
    "        self.color = color\n",
    "        self.model = model\n",
    "        self.speed = speed\n",
    "        \n",
    "    def drive(self):\n",
    "        print(f\"Color is {self.color}, model = {self.model}, speed = {self.speed}\")\n",
    "        Car.drive_count +=1\n",
    "\n",
    "    @staticmethod\n",
    "    def no_of_wheels():\n",
    "        print(\"has four wheels\")\n"
   ]
  },
  {
   "cell_type": "code",
   "execution_count": 111,
   "id": "d3f36bc9",
   "metadata": {},
   "outputs": [],
   "source": [
    "mehran = Car(\"Black\",\"2020\",\"100kmph\")"
   ]
  },
  {
   "cell_type": "code",
   "execution_count": 112,
   "id": "bdc17b54",
   "metadata": {},
   "outputs": [
    {
     "name": "stdout",
     "output_type": "stream",
     "text": [
      "Color is Black, model = 2020, speed = 100kmph\n"
     ]
    }
   ],
   "source": [
    "mehran.drive()"
   ]
  },
  {
   "cell_type": "code",
   "execution_count": 113,
   "id": "561ec7bd",
   "metadata": {},
   "outputs": [
    {
     "data": {
      "text/plain": [
       "1"
      ]
     },
     "execution_count": 113,
     "metadata": {},
     "output_type": "execute_result"
    }
   ],
   "source": [
    "mehran.drive_count"
   ]
  },
  {
   "cell_type": "code",
   "execution_count": 114,
   "id": "23865db2",
   "metadata": {},
   "outputs": [],
   "source": [
    "ALto = Car(\"White\",\"2020\",\"1000kmph\")"
   ]
  },
  {
   "cell_type": "code",
   "execution_count": 115,
   "id": "d889c0af",
   "metadata": {},
   "outputs": [
    {
     "name": "stdout",
     "output_type": "stream",
     "text": [
      "Color is White, model = 2020, speed = 1000kmph\n"
     ]
    }
   ],
   "source": [
    "ALto.drive()"
   ]
  },
  {
   "cell_type": "code",
   "execution_count": 116,
   "id": "6ac8b75b",
   "metadata": {},
   "outputs": [
    {
     "data": {
      "text/plain": [
       "2"
      ]
     },
     "execution_count": 116,
     "metadata": {},
     "output_type": "execute_result"
    }
   ],
   "source": [
    "ALto.drive_count"
   ]
  },
  {
   "cell_type": "code",
   "execution_count": 117,
   "id": "63fcd230",
   "metadata": {},
   "outputs": [
    {
     "data": {
      "text/plain": [
       "2"
      ]
     },
     "execution_count": 117,
     "metadata": {},
     "output_type": "execute_result"
    }
   ],
   "source": [
    "Car.drive_count"
   ]
  },
  {
   "cell_type": "code",
   "execution_count": 119,
   "id": "e76e9860",
   "metadata": {},
   "outputs": [
    {
     "name": "stdout",
     "output_type": "stream",
     "text": [
      "has four wheels\n"
     ]
    }
   ],
   "source": [
    "Car.no_of_wheels()"
   ]
  },
  {
   "cell_type": "code",
   "execution_count": 121,
   "id": "ba15723e",
   "metadata": {},
   "outputs": [
    {
     "data": {
      "text/plain": [
       "2"
      ]
     },
     "execution_count": 121,
     "metadata": {},
     "output_type": "execute_result"
    }
   ],
   "source": [
    "mehran.drive_count"
   ]
  },
  {
   "cell_type": "code",
   "execution_count": 124,
   "id": "7b6f44e2",
   "metadata": {},
   "outputs": [
    {
     "data": {
      "text/plain": [
       "2"
      ]
     },
     "execution_count": 124,
     "metadata": {},
     "output_type": "execute_result"
    }
   ],
   "source": [
    "Car.drive_count"
   ]
  }
 ],
 "metadata": {
  "kernelspec": {
   "display_name": "base",
   "language": "python",
   "name": "python3"
  },
  "language_info": {
   "codemirror_mode": {
    "name": "ipython",
    "version": 3
   },
   "file_extension": ".py",
   "mimetype": "text/x-python",
   "name": "python",
   "nbconvert_exporter": "python",
   "pygments_lexer": "ipython3",
   "version": "3.13.5"
  }
 },
 "nbformat": 4,
 "nbformat_minor": 5
}
