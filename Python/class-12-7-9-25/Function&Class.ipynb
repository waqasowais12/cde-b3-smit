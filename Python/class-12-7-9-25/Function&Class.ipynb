{
 "cells": [
  {
   "cell_type": "markdown",
   "id": "0a7066c2-e557-4d33-84c3-f2f46d254bac",
   "metadata": {},
   "source": [
    "## Functions"
   ]
  },
  {
   "cell_type": "code",
   "execution_count": 1,
   "id": "019c86a8",
   "metadata": {},
   "outputs": [],
   "source": [
    "# very basic function\n",
    "def add_num():\n",
    "    num1 = int(input(\"Enter number 1: \"))\n",
    "    num2 = int(input(\"Enter number 2: \"))\n",
    "    sum = num1 + num2\n",
    "    print(sum)"
   ]
  },
  {
   "cell_type": "code",
   "execution_count": 2,
   "id": "c12cf357",
   "metadata": {},
   "outputs": [
    {
     "name": "stdout",
     "output_type": "stream",
     "text": [
      "5\n"
     ]
    }
   ],
   "source": [
    "add_num()"
   ]
  },
  {
   "cell_type": "code",
   "execution_count": 3,
   "id": "63834e8b",
   "metadata": {},
   "outputs": [],
   "source": [
    "# very basic function part-1 (PARAMETERS)\n",
    "def add_num(num1, num2):\n",
    "    sum = num1 + num2\n",
    "    print(sum)"
   ]
  },
  {
   "cell_type": "code",
   "execution_count": 4,
   "id": "b68336d6",
   "metadata": {},
   "outputs": [
    {
     "name": "stdout",
     "output_type": "stream",
     "text": [
      "7\n"
     ]
    }
   ],
   "source": [
    "num_1 = int(input(\"Enter number 1: \"))\n",
    "num_2 = int(input(\"Enter number 2: \"))\n",
    "\n",
    "add_num(num_1, num_2)"
   ]
  },
  {
   "cell_type": "code",
   "execution_count": 5,
   "id": "cbd21d1b",
   "metadata": {},
   "outputs": [
    {
     "name": "stdout",
     "output_type": "stream",
     "text": [
      "10\n"
     ]
    }
   ],
   "source": [
    "add_num(2,8)"
   ]
  },
  {
   "cell_type": "code",
   "execution_count": 6,
   "id": "d8c1296e",
   "metadata": {},
   "outputs": [],
   "source": [
    "# very basic function part-1 (PARAMETERS + DEFAULT PARAM)\n",
    "# it will always be at the end\n",
    "def add_num(num1, num2=5):\n",
    "    sum = num1 + num2\n",
    "    print(sum)"
   ]
  },
  {
   "cell_type": "code",
   "execution_count": 7,
   "id": "e1d59975",
   "metadata": {},
   "outputs": [
    {
     "name": "stdout",
     "output_type": "stream",
     "text": [
      "6\n"
     ]
    }
   ],
   "source": [
    "add_num(1)"
   ]
  },
  {
   "cell_type": "code",
   "execution_count": 8,
   "id": "5048f629",
   "metadata": {},
   "outputs": [
    {
     "name": "stdout",
     "output_type": "stream",
     "text": [
      "4\n"
     ]
    }
   ],
   "source": [
    "add_num(1,3)"
   ]
  },
  {
   "cell_type": "code",
   "execution_count": 9,
   "id": "8d28c699",
   "metadata": {},
   "outputs": [],
   "source": [
    "# very basic function part-1 (PARAMETERS + DEFAULT PARAM)\n",
    "# it will always be at the end\n",
    "def add_num(name, num1, num2=5): # parameters\n",
    "    sum = num1 + num2\n",
    "    print(f\"{name} total is {sum}\")"
   ]
  },
  {
   "cell_type": "code",
   "execution_count": 11,
   "id": "fdb208ad",
   "metadata": {},
   "outputs": [
    {
     "name": "stdout",
     "output_type": "stream",
     "text": [
      "Waqas total is 3\n"
     ]
    }
   ],
   "source": [
    "# add_num(1, 'Waqas', 2) --> wrong\n",
    "# add_num(1, 2, 'Waqas') --> wrong\n",
    "add_num('Waqas', 1, 2) # arguments"
   ]
  },
  {
   "cell_type": "code",
   "execution_count": 12,
   "id": "4e504bdc",
   "metadata": {},
   "outputs": [
    {
     "name": "stdout",
     "output_type": "stream",
     "text": [
      "Waqas total is 6\n"
     ]
    }
   ],
   "source": [
    "add_num(name='Waqas', num1=1)"
   ]
  },
  {
   "cell_type": "code",
   "execution_count": 13,
   "id": "03abb036",
   "metadata": {},
   "outputs": [
    {
     "name": "stdout",
     "output_type": "stream",
     "text": [
      "Waqas total is 3\n"
     ]
    }
   ],
   "source": [
    "add_num(name='Waqas', num1=1, num2=2)"
   ]
  },
  {
   "cell_type": "code",
   "execution_count": 15,
   "id": "fe8eb1e4",
   "metadata": {},
   "outputs": [
    {
     "name": "stdout",
     "output_type": "stream",
     "text": [
      "waqas total is 9\n"
     ]
    }
   ],
   "source": [
    "name = input(\"Enter name: \")\n",
    "num_1 = int(input(\"Enter number 1: \"))\n",
    "num_2 = int(input(\"Enter number 2: \"))\n",
    "\n",
    "add_num(name=name, num1=num_1, num2=num_2)"
   ]
  },
  {
   "cell_type": "code",
   "execution_count": 18,
   "id": "689867d2",
   "metadata": {},
   "outputs": [],
   "source": [
    "# very basic function part-1(unknows)\n",
    "# it will always be at the end\n",
    "# ** --> dict\n",
    "# * --> list\n",
    "def add_num(name, *nums): # parameters\n",
    "    print(name)\n",
    "    print(nums)"
   ]
  },
  {
   "cell_type": "code",
   "execution_count": 19,
   "id": "044c536c",
   "metadata": {},
   "outputs": [
    {
     "name": "stdout",
     "output_type": "stream",
     "text": [
      "Waqas\n",
      "(2, 5, 6, 7, 8)\n"
     ]
    }
   ],
   "source": [
    "add_num('Waqas', 2,5,6,7,8)"
   ]
  },
  {
   "cell_type": "code",
   "execution_count": 22,
   "id": "e1b899b3",
   "metadata": {},
   "outputs": [],
   "source": [
    "# very basic function part-1(unknows)\n",
    "# it will always be at the end\n",
    "# ** --> dict\n",
    "# * --> list\n",
    "def add_num(name, *nums): # parameters\n",
    "    print(name)\n",
    "    print(*nums)"
   ]
  },
  {
   "cell_type": "code",
   "execution_count": 21,
   "id": "169e58ea",
   "metadata": {},
   "outputs": [
    {
     "name": "stdout",
     "output_type": "stream",
     "text": [
      "Waqas\n",
      "2 5 6 7 8\n"
     ]
    }
   ],
   "source": [
    "add_num('Waqas', 2,5,6,7,8)"
   ]
  },
  {
   "cell_type": "markdown",
   "id": "c6b28adb",
   "metadata": {},
   "source": [
    "- 1. task: give me the sum of the values passed as unknows args to function\n",
    "- 2. task: give me the sum of the values passed as unknows args to function kwargs"
   ]
  },
  {
   "cell_type": "code",
   "execution_count": 39,
   "id": "b94351b8",
   "metadata": {},
   "outputs": [],
   "source": [
    "# Task-1\n",
    "def add_num(name, *nums): # parameters\n",
    "    print(f\"{name} sum is {sum(nums)}\")\n"
   ]
  },
  {
   "cell_type": "code",
   "execution_count": 40,
   "id": "a2725636",
   "metadata": {},
   "outputs": [
    {
     "name": "stdout",
     "output_type": "stream",
     "text": [
      "Waqas sum is 27\n"
     ]
    }
   ],
   "source": [
    "add_num('Waqas', 2,3,4,5,6,7)"
   ]
  },
  {
   "cell_type": "code",
   "execution_count": 41,
   "id": "fdb6055b",
   "metadata": {},
   "outputs": [],
   "source": [
    "def add_num(name, **nums): # parameters\n",
    "    sum = 0\n",
    "    for val in nums.values():\n",
    "        sum += val\n",
    "    print(f\"{name} sum is {sum}\")"
   ]
  },
  {
   "cell_type": "code",
   "execution_count": 42,
   "id": "70979c59",
   "metadata": {},
   "outputs": [
    {
     "name": "stdout",
     "output_type": "stream",
     "text": [
      "Waqas sum is 30\n"
     ]
    }
   ],
   "source": [
    "add_num('Waqas', num1=2, num2=4, num3=6, num4=8, num5=10)"
   ]
  },
  {
   "cell_type": "code",
   "execution_count": 43,
   "id": "71472f0b",
   "metadata": {},
   "outputs": [],
   "source": [
    "def add_num(name, **nums):\n",
    "    print(f\"{name} sum is {sum(nums.values())}\")"
   ]
  },
  {
   "cell_type": "code",
   "execution_count": 44,
   "id": "11fffc4a",
   "metadata": {},
   "outputs": [
    {
     "name": "stdout",
     "output_type": "stream",
     "text": [
      "Waqas sum is 30\n"
     ]
    }
   ],
   "source": [
    "add_num('Waqas', num1=2, num2=4, num3=6, num4=8, num5=10)"
   ]
  },
  {
   "cell_type": "markdown",
   "id": "be09366d",
   "metadata": {},
   "source": [
    "## Function in Functions"
   ]
  },
  {
   "cell_type": "markdown",
   "id": "5d2dab76",
   "metadata": {},
   "source": [
    "- recursion AKA function with in function\n",
    "- factorial\n",
    "    - eg: \n",
    "        -  7 ==> 7*6*5*4*3*2*1"
   ]
  },
  {
   "cell_type": "code",
   "execution_count": null,
   "id": "50c03057",
   "metadata": {},
   "outputs": [],
   "source": []
  },
  {
   "cell_type": "markdown",
   "id": "c5991d88",
   "metadata": {},
   "source": [
    "## While Loops"
   ]
  },
  {
   "cell_type": "markdown",
   "id": "c1cf3711",
   "metadata": {},
   "source": [
    "#### Task: Research about while loop syntax and write a code of finding factorial using while loop."
   ]
  },
  {
   "cell_type": "code",
   "execution_count": 49,
   "id": "c53c5092",
   "metadata": {},
   "outputs": [
    {
     "name": "stdout",
     "output_type": "stream",
     "text": [
      "120\n"
     ]
    }
   ],
   "source": [
    "num = 5\n",
    "fact = 1\n",
    "while num>0:\n",
    "    fact *=num\n",
    "    num -=1\n",
    "print(fact)"
   ]
  },
  {
   "cell_type": "markdown",
   "id": "09a75456",
   "metadata": {},
   "source": [
    "while <condition>:\n",
    "    <body\n",
    "    - if needed increment or decrement\n",
    "    - user input\n",
    "    >11qq"
   ]
  },
  {
   "cell_type": "code",
   "execution_count": 50,
   "id": "ee249fa0",
   "metadata": {},
   "outputs": [
    {
     "name": "stdout",
     "output_type": "stream",
     "text": [
      "Qasim\n",
      "waqas\n",
      "Ali\n",
      "moiz\n",
      "umair\n"
     ]
    }
   ],
   "source": [
    "user_input = 'Qasim'\n",
    "while (user_input != 'quit'):\n",
    "    print(user_input)\n",
    "    user_input = input(\"Enter input value: \")"
   ]
  },
  {
   "cell_type": "markdown",
   "id": "494a0546",
   "metadata": {},
   "source": [
    "## Classes\n",
    "\n",
    "- Everything belong to some specific **class**\n",
    "- Every class can have its **object**\n",
    "- Every class can have its owns **methods**\n"
   ]
  },
  {
   "cell_type": "code",
   "execution_count": 51,
   "id": "c937d1f6",
   "metadata": {},
   "outputs": [],
   "source": [
    "name = 'Qasim'"
   ]
  },
  {
   "cell_type": "code",
   "execution_count": 52,
   "id": "884261a6",
   "metadata": {},
   "outputs": [
    {
     "name": "stdout",
     "output_type": "stream",
     "text": [
      "<class 'str'>\n"
     ]
    }
   ],
   "source": [
    "print(type(name))"
   ]
  },
  {
   "cell_type": "code",
   "execution_count": 53,
   "id": "6881a9d4",
   "metadata": {},
   "outputs": [],
   "source": [
    "lst = [1,2,3,4,5,6,7]"
   ]
  },
  {
   "cell_type": "code",
   "execution_count": 54,
   "id": "a417ff38",
   "metadata": {},
   "outputs": [
    {
     "name": "stdout",
     "output_type": "stream",
     "text": [
      "<class 'list'>\n"
     ]
    }
   ],
   "source": [
    "print(type(lst))"
   ]
  },
  {
   "cell_type": "code",
   "execution_count": 55,
   "id": "241447be",
   "metadata": {},
   "outputs": [],
   "source": [
    "dict = {'name':'waqas', 'age':23, 'major':'Data science'}"
   ]
  },
  {
   "cell_type": "code",
   "execution_count": 56,
   "id": "9a980314",
   "metadata": {},
   "outputs": [
    {
     "name": "stdout",
     "output_type": "stream",
     "text": [
      "<class 'dict'>\n"
     ]
    }
   ],
   "source": [
    "print(type(dict))"
   ]
  },
  {
   "cell_type": "markdown",
   "id": "f6654c2a",
   "metadata": {},
   "source": [
    "Every class have two things\n",
    "1. characteristics/Properties --> Attributes\n",
    "2. Behaviours/actions --> methods\n",
    "\n",
    "eg:\n",
    "- Characteristics eg: color, model, make_year\n",
    "- Behaviour eg: start, end"
   ]
  },
  {
   "cell_type": "code",
   "execution_count": null,
   "id": "262a496b",
   "metadata": {},
   "outputs": [],
   "source": [
    "class cars():\n",
    "    pass"
   ]
  },
  {
   "cell_type": "code",
   "execution_count": 61,
   "id": "4bf9b19b",
   "metadata": {},
   "outputs": [],
   "source": [
    "## self --> is used for internal management in python.\n",
    "class cars():\n",
    "    def __init__(self, color, model, make_year): # constructuor\n",
    "        self.color = color\n",
    "        self.model = model\n",
    "        self.make_year = make_year\n",
    "    \n",
    "    def start(): # method\n",
    "        \"\"\"\n",
    "        Start object belongs to class car\n",
    "        arg: no argument\n",
    "        return: no return\n",
    "        \n",
    "        \"\"\"\n",
    "        print(\"Car can start.\")\n",
    "    \n",
    "    def stop(): # method\n",
    "        print(\"Car can stop.\")"
   ]
  },
  {
   "cell_type": "code",
   "execution_count": null,
   "id": "3caea7b5",
   "metadata": {},
   "outputs": [],
   "source": [
    "civic = cars('Black','Honda',2025) # class initialization"
   ]
  },
  {
   "cell_type": "code",
   "execution_count": 63,
   "id": "292f1209",
   "metadata": {},
   "outputs": [
    {
     "name": "stdout",
     "output_type": "stream",
     "text": [
      "<class '__main__.cars'>\n"
     ]
    }
   ],
   "source": [
    "print(type(civic))"
   ]
  },
  {
   "cell_type": "code",
   "execution_count": null,
   "id": "3b314ef2",
   "metadata": {},
   "outputs": [
    {
     "name": "stdout",
     "output_type": "stream",
     "text": [
      "Car can start.\n"
     ]
    }
   ],
   "source": [
    "cars.start() # method calling"
   ]
  },
  {
   "cell_type": "code",
   "execution_count": null,
   "id": "ae5f7765",
   "metadata": {},
   "outputs": [
    {
     "name": "stdout",
     "output_type": "stream",
     "text": [
      "Car can stop.\n"
     ]
    }
   ],
   "source": [
    "cars.stop()  # method calling"
   ]
  },
  {
   "cell_type": "markdown",
   "id": "16785465",
   "metadata": {},
   "source": [
    "Task: create a class of humans that have atleast 2 attributes and methods"
   ]
  },
  {
   "cell_type": "code",
   "execution_count": 84,
   "id": "e980fd66",
   "metadata": {},
   "outputs": [],
   "source": [
    "class human():\n",
    "    def __init__(self, name, height, weight, age):\n",
    "        self.height = height\n",
    "        self.weight = weight\n",
    "        self.age = age\n",
    "        self.name = name\n",
    "    \n",
    "    def eat(self):\n",
    "        print(f\"{self.name} can eat\")\n",
    "\n",
    "    def smell(self):\n",
    "        print(f\"{self.name} can smell\")"
   ]
  },
  {
   "cell_type": "code",
   "execution_count": 85,
   "id": "dd8d915c",
   "metadata": {},
   "outputs": [],
   "source": [
    "Waqas = human('waqas', 60, 5.5, 23)"
   ]
  },
  {
   "cell_type": "code",
   "execution_count": 86,
   "id": "10ed5ecc",
   "metadata": {},
   "outputs": [
    {
     "name": "stdout",
     "output_type": "stream",
     "text": [
      "waqas can eat\n"
     ]
    }
   ],
   "source": [
    "Waqas.eat()"
   ]
  },
  {
   "cell_type": "code",
   "execution_count": 87,
   "id": "6ee2f976",
   "metadata": {},
   "outputs": [
    {
     "name": "stdout",
     "output_type": "stream",
     "text": [
      "waqas can smell\n"
     ]
    }
   ],
   "source": [
    "Waqas.smell()"
   ]
  },
  {
   "cell_type": "code",
   "execution_count": 88,
   "id": "0711feb4",
   "metadata": {},
   "outputs": [],
   "source": [
    "class BankAccount():\n",
    "    def __init__(self,owner,balance):\n",
    "        self.owner = owner\n",
    "        self.balance = balance\n",
    "    \n",
    "    def deposit(self):\n",
    "        print(f\"Amount is {self.balance}\")\n",
    "    \n",
    "    def withdrawal(self):\n",
    "        print(f\"Amount is {self.balance}\")"
   ]
  },
  {
   "cell_type": "code",
   "execution_count": 89,
   "id": "1e596473",
   "metadata": {},
   "outputs": [],
   "source": [
    "meezan = BankAccount(\"Waqas\",50000)"
   ]
  },
  {
   "cell_type": "code",
   "execution_count": 90,
   "id": "43dd7dd4",
   "metadata": {},
   "outputs": [
    {
     "name": "stdout",
     "output_type": "stream",
     "text": [
      "Amount is 50000\n"
     ]
    }
   ],
   "source": [
    "meezan.deposit()"
   ]
  },
  {
   "cell_type": "code",
   "execution_count": 91,
   "id": "1d531923",
   "metadata": {},
   "outputs": [
    {
     "name": "stdout",
     "output_type": "stream",
     "text": [
      "Amount is 50000\n"
     ]
    }
   ],
   "source": [
    "meezan.withdrawal()"
   ]
  },
  {
   "cell_type": "code",
   "execution_count": null,
   "id": "20fd9376",
   "metadata": {},
   "outputs": [],
   "source": []
  }
 ],
 "metadata": {
  "kernelspec": {
   "display_name": "base",
   "language": "python",
   "name": "python3"
  },
  "language_info": {
   "codemirror_mode": {
    "name": "ipython",
    "version": 3
   },
   "file_extension": ".py",
   "mimetype": "text/x-python",
   "name": "python",
   "nbconvert_exporter": "python",
   "pygments_lexer": "ipython3",
   "version": "3.13.5"
  }
 },
 "nbformat": 4,
 "nbformat_minor": 5
}
