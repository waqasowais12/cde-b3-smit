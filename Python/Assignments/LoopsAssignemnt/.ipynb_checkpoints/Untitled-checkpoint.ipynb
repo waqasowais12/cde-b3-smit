{
 "cells": [
  {
   "cell_type": "code",
   "execution_count": null,
   "id": "0d78b901-e494-41e2-ab17-c948c160b4e3",
   "metadata": {},
   "outputs": [],
   "source": []
  }
 ],
 "metadata": {
  "kernelspec": {
   "display_name": "Python 3 (ipykernel)",
   "language": "python",
   "name": "python3"
  },
  "language_info": {
   "codemirror_mode": {
    "name": "ipython",
    "version": 3
   },
   "file_extension": ".py",
   "mimetype": "text/x-python",
   "name": "python",
   "nbconvert_exporter": "python",
   "pygments_lexer": "ipython3",
   "version": "3.13.5"
  }
 },
 "nbformat": 4,
 "nbformat_minor": 5
}
