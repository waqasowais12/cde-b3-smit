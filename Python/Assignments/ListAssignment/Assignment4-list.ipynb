{
 "cells": [
  {
   "cell_type": "markdown",
   "id": "9259291a-7a51-44b9-82d9-d1369239b0c1",
   "metadata": {},
   "source": [
    "## LIST ASSIGNMENT"
   ]
  },
  {
   "cell_type": "markdown",
   "id": "e70c2bcf",
   "metadata": {},
   "source": [
    "Q1. Write a program that accepts a list from user and print the alternate element of list. "
   ]
  },
  {
   "cell_type": "code",
   "execution_count": null,
   "id": "3c9f4efd",
   "metadata": {},
   "outputs": [
    {
     "data": {
      "text/plain": [
       "['10', '20', '30', '40', '50', '60', '70', '80', '100']"
      ]
     },
     "execution_count": 31,
     "metadata": {},
     "output_type": "execute_result"
    }
   ],
   "source": [
    "user_input = input(\"Enter elements separated by space: \")\n",
    "my_list = user_input.split()\n",
    "my_list\n"
   ]
  },
  {
   "cell_type": "code",
   "execution_count": null,
   "id": "0c70bc0e",
   "metadata": {},
   "outputs": [
    {
     "data": {
      "text/plain": [
       "['10', '30', '50', '70', '100']"
      ]
     },
     "execution_count": 36,
     "metadata": {},
     "output_type": "execute_result"
    }
   ],
   "source": [
    "### Using list comprehension\n",
    "\n",
    "[my_list[i] for i in range(0,len(my_list),2)]  "
   ]
  },
  {
   "cell_type": "code",
   "execution_count": null,
   "id": "9a492cc8",
   "metadata": {},
   "outputs": [
    {
     "name": "stdout",
     "output_type": "stream",
     "text": [
      "10\n",
      "30\n",
      "50\n",
      "70\n",
      "100\n"
     ]
    }
   ],
   "source": [
    "### Using simple code\n",
    "\n",
    "for i in range(0,len(my_list),2):\n",
    "    print(my_list[i])"
   ]
  },
  {
   "cell_type": "code",
   "execution_count": null,
   "id": "68c4be48",
   "metadata": {},
   "outputs": [
    {
     "data": {
      "text/plain": [
       "[10, 30, 50, 70]"
      ]
     },
     "execution_count": 21,
     "metadata": {},
     "output_type": "execute_result"
    }
   ],
   "source": [
    "## using slicing\n",
    "\n",
    "my_list = [int(i) for i in my_list]\n",
    "my_list[::2]"
   ]
  },
  {
   "cell_type": "code",
   "execution_count": 37,
   "id": "8c8237b9",
   "metadata": {},
   "outputs": [
    {
     "data": {
      "text/plain": [
       "['10', '30', '50', '70', '100']"
      ]
     },
     "execution_count": 37,
     "metadata": {},
     "output_type": "execute_result"
    }
   ],
   "source": [
    "my_list = [str(i) for i in my_list]\n",
    "my_list[::2]"
   ]
  },
  {
   "cell_type": "markdown",
   "id": "ec1c7c0a",
   "metadata": {},
   "source": [
    "Q2. Write a program that accepts a list from user. Your program should reverse the content of list and\n",
    "display it. Do not use reverse() method. "
   ]
  },
  {
   "cell_type": "code",
   "execution_count": 38,
   "id": "059cf21f",
   "metadata": {},
   "outputs": [
    {
     "data": {
      "text/plain": [
       "['100', '200', '300', '400', '500', '600', '700', '800', '1000']"
      ]
     },
     "execution_count": 38,
     "metadata": {},
     "output_type": "execute_result"
    }
   ],
   "source": [
    "input_list = input(\"Enter elements separated by space: \")\n",
    "my_list = input_list.split()\n",
    "my_list"
   ]
  },
  {
   "cell_type": "code",
   "execution_count": null,
   "id": "93b9e3fa",
   "metadata": {},
   "outputs": [
    {
     "data": {
      "text/plain": [
       "['1000', '800', '700', '600', '500', '400', '300', '200', '100']"
      ]
     },
     "execution_count": 39,
     "metadata": {},
     "output_type": "execute_result"
    }
   ],
   "source": [
    "## using slicing\n",
    "\n",
    "my_list[::-1]"
   ]
  },
  {
   "cell_type": "code",
   "execution_count": null,
   "id": "248be7ea",
   "metadata": {},
   "outputs": [
    {
     "name": "stdout",
     "output_type": "stream",
     "text": [
      "1000\n",
      "800\n",
      "700\n",
      "600\n",
      "500\n",
      "400\n",
      "300\n",
      "200\n",
      "100\n"
     ]
    }
   ],
   "source": [
    "## using for loop\n",
    "\n",
    "for i in range(len(my_list)-1,-1,-1):\n",
    "    print(my_list[i])"
   ]
  },
  {
   "cell_type": "code",
   "execution_count": null,
   "id": "9acd1553",
   "metadata": {},
   "outputs": [
    {
     "data": {
      "text/plain": [
       "['1000', '800', '700', '600', '500', '400', '300', '200', '100']"
      ]
     },
     "execution_count": 44,
     "metadata": {},
     "output_type": "execute_result"
    }
   ],
   "source": [
    "## using for loop in list comprehension \n",
    "\n",
    "[my_list[i] for i in range(len(my_list)-1,-1,-1)]"
   ]
  },
  {
   "cell_type": "code",
   "execution_count": null,
   "id": "767f80f6",
   "metadata": {},
   "outputs": [
    {
     "data": {
      "text/plain": [
       "['1000', '800', '700', '600', '500', '400', '300', '200', '100']"
      ]
     },
     "execution_count": 48,
     "metadata": {},
     "output_type": "execute_result"
    }
   ],
   "source": [
    "## using insert values into new list\n",
    "\n",
    "reverse_list = []\n",
    "for item in my_list:\n",
    "    reverse_list.insert(0, item)\n",
    "reverse_list"
   ]
  },
  {
   "cell_type": "code",
   "execution_count": null,
   "id": "1acbe754",
   "metadata": {},
   "outputs": [
    {
     "data": {
      "text/plain": [
       "['1000', '800', '700', '600', '500', '400', '300', '200', '100']"
      ]
     },
     "execution_count": 50,
     "metadata": {},
     "output_type": "execute_result"
    }
   ],
   "source": [
    "## using insert values into new list in list comprehension\n",
    "\n",
    "reverse_list = []\n",
    "[ reverse_list.insert(0,item) for item in my_list]\n",
    "reverse_list"
   ]
  },
  {
   "cell_type": "markdown",
   "id": "72a79890",
   "metadata": {},
   "source": [
    "Q3. Find and display the largest number of a list without using built-in function max(). Your program\n",
    "should ask the user to input values in list from keyboard"
   ]
  },
  {
   "cell_type": "code",
   "execution_count": 58,
   "id": "23137770",
   "metadata": {},
   "outputs": [
    {
     "data": {
      "text/plain": [
       "['888', '450', '340', '666', '99', '1002', '1100', '3', '2', '76']"
      ]
     },
     "execution_count": 58,
     "metadata": {},
     "output_type": "execute_result"
    }
   ],
   "source": [
    "input_list = input(\"Enter elements separated by space: \")\n",
    "my_list = input_list.split()\n",
    "my_list"
   ]
  },
  {
   "cell_type": "code",
   "execution_count": 63,
   "id": "5a064e5b",
   "metadata": {},
   "outputs": [
    {
     "name": "stdout",
     "output_type": "stream",
     "text": [
      "1100\n"
     ]
    }
   ],
   "source": [
    "int_list = [int(x) for x in my_list]\n",
    "largest = int_list[0]\n",
    "for i in int_list:\n",
    "    if i > largest:\n",
    "        largest = i\n",
    "print(largest)"
   ]
  },
  {
   "cell_type": "markdown",
   "id": "eefeabfb",
   "metadata": {},
   "source": [
    "Q4. Write a program that rotates the element of a list so that the element at the first index moves to the\n",
    "second index, the element in the second index moves to the third index, etc., and the element in the last\n",
    "index moves to the first index. \n"
   ]
  },
  {
   "cell_type": "code",
   "execution_count": 70,
   "id": "cb4e5ba1",
   "metadata": {},
   "outputs": [
    {
     "name": "stdout",
     "output_type": "stream",
     "text": [
      "Without rotate list:  [2, 3, 4, 5, 6, 7, 1]\n",
      "Rotated list:  [1, 2, 3, 4, 5, 6, 7]\n"
     ]
    }
   ],
   "source": [
    "my_list = [2,3,4,5,6,7,1]\n",
    "print(\"Without rotate list: \", my_list)\n",
    "last = my_list[-1]\n",
    "for i in range(len(my_list)-1,0,-1):\n",
    "    my_list[i] = my_list[i-1]\n",
    "my_list[0] = last\n",
    "print(\"Rotated list: \", my_list)\n"
   ]
  },
  {
   "cell_type": "markdown",
   "id": "9c5dd8d9",
   "metadata": {},
   "source": [
    "Q5. Write a program that input a string and ask user to delete a given word from a string. "
   ]
  },
  {
   "cell_type": "code",
   "execution_count": 5,
   "id": "46c8f2ea",
   "metadata": {},
   "outputs": [
    {
     "data": {
      "text/plain": [
       "['waqass']"
      ]
     },
     "execution_count": 5,
     "metadata": {},
     "output_type": "execute_result"
    }
   ],
   "source": [
    "name = input(\"Enter your name: \")\n",
    "word_to_remove = input(\"Enter word that delete from string: \")\n",
    "splt_name =   name.split()\n",
    "splt_name"
   ]
  },
  {
   "cell_type": "code",
   "execution_count": 11,
   "id": "3c703bab",
   "metadata": {},
   "outputs": [
    {
     "name": "stdout",
     "output_type": "stream",
     "text": [
      "['waqa']\n"
     ]
    }
   ],
   "source": [
    "new_names = []\n",
    "for items in splt_name:\n",
    "    new_name = ''\n",
    "    for chr in items:\n",
    "        if chr != word_to_remove:\n",
    "            new_name += chr\n",
    "    new_names.append(new_name)\n",
    "print(new_names)\n"
   ]
  },
  {
   "cell_type": "markdown",
   "id": "e0ea747a",
   "metadata": {},
   "source": [
    "Q6. Write a program that reads a string from the user containing a date in the form mm/dd/yyyy. It\n",
    "should print the date in the form March 12, 2021.  "
   ]
  },
  {
   "cell_type": "code",
   "execution_count": 14,
   "id": "84544150",
   "metadata": {},
   "outputs": [
    {
     "data": {
      "text/plain": [
       "['09', '13', '2025']"
      ]
     },
     "execution_count": 14,
     "metadata": {},
     "output_type": "execute_result"
    }
   ],
   "source": [
    "date = input(\"Enter date: \")\n",
    "splt_date = date.split(\"/\")\n",
    "splt_date"
   ]
  },
  {
   "cell_type": "code",
   "execution_count": null,
   "id": "ea55e799",
   "metadata": {},
   "outputs": [
    {
     "name": "stdout",
     "output_type": "stream",
     "text": [
      "September 13, 2025\n"
     ]
    }
   ],
   "source": [
    "month_name = {\n",
    "    '01':'January',\n",
    "    '02':'Febraury',\n",
    "    '03':'March',\n",
    "    '04':'April',\n",
    "    '05':'May',\n",
    "    '06':'June',\n",
    "    '07':'July',\n",
    "    '08':'August',\n",
    "    '09':'September',\n",
    "    '10':'October',\n",
    "    '11':'November',\n",
    "    '12':'December',\n",
    "}\n",
    "date_format = f\"{month_name[splt_date[0]]} {splt_date[1]}, {splt_date[2]}\"\n",
    "print(format)"
   ]
  },
  {
   "cell_type": "markdown",
   "id": "73db5777",
   "metadata": {},
   "source": [
    "Q7. Write a program with a function that accepts a string from keyboard and create a new string after\n",
    "converting character of each word capitalized. For instance, if the sentence is \"stop and smell the roses.\"\n",
    "the output should be \"Stop And Smell The Roses\""
   ]
  },
  {
   "cell_type": "code",
   "execution_count": null,
   "id": "a70c4d19",
   "metadata": {},
   "outputs": [
    {
     "name": "stdout",
     "output_type": "stream",
     "text": [
      "['this', 'is', 'a', 'python', 'program']\n",
      "This Is A Python Program\n"
     ]
    }
   ],
   "source": [
    "random_str = input(\"Enter any string: \")\n",
    "splt_str = random_str.split()\n",
    "print(splt_str)\n",
    "new_str = ''\n",
    "\n",
    "## using normal code\n",
    "\n",
    "for i in splt_str:\n",
    "        new_str += i[0].upper() + i[1:] + ' '\n",
    "new_str = new_str.strip() ## remove extra space at the end of string\n",
    "print(new_str)\n",
    "\n"
   ]
  },
  {
   "cell_type": "code",
   "execution_count": null,
   "id": "1660cea0",
   "metadata": {},
   "outputs": [
    {
     "name": "stdout",
     "output_type": "stream",
     "text": [
      "This Is A Python Program\n"
     ]
    }
   ],
   "source": [
    "## using list comprehension\n",
    "\n",
    "new_str = \"\".join([ i[0].upper() + i[1:] + ' ' for i in splt_str ]).strip()\n",
    "print(new_str)"
   ]
  },
  {
   "cell_type": "markdown",
   "id": "1f883f69",
   "metadata": {},
   "source": [
    "Q8. Find the sum of each row of matrix of size m x n. For example for the following matrix output will be\n",
    "like this :\n",
    "\n",
    "![Martix](q8-pic.png)\n",
    "\n",
    "Sum of row 1 = 32\n",
    "Sum of row 2 = 31\n",
    "Sum of row 3 = 63 \n"
   ]
  },
  {
   "cell_type": "code",
   "execution_count": null,
   "id": "cc1ef6e9",
   "metadata": {},
   "outputs": [
    {
     "name": "stdout",
     "output_type": "stream",
     "text": [
      "32 31 63\n"
     ]
    }
   ],
   "source": [
    "## using static method\n",
    "\n",
    "dd_list = [\n",
    "    [2,11,7,12],\n",
    "    [5,2,9,15],\n",
    "    [8,3,10,42]\n",
    "]\n",
    "sum1 = 0\n",
    "sum2 = 0\n",
    "sum3 = 0 \n",
    "for i in range(0,len(dd_list)):\n",
    "    if i == 0:\n",
    "        sum1 = sum(dd_list[i][0:])\n",
    "    elif i == 1:\n",
    "        sum2 = sum(dd_list[i][0:])\n",
    "    elif i == 2:\n",
    "        sum3 = sum(dd_list[i][0:])\n",
    "print(sum1,sum2,sum3)"
   ]
  },
  {
   "cell_type": "code",
   "execution_count": null,
   "id": "140449c1",
   "metadata": {},
   "outputs": [
    {
     "name": "stdout",
     "output_type": "stream",
     "text": [
      "Sum1: 32\n",
      "Sum2: 31\n",
      "Sum3: 63\n"
     ]
    }
   ],
   "source": [
    "## using normal method\n",
    "dd_list = [\n",
    "    [2,11,7,12],\n",
    "    [5,2,9,15],\n",
    "    [8,3,10,42]\n",
    "]\n",
    "sums = []\n",
    "for i in range(len(dd_list)):\n",
    "    row_sum = sum(dd_list[i])\n",
    "    sums.append(row_sum)\n",
    "print(f\"Sum1: {sums[0]}\")\n",
    "print(f\"Sum2: {sums[1]}\")\n",
    "print(f\"Sum3: {sums[2]}\")\n"
   ]
  },
  {
   "cell_type": "code",
   "execution_count": null,
   "id": "07632a92",
   "metadata": {},
   "outputs": [
    {
     "name": "stdout",
     "output_type": "stream",
     "text": [
      "Sum1: 32\n",
      "Sum2: 31\n",
      "Sum3: 63\n"
     ]
    }
   ],
   "source": [
    "## using comprehension\n",
    "\n",
    "row_sum = [ sum(dd_list[i])  for i in range(len(dd_list))]\n",
    "print(f\"Sum1: {row_sum[0]}\")\n",
    "print(f\"Sum2: {row_sum[1]}\")\n",
    "print(f\"Sum3: {row_sum[2]}\")"
   ]
  },
  {
   "cell_type": "markdown",
   "id": "9b212de8",
   "metadata": {},
   "source": [
    "Q9. . Write a program to add two matrices of size n x m. "
   ]
  },
  {
   "cell_type": "code",
   "execution_count": null,
   "id": "d647b041",
   "metadata": {},
   "outputs": [
    {
     "name": "stdout",
     "output_type": "stream",
     "text": [
      "[[10, 10, 10], [10, 10, 10], [10, 10, 10]]\n"
     ]
    }
   ],
   "source": [
    "A = [\n",
    "    [1,2,3],\n",
    "    [4,5,6],\n",
    "    [7,8,9]\n",
    "]\n",
    "B = [\n",
    "    [9,8,7],\n",
    "    [6,5,4],\n",
    "    [3,2,1]\n",
    "]\n",
    "new = []\n",
    "for i in range(len(A)):\n",
    "    row = []\n",
    "    for j in range(len(A[i])):\n",
    "        row.append(A[i][j] + B[i][j])\n",
    "    new.append(row)\n",
    "print(new)"
   ]
  },
  {
   "cell_type": "markdown",
   "id": "4ecf259f",
   "metadata": {},
   "source": [
    "Q10. Write a program to multiply two matrices "
   ]
  },
  {
   "cell_type": "code",
   "execution_count": 75,
   "id": "0fcb08dd",
   "metadata": {},
   "outputs": [
    {
     "name": "stdout",
     "output_type": "stream",
     "text": [
      "[[58, 64], [139, 154]]\n"
     ]
    }
   ],
   "source": [
    "A = [\n",
    "    [1, 2, 3], \n",
    "    [4, 5, 6]\n",
    "]\n",
    "\n",
    "B = [\n",
    "    [7,  8],  \n",
    "    [9, 10],  \n",
    "    [11, 12]\n",
    "]\n",
    "\n",
    "C = []\n",
    "for row in range(len(A)):\n",
    "    temp_row = []\n",
    "    for column in range(len(B[row])):\n",
    "        total = 0\n",
    "        for k in range(len(B)):\n",
    "            total += A[row][k] * B[k][column]\n",
    "        temp_row.append(total)\n",
    "    C.append(temp_row)\n",
    "print(C)\n"
   ]
  },
  {
   "cell_type": "code",
   "execution_count": null,
   "id": "1d484dcb",
   "metadata": {},
   "outputs": [],
   "source": []
  }
 ],
 "metadata": {
  "kernelspec": {
   "display_name": "base",
   "language": "python",
   "name": "python3"
  },
  "language_info": {
   "codemirror_mode": {
    "name": "ipython",
    "version": 3
   },
   "file_extension": ".py",
   "mimetype": "text/x-python",
   "name": "python",
   "nbconvert_exporter": "python",
   "pygments_lexer": "ipython3",
   "version": "3.13.5"
  }
 },
 "nbformat": 4,
 "nbformat_minor": 5
}
