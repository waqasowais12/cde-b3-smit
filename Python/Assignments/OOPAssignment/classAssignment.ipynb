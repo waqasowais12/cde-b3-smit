{
 "cells": [
  {
   "cell_type": "markdown",
   "id": "676b772f-d66c-489c-bfb1-29c6a2dc912a",
   "metadata": {},
   "source": [
    "## Classes Assignment"
   ]
  },
  {
   "cell_type": "markdown",
   "id": "9e15894b",
   "metadata": {},
   "source": [
    "Q1. Write a Python program to create a class representing a Circle. Include methods to calculate its area and perimeter."
   ]
  },
  {
   "cell_type": "code",
   "execution_count": 5,
   "id": "07f80fc7",
   "metadata": {},
   "outputs": [],
   "source": [
    "import math\n",
    "\n",
    "class Circle:\n",
    "    def __init__(self, radius):\n",
    "        self.radius = radius\n",
    "\n",
    "    def area(self):\n",
    "        return math.pi * (self.radius ** 2)\n",
    "\n",
    "    def perimeter(self):\n",
    "        return 2 * math.pi * self.radius"
   ]
  },
  {
   "cell_type": "code",
   "execution_count": 6,
   "id": "a36ea6e9",
   "metadata": {},
   "outputs": [
    {
     "name": "stdout",
     "output_type": "stream",
     "text": [
      "Area of the circle: 452.39\n",
      "Perimeter of the circle: 75.40\n"
     ]
    }
   ],
   "source": [
    "radius = float(input(\"Enter the radius of the circle: \"))\n",
    "circle = Circle(radius)\n",
    "\n",
    "print(f\"Area of the circle: {circle.area():.2f}\")\n",
    "print(f\"Perimeter of the circle: {circle.perimeter():.2f}\")"
   ]
  },
  {
   "cell_type": "markdown",
   "id": "5480ff87",
   "metadata": {},
   "source": [
    "Q2. Write a Python program to create a person class. Include attributes like name, country and date of birth. Implement a method to determine the person's age."
   ]
  },
  {
   "cell_type": "code",
   "execution_count": 7,
   "id": "c6e7f09b",
   "metadata": {},
   "outputs": [
    {
     "name": "stdout",
     "output_type": "stream",
     "text": [
      "\n",
      "Name: Hafiz Muhammad Waqas\n",
      "Country: Pakistan\n",
      "Date of Birth: 2002-11-22\n",
      "Age: 22 years\n"
     ]
    }
   ],
   "source": [
    "from datetime import date, datetime\n",
    "\n",
    "class Person:\n",
    "    def __init__(self, name, country, date_of_birth):\n",
    "        self.name = name\n",
    "        self.country = country\n",
    "        self.date_of_birth = datetime.strptime(date_of_birth, \"%Y-%m-%d\").date()\n",
    "\n",
    "    def calculate_age(self):\n",
    "        today = date.today()\n",
    "        age = today.year - self.date_of_birth.year\n",
    "        if (today.month, today.day) < (self.date_of_birth.month, self.date_of_birth.day):\n",
    "            age -= 1\n",
    "        return age\n",
    "\n",
    "name = input(\"Enter your name: \")\n",
    "country = input(\"Enter your country: \")\n",
    "dob = input(\"Enter your date of birth (YYYY-MM-DD): \")\n",
    "\n",
    "person = Person(name, country, dob)\n",
    "\n",
    "print(f\"\\nName: {person.name}\")\n",
    "print(f\"Country: {person.country}\")\n",
    "print(f\"Date of Birth: {person.date_of_birth}\")\n",
    "print(f\"Age: {person.calculate_age()} years\")\n"
   ]
  },
  {
   "cell_type": "markdown",
   "id": "699cefcf",
   "metadata": {},
   "source": [
    "Q3. Write a Python program to create a calculator class. Include methods for basic arithmetic operations."
   ]
  },
  {
   "cell_type": "code",
   "execution_count": 10,
   "id": "de70e676",
   "metadata": {},
   "outputs": [
    {
     "name": "stdout",
     "output_type": "stream",
     "text": [
      "Simple Calculator\n",
      "Addition: 12.0\n",
      "Subtraction: 2.0\n",
      "Multiplication: 35.0\n",
      "Division: 1.4\n"
     ]
    }
   ],
   "source": [
    "class Calculator:\n",
    "  \n",
    "    def add(self, a, b):\n",
    "        return a + b\n",
    "\n",
    "    def subtract(self, a, b):\n",
    "        return a - b\n",
    "\n",
    "    def multiply(self, a, b):\n",
    "        return a * b\n",
    "\n",
    "    def divide(self, a, b):\n",
    "        if b == 0:\n",
    "            return \"Error! Division by zero.\"\n",
    "        return a / b\n",
    "\n",
    "\n",
    "calc = Calculator()\n",
    "\n",
    "print(\"Simple Calculator\")\n",
    "a = float(input(\"Enter first number: \"))\n",
    "b = float(input(\"Enter second number: \"))\n",
    "\n",
    "print(f\"Addition: {calc.add(a, b)}\")\n",
    "print(f\"Subtraction: {calc.subtract(a, b)}\")\n",
    "print(f\"Multiplication: {calc.multiply(a, b)}\")\n",
    "print(f\"Division: {calc.divide(a, b)}\")\n"
   ]
  }
 ],
 "metadata": {
  "kernelspec": {
   "display_name": "base",
   "language": "python",
   "name": "python3"
  },
  "language_info": {
   "codemirror_mode": {
    "name": "ipython",
    "version": 3
   },
   "file_extension": ".py",
   "mimetype": "text/x-python",
   "name": "python",
   "nbconvert_exporter": "python",
   "pygments_lexer": "ipython3",
   "version": "3.13.5"
  }
 },
 "nbformat": 4,
 "nbformat_minor": 5
}
