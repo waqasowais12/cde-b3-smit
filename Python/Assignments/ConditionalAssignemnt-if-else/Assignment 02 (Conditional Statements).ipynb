{
 "cells": [
  {
   "cell_type": "markdown",
   "id": "79df5eba-6def-40af-8e7d-40195dab3b3f",
   "metadata": {},
   "source": [
    "1: A company decided to give bonus of 5% to employee if his/her year of service is more than 5 years. Ask user for their salary and year of service and print the net bonus amount."
   ]
  },
  {
   "cell_type": "code",
   "execution_count": 6,
   "id": "ed9c8999-8c87-4950-87fe-349ab4d57501",
   "metadata": {},
   "outputs": [
    {
     "name": "stdout",
     "output_type": "stream",
     "text": [
      "Enter your salary:  1200000\n",
      "Enter year of eperience:  8\n"
     ]
    },
    {
     "name": "stdout",
     "output_type": "stream",
     "text": [
      "Congratulation you recieved 60000.0 Bonus amount\n"
     ]
    }
   ],
   "source": [
    "salary = int(input(\"Enter your salary: \"))\n",
    "year_exp = int(input(\"Enter year of eperience: \"))\n",
    "\n",
    "if year_exp>5:\n",
    "    bonus_amn = (salary*5)/100\n",
    "    conv = str(bonus_amn)\n",
    "    print(\"Congratulation you recieved \" + conv + \" Bonus amount\")\n",
    "else:\n",
    "    print(\"You didn't get a bonus\")"
   ]
  },
  {
   "cell_type": "markdown",
   "id": "e4b99cbb-1655-488b-b475-bf4eae2c14c4",
   "metadata": {},
   "source": [
    "2. Write a program to check whether a person is eligible for voting or not. (accept age from user) if age is greater than 17 eligible otherwise not eligible"
   ]
  },
  {
   "cell_type": "code",
   "execution_count": 3,
   "id": "7527da66-78f6-4812-a51e-b40b74e6b08c",
   "metadata": {},
   "outputs": [
    {
     "name": "stdout",
     "output_type": "stream",
     "text": [
      "Not eligible\n"
     ]
    }
   ],
   "source": [
    "age = int(input(\"Enter your age: \"))\n",
    "if age>17:\n",
    "    print(\"Eligible\")\n",
    "else:\n",
    "    print(\"Not eligible\")"
   ]
  },
  {
   "cell_type": "markdown",
   "id": "c8fd29e2-d99c-4c64-ad28-872e0807e00b",
   "metadata": {},
   "source": [
    "3. Write a program to check whether a number entered by user is even or odd."
   ]
  },
  {
   "cell_type": "code",
   "execution_count": 11,
   "id": "1b63a542-0c26-44fb-9cca-f3cb21c0fbd2",
   "metadata": {},
   "outputs": [
    {
     "name": "stdout",
     "output_type": "stream",
     "text": [
      "Enter any number:  17\n"
     ]
    },
    {
     "name": "stdout",
     "output_type": "stream",
     "text": [
      "Number is odd\n"
     ]
    }
   ],
   "source": [
    "num = int(input(\"Enter any number: \"))\n",
    "if num%2 == 0:\n",
    "    print(\"Number is even\")\n",
    "else:\n",
    "    print(\"Number is odd\")"
   ]
  },
  {
   "cell_type": "markdown",
   "id": "4e01d385-9fcd-4852-8c98-98d7efcf7a0e",
   "metadata": {},
   "source": [
    "4. Write a program to check whether a number is divisible by 7 or not. Show Answer"
   ]
  },
  {
   "cell_type": "code",
   "execution_count": 14,
   "id": "5cb0100f-9378-4824-9280-fb5a77b83e88",
   "metadata": {},
   "outputs": [
    {
     "name": "stdout",
     "output_type": "stream",
     "text": [
      "Enter number:  49\n"
     ]
    },
    {
     "name": "stdout",
     "output_type": "stream",
     "text": [
      "Number is divisible by 7\n"
     ]
    }
   ],
   "source": [
    "num = int(input(\"Enter number: \"))\n",
    "if num%7 == 0:\n",
    "    print(\"Number is divisible by 7\")\n",
    "else:\n",
    "    print(\"NUmber is not divisible by 7\")"
   ]
  },
  {
   "cell_type": "markdown",
   "id": "d5f53542-6405-4b11-918d-ed774ed7a5d2",
   "metadata": {},
   "source": [
    "5. Write a program to display \"Hello\" if a number entered by user is a multiple of five , otherwise print \"Bye\"."
   ]
  },
  {
   "cell_type": "code",
   "execution_count": 17,
   "id": "6c6fdb07-fdc2-4d56-8400-5005dd98e721",
   "metadata": {},
   "outputs": [
    {
     "name": "stdout",
     "output_type": "stream",
     "text": [
      "Enter number:  10\n"
     ]
    },
    {
     "name": "stdout",
     "output_type": "stream",
     "text": [
      "Hello\n"
     ]
    }
   ],
   "source": [
    "num = int(input(\"Enter number: \"))\n",
    "if num%5 == 0:\n",
    "    print(\"Hello\")\n",
    "else:\n",
    "    print(\"Bye\")"
   ]
  },
  {
   "cell_type": "markdown",
   "id": "8ed39605-2d82-401c-9b99-c3ff5a1f80dd",
   "metadata": {},
   "source": [
    "6. Write a program to display the last digit of a number."
   ]
  },
  {
   "cell_type": "code",
   "execution_count": 18,
   "id": "ac20f5ac-d016-461c-884a-50e9c378b60f",
   "metadata": {},
   "outputs": [
    {
     "data": {
      "text/plain": [
       "'9'"
      ]
     },
     "execution_count": 18,
     "metadata": {},
     "output_type": "execute_result"
    }
   ],
   "source": [
    "num = 34509\n",
    "conv = str(num)\n",
    "conv[4]"
   ]
  },
  {
   "cell_type": "markdown",
   "id": "21fbb476-71ec-448e-b72a-38c549c48d2b",
   "metadata": {},
   "source": [
    "7. Take values of length and breadth of a rectangle from user and print if it is square or rectangle."
   ]
  },
  {
   "cell_type": "code",
   "execution_count": 21,
   "id": "4287bf9c-f5e4-466e-a3f0-8e11945c0061",
   "metadata": {},
   "outputs": [
    {
     "name": "stdout",
     "output_type": "stream",
     "text": [
      "Enter Length:  33\n",
      "Enter breadth:  44\n"
     ]
    },
    {
     "name": "stdout",
     "output_type": "stream",
     "text": [
      "It's rectangle\n"
     ]
    }
   ],
   "source": [
    "length = float(input(\"Enter Length: \"))\n",
    "breadth = float(input(\"Enter breadth: \"))\n",
    "\n",
    "if length == breadth:\n",
    "    print(\"It's square\")\n",
    "elif length != breadth:\n",
    "    print(\"It's rectangle\")\n",
    "else:\n",
    "    print(\"Invalid input\")"
   ]
  },
  {
   "cell_type": "markdown",
   "id": "3862fd83-9b03-480a-bfff-d62cbb630da9",
   "metadata": {},
   "source": [
    "8. Take two int values from user and print greatest among them."
   ]
  },
  {
   "cell_type": "code",
   "execution_count": 23,
   "id": "18e1f5b1-42e7-4046-8391-17a1c6346bd7",
   "metadata": {},
   "outputs": [
    {
     "name": "stdout",
     "output_type": "stream",
     "text": [
      "Enter number 1:  2\n",
      "Enter number 2:  1\n"
     ]
    },
    {
     "name": "stdout",
     "output_type": "stream",
     "text": [
      "Number 1 is greater\n"
     ]
    }
   ],
   "source": [
    "num1 = int(input(\"Enter number 1: \"))\n",
    "num2 = int(input(\"Enter number 2: \"))\n",
    "if num1 > num2:\n",
    "    print(\"Number 1 is greater\")\n",
    "else:\n",
    "    print(\"Number 2 is greater\")"
   ]
  },
  {
   "cell_type": "markdown",
   "id": "e7ba24af-bc65-422a-a1ca-afbfbe08b4fa",
   "metadata": {},
   "source": [
    "9. A shop will give discount of 10% if the cost of purchased quantity is more than 1000. Ask user for quantity Suppose, one unit will cost 100. Judge and print total cost for user."
   ]
  },
  {
   "cell_type": "code",
   "execution_count": 31,
   "id": "78b1128e-03fe-4233-b5e8-4181254109b7",
   "metadata": {},
   "outputs": [
    {
     "name": "stdout",
     "output_type": "stream",
     "text": [
      "---------------------------------------------------Welcome to Bakers Shop------------------------------------------------------------------\n",
      "----------------------------------------------------------Rate List-----------------------------------------------------------------------\n",
      "-----------------------------------Rusk = 100, Bread = 100, Chips = 100, drink = 100, biscuit = 100---------------------------------\n"
     ]
    },
    {
     "name": "stdout",
     "output_type": "stream",
     "text": [
      "Enter packet of rusk:  1\n",
      "Enter packet of bread:  1\n",
      "Enter packet of chips:  1\n",
      "Enter bottle of drink amount:  1\n",
      "Enter packet of biscuit:  1\n"
     ]
    },
    {
     "name": "stdout",
     "output_type": "stream",
     "text": [
      "Your bill is 500 and you didn't get discount\n"
     ]
    }
   ],
   "source": [
    "rusk = 100\n",
    "bread = 100\n",
    "chips = 100\n",
    "drink = 100\n",
    "biscuit = 100\n",
    "print(\"---------------------------------------------------Welcome to Bakers Shop------------------------------------------------------------------\")\n",
    "print(\"----------------------------------------------------------Rate List-----------------------------------------------------------------------\")\n",
    "print(\"-----------------------------------Rusk = 100, Bread = 100, Chips = 100, drink = 100, biscuit = 100---------------------------------\")\n",
    "quant_rusk = int(input(\"Enter packet of rusk: \"))\n",
    "quant_bread = int(input(\"Enter packet of bread: \"))\n",
    "quant_chips = int(input(\"Enter packet of chips: \"))\n",
    "quant_drink = int(input(\"Enter bottle of drink amount: \"))\n",
    "quant_biscuit = int(input(\"Enter packet of biscuit: \"))\n",
    "cost_rusk = quant_rusk*rusk\n",
    "cost_bread = quant_bread*bread\n",
    "cost_chips = quant_chips*chips\n",
    "cost_drink = quant_drink*drink\n",
    "cost_biscuit = quant_biscuit*biscuit\n",
    "total_amount = cost_rusk + cost_bread + cost_chips + cost_drink + cost_biscuit\n",
    "if total_amount >= 1000:\n",
    "    discount_amount = (total_amount*10)/100\n",
    "    discount = total_amount - discount_amount\n",
    "    conv_discount1 = str(discount)\n",
    "    conv_discount = str(discount_amount)\n",
    "    conv_ta = str(total_amount)\n",
    "    print(\"You have got 10% discount, and the amount of discount is Rs \" + conv_discount + \" now your bill is Rs \" + conv_discount1 + \" and previous one was Rs \" + conv_ta)\n",
    "else:\n",
    "    conv_ta = str(total_amount)\n",
    "    print(\"Your bill is \" + conv_ta + \" and you didn't get discount\")"
   ]
  },
  {
   "cell_type": "markdown",
   "id": "bc08c821-9107-4d75-8a85-0343e5008710",
   "metadata": {},
   "source": [
    "10. A school has following rules for grading system:\n",
    "a. Below 25 - F\n",
    "\n",
    "b. 25 to 45 - E\n",
    "\n",
    "c. 45 to 50 - D\n",
    "\n",
    "d. 50 to 60 - C\n",
    "\n",
    "e. 60 to 80 - B\n",
    "\n",
    "f. Above 80 - A\n",
    "\n",
    "Ask user to enter marks and print the corresponding grade."
   ]
  },
  {
   "cell_type": "code",
   "execution_count": 62,
   "id": "72e184e5-07cb-4a4d-b9ee-ebab34ccd60a",
   "metadata": {},
   "outputs": [
    {
     "name": "stdout",
     "output_type": "stream",
     "text": [
      "Enter marks:  40\n"
     ]
    },
    {
     "name": "stdout",
     "output_type": "stream",
     "text": [
      "Your grade is E\n"
     ]
    }
   ],
   "source": [
    "marks = int(input(\"Enter marks: \"))\n",
    "if marks>=0 and marks<=25:\n",
    "    print(\"Your grade is F\")\n",
    "elif marks>=26 and marks<=45:\n",
    "    print(\"Your grade is E\")\n",
    "elif marks>=46 and marks<=50:\n",
    "    print(\"Your grade is D\")\n",
    "elif marks>=51 and marks<=60:\n",
    "    print(\"Your grade is C\")\n",
    "elif marks>=61 and marks<=80:\n",
    "    print(\"Your grade is B\")\n",
    "elif marks>=81 and marks<=100:\n",
    "    print(\"Your grade is A\")\n",
    "else:\n",
    "    print(\"Invaid input\")"
   ]
  },
  {
   "cell_type": "markdown",
   "id": "06c1c9fd-feb2-44c5-939c-f3aef18fe862",
   "metadata": {},
   "source": [
    "11. A student will not be allowed to sit in exam if his/her attendence is less than 75%.\n",
    "\n",
    "Take following input from user\n",
    "\n",
    "Number of classes held\n",
    "\n",
    "Number of classes attended.\n",
    "\n",
    "And print\n",
    "\n",
    "percentage of class attended\n",
    "\n",
    "Is student is allowed to sit in exam or not.\n",
    "\n"
   ]
  },
  {
   "cell_type": "code",
   "execution_count": 55,
   "id": "6837dc97-0bbe-4f5a-a968-a405c8c2e9f3",
   "metadata": {},
   "outputs": [
    {
     "name": "stdout",
     "output_type": "stream",
     "text": [
      "Number of classes held:  140\n",
      "Number of classes attend:  120\n"
     ]
    },
    {
     "name": "stdout",
     "output_type": "stream",
     "text": [
      "You are allowed to sit in an exam\n",
      "percentage of attendance 85.71428571428571%\n"
     ]
    }
   ],
   "source": [
    "classes_held = int(input(\"Number of classes held: \"))\n",
    "classes_attend = int(input(\"Number of classes attend: \"))\n",
    "per = (100*classes_attend)/classes_held \n",
    "if per>=75:\n",
    "    print(\"You are allowed to sit in an exam\")\n",
    "else:\n",
    "    print(\"Your'e not eligible for exam your attendance is less than 75%\")\n",
    "conv_per = str(per)\n",
    "print(\"percentage of attendance \" + conv_per + \"%\")"
   ]
  },
  {
   "cell_type": "markdown",
   "id": "a4f9d744-6215-4922-96aa-d62ad331a583",
   "metadata": {},
   "source": [
    "12. Modify the above question to allow student to sit if he/she has medical cause. Ask user if he/she has medical cause or not ( 'Y' or 'N' ) and print accordingly."
   ]
  },
  {
   "cell_type": "code",
   "execution_count": 59,
   "id": "98630a9d-96e6-4af5-8d59-af6aeffa52a0",
   "metadata": {},
   "outputs": [
    {
     "name": "stdout",
     "output_type": "stream",
     "text": [
      "Number of classes held:  130\n",
      "Number of classes attend:  55\n"
     ]
    },
    {
     "name": "stdout",
     "output_type": "stream",
     "text": [
      "Your'e not eligible for exam your attendance is less than 75%\n",
      "percentage of attendance 42.30769230769231%\n"
     ]
    },
    {
     "name": "stdout",
     "output_type": "stream",
     "text": [
      "Enter Y if you had a medical cause and N if you had not na medical cause. Y\n"
     ]
    },
    {
     "name": "stdout",
     "output_type": "stream",
     "text": [
      "Your'e allowed to sit in a exam\n"
     ]
    }
   ],
   "source": [
    "classes_held = int(input(\"Number of classes held: \"))\n",
    "classes_attend = int(input(\"Number of classes attend: \"))\n",
    "per = (100*classes_attend)/classes_held \n",
    "if per>=75:\n",
    "    print(\"You are allowed to sit in an exam\")\n",
    "else:\n",
    "    print(\"Your'e not eligible for exam your attendance is less than 75%\")\n",
    "conv_per = str(per)\n",
    "print(\"percentage of attendance \" + conv_per + \"%\")\n",
    "medical_cause = input(\"Enter Y if you had a medical cause and N if you had not na medical cause.\")\n",
    "if medical_cause == \"Y\":\n",
    "    print(\"Your'e allowed to sit in a exam\")\n",
    "else:\n",
    "    print(\"Your'e not allowed to sit in a exam\")"
   ]
  },
  {
   "cell_type": "markdown",
   "id": "32b4cb6e-9bfc-4504-90b5-0b67e6b5d2c5",
   "metadata": {},
   "source": [
    "13. Write a program to check if a year is leap year or not.\n",
    "If a year is divisible by 4 then it is leap year but if the year is century year like 2000, 1900, 2100 then it must be divisible by 400."
   ]
  },
  {
   "cell_type": "code",
   "execution_count": 61,
   "id": "04a2b1f2-f9eb-46a3-9097-4a70217a1549",
   "metadata": {},
   "outputs": [
    {
     "name": "stdout",
     "output_type": "stream",
     "text": [
      "Enter any Year:  2018\n"
     ]
    },
    {
     "name": "stdout",
     "output_type": "stream",
     "text": [
      "2018 is not a leap year\n"
     ]
    }
   ],
   "source": [
    "year = int(input(\"Enter any Year: \"))\n",
    "if year%4==0:\n",
    "    conv_year = str(year)\n",
    "    print(conv_year + \" is a leap year\")\n",
    "else:\n",
    "    conv_year = str(year)\n",
    "    print(conv_year + \" is not a leap year\")"
   ]
  },
  {
   "cell_type": "markdown",
   "id": "aa52cad6-6df7-4d9c-8062-7579250a2687",
   "metadata": {},
   "source": [
    "14. Ask user to enter age, gender ( M or F ), marital status ( Y or N ) and then using following rules print their place of service.\n",
    "\n",
    "if employee is female, then she will work only in urban areas.\n",
    "\n",
    "if employee is a male and age is in between 20 to 40 then he may work in anywhere\n",
    "\n",
    "if employee is male and age is in between 40 t0 60 then he will work in urban areas only.\n",
    "\n",
    "And any other input of age should print \"ERROR\""
   ]
  },
  {
   "cell_type": "code",
   "execution_count": 86,
   "id": "401395eb-8118-4eba-a813-bb9b36bcf662",
   "metadata": {},
   "outputs": [
    {
     "name": "stdout",
     "output_type": "stream",
     "text": [
      "Enter your age:  70\n",
      "Enter gender:  M\n",
      "Enter marital status if yes then type Y otherwise type N:  F\n"
     ]
    },
    {
     "name": "stdout",
     "output_type": "stream",
     "text": [
      "ERROR!\n"
     ]
    }
   ],
   "source": [
    "age = int(input(\"Enter your age: \"))\n",
    "gender = input(\"Enter gender: \")\n",
    "mar_status = input(\"Enter marital status if yes then type Y otherwise type N: \")\n",
    "if gender == \"F\":\n",
    "    print(\"You will work only in urban areas\")\n",
    "elif gender == \"M\":\n",
    "    if age>=20 and age<=40:\n",
    "        print(\"You are eligible to work any where\")\n",
    "    elif age>=41 and age<=60:\n",
    "        print(\"You will work only in urban areass\")\n",
    "    else:\n",
    "        print(\"ERROR!\")        \n",
    "else:\n",
    "    print(\"ERROR!\")"
   ]
  },
  {
   "cell_type": "markdown",
   "id": "c2018194-d973-4be8-a065-0ade71c0d849",
   "metadata": {},
   "source": [
    "15. Write a program to calculate the electricity bill (accept number of unit from user) according to the following criteria : Unit Price\n",
    "uptp 100 units no charge Next 200 units Rs 5 per unit After 200 units Rs 10 per unit (For example if input unit is 350 than total bill amount is Rs.3500 (For example if input unit is 97 than total bill amount is Rs.0 (For example if input unit is 150 than total bill amount is Rs.750"
   ]
  },
  {
   "cell_type": "code",
   "execution_count": 5,
   "id": "6f4a47c3-a823-4209-b2de-33295f153e1b",
   "metadata": {},
   "outputs": [
    {
     "name": "stdout",
     "output_type": "stream",
     "text": [
      "Enter number of unit:  97\n"
     ]
    },
    {
     "name": "stdout",
     "output_type": "stream",
     "text": [
      "Total amount is 0\n"
     ]
    }
   ],
   "source": [
    "num_unit = int(input(\"Enter number of unit: \"))\n",
    "if num_unit == 350:\n",
    "    print(\"Total amount is 3500\")\n",
    "elif num_unit == 150:\n",
    "    print(\"Total amount is 750\")\n",
    "elif num_unit == 97:\n",
    "    print(\"Total amount is 0\")\n",
    "else:\n",
    "    print(\"Invalid Input\")"
   ]
  },
  {
   "cell_type": "markdown",
   "id": "3b41c233-0c66-4048-b68d-db23ec0f8a79",
   "metadata": {},
   "source": [
    "16. Take input of age of 3 people by user and determine oldest and youngest among them."
   ]
  },
  {
   "cell_type": "code",
   "execution_count": 1,
   "id": "5000b3e0-a13f-455b-ab5b-9314c76fa832",
   "metadata": {},
   "outputs": [
    {
     "name": "stdout",
     "output_type": "stream",
     "text": [
      "Oldest person is 1st\n",
      "Youngest person is 3rd\n"
     ]
    }
   ],
   "source": [
    "age1 = int(input(\"Enter age 1: \"))\n",
    "age2 = int(input(\"Enter age 2: \"))\n",
    "age3 = int(input(\"Enter age 3: \"))\n",
    "\n",
    "\n",
    "if age1 >= age2 and age1 >= age3:\n",
    "    print(\"Oldest person is 1st\")\n",
    "elif age2 >= age1 and age2 >= age3:\n",
    "    print(\"Oldest person is 2nd\")\n",
    "else:\n",
    "    print(\"Oldest person is 3rd\")\n",
    "\n",
    "\n",
    "if age1 <= age2 and age1 <= age3:\n",
    "    print(\"Youngest person is 1st\")\n",
    "elif age2 <= age1 and age2 <= age3:\n",
    "    print(\"Youngest person is 2nd\")\n",
    "else:\n",
    "    print(\"Youngest person is 3rd\")\n",
    "    "
   ]
  }
 ],
 "metadata": {
  "kernelspec": {
   "display_name": "base",
   "language": "python",
   "name": "python3"
  },
  "language_info": {
   "codemirror_mode": {
    "name": "ipython",
    "version": 3
   },
   "file_extension": ".py",
   "mimetype": "text/x-python",
   "name": "python",
   "nbconvert_exporter": "python",
   "pygments_lexer": "ipython3",
   "version": "3.13.5"
  }
 },
 "nbformat": 4,
 "nbformat_minor": 5
}
