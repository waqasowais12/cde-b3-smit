{
 "cells": [
  {
   "cell_type": "markdown",
   "id": "ad933904-fde9-42d5-ac8e-860cbf362f69",
   "metadata": {},
   "source": [
    "## LIST OF DICTIONARIES"
   ]
  },
  {
   "cell_type": "code",
   "execution_count": 2,
   "id": "29df8998",
   "metadata": {},
   "outputs": [
    {
     "data": {
      "text/plain": [
       "[{'first name': 'David',\n",
       "  'last name': 'Elliott',\n",
       "  'address': '4803 Wellesley St.'},\n",
       " {'first name': 'Tom', 'last name': 'Curran', 'address': '4803 Wellesley St.'},\n",
       " {'first name': 'Jhon',\n",
       "  'last name': 'anderson',\n",
       "  'address': '4803 Wellesley St.'}]"
      ]
     },
     "execution_count": 2,
     "metadata": {},
     "output_type": "execute_result"
    }
   ],
   "source": [
    "customer_29876 = [\n",
    "{ \"first name\": \"David\",\n",
    " \"last name\": \"Elliott\",\n",
    " \"address\": \"4803 Wellesley St.\",},\n",
    "\n",
    " { \"first name\": \"Tom\",\n",
    " \"last name\": \"Curran\",\n",
    " \"address\": \"4803 Wellesley St.\",},\n",
    "\n",
    " { \"first name\": \"Jhon\",\n",
    " \"last name\": \"anderson\",\n",
    " \"address\": \"4803 Wellesley St.\",}\n",
    "]\n",
    "customer_29876\n"
   ]
  },
  {
   "cell_type": "code",
   "execution_count": 4,
   "id": "e02003c3",
   "metadata": {},
   "outputs": [
    {
     "data": {
      "text/plain": [
       "{'first name': 'Jhon',\n",
       " 'last name': 'anderson',\n",
       " 'address': '4803 Wellesley St.'}"
      ]
     },
     "execution_count": 4,
     "metadata": {},
     "output_type": "execute_result"
    }
   ],
   "source": [
    "customer_29876[2]"
   ]
  },
  {
   "cell_type": "code",
   "execution_count": 6,
   "id": "373a9715",
   "metadata": {},
   "outputs": [
    {
     "data": {
      "text/plain": [
       "'anderson'"
      ]
     },
     "execution_count": 6,
     "metadata": {},
     "output_type": "execute_result"
    }
   ],
   "source": [
    "customer_29876[2][\"last name\"]"
   ]
  },
  {
   "cell_type": "markdown",
   "id": "7a1c78da",
   "metadata": {},
   "source": [
    "## DIctionary of list"
   ]
  },
  {
   "cell_type": "code",
   "execution_count": 10,
   "id": "97177035",
   "metadata": {},
   "outputs": [
    {
     "data": {
      "text/plain": [
       "{'first name': 'Jhon',\n",
       " 'last name': 'anderson',\n",
       " 'address': '4803 Wellesley St.',\n",
       " 'discount': ['standard', 'volume', 'loyalty']}"
      ]
     },
     "execution_count": 10,
     "metadata": {},
     "output_type": "execute_result"
    }
   ],
   "source": [
    "dict_customer = {\n",
    " 'first name': 'Jhon',\n",
    " 'last name': 'anderson',\n",
    " 'address': '4803 Wellesley St.',\n",
    " 'discount': ['standard','volume','loyalty']\n",
    "}\n",
    "\n",
    "dict_customer"
   ]
  },
  {
   "cell_type": "code",
   "execution_count": 11,
   "id": "672c896f",
   "metadata": {},
   "outputs": [
    {
     "data": {
      "text/plain": [
       "['standard', 'volume', 'loyalty']"
      ]
     },
     "execution_count": 11,
     "metadata": {},
     "output_type": "execute_result"
    }
   ],
   "source": [
    "dict_customer['discount']"
   ]
  },
  {
   "cell_type": "code",
   "execution_count": 12,
   "id": "1f653d74",
   "metadata": {},
   "outputs": [
    {
     "data": {
      "text/plain": [
       "'loyalty'"
      ]
     },
     "execution_count": 12,
     "metadata": {},
     "output_type": "execute_result"
    }
   ],
   "source": [
    "dict_customer['discount'][2]"
   ]
  },
  {
   "cell_type": "markdown",
   "id": "9b4a57ed",
   "metadata": {},
   "source": [
    "## Dictionary that contain dictionaries"
   ]
  },
  {
   "cell_type": "code",
   "execution_count": 20,
   "id": "4bc1f06d",
   "metadata": {},
   "outputs": [
    {
     "data": {
      "text/plain": [
       "{'customer_1': {'first name': 'David',\n",
       "  'last name': 'Elliott',\n",
       "  'address': '4803 Wellesley St.'},\n",
       " 'customer_2': {'first name': 'Tom',\n",
       "  'last name': 'Curran',\n",
       "  'address': '4803 Wellesley St.'},\n",
       " 'customer_3': {'first name': 'Jhon',\n",
       "  'last name': 'anderson',\n",
       "  'address': '4803 Wellesley St.'}}"
      ]
     },
     "execution_count": 20,
     "metadata": {},
     "output_type": "execute_result"
    }
   ],
   "source": [
    "customer_29876 = {\n",
    "'customer_1':\n",
    "    { \"first name\": \"David\",\n",
    "    \"last name\": \"Elliott\",\n",
    "    \"address\": \"4803 Wellesley St.\",},\n",
    "\n",
    " 'customer_2':\n",
    "    { \"first name\": \"Tom\",\n",
    "    \"last name\": \"Curran\",\n",
    "    \"address\": \"4803 Wellesley St.\",},\n",
    "\n",
    " 'customer_3':\n",
    "    { \"first name\": \"Jhon\",\n",
    "    \"last name\": \"anderson\",\n",
    "    \"address\": \"4803 Wellesley St.\",}\n",
    "}\n",
    "customer_29876\n"
   ]
  },
  {
   "cell_type": "code",
   "execution_count": 18,
   "id": "564d9f7a",
   "metadata": {},
   "outputs": [
    {
     "data": {
      "text/plain": [
       "{'first name': 'David',\n",
       " 'last name': 'Elliott',\n",
       " 'address': '4803 Wellesley St.'}"
      ]
     },
     "execution_count": 18,
     "metadata": {},
     "output_type": "execute_result"
    }
   ],
   "source": [
    "customer_29876['customer_1']"
   ]
  },
  {
   "cell_type": "code",
   "execution_count": 21,
   "id": "f9ed607c",
   "metadata": {},
   "outputs": [
    {
     "data": {
      "text/plain": [
       "'Elliott'"
      ]
     },
     "execution_count": 21,
     "metadata": {},
     "output_type": "execute_result"
    }
   ],
   "source": [
    "customer_29876['customer_1']['last name']"
   ]
  },
  {
   "cell_type": "markdown",
   "id": "490c548d",
   "metadata": {},
   "source": [
    "## Functions"
   ]
  },
  {
   "cell_type": "code",
   "execution_count": 26,
   "id": "82652073",
   "metadata": {},
   "outputs": [],
   "source": [
    "def operation ():\n",
    "    num1 = int(input(\"Enter number1 : \"))\n",
    "    num2 = int(input(\"Enter number2 : \"))\n",
    "    oprt = input(\"Select any one operator any them '+', '-', '*', '/' : \")\n",
    "    if oprt == '+':\n",
    "        print(num1 + num2)\n",
    "    elif oprt == '-':\n",
    "        print(num1 - num2)\n",
    "    elif oprt == '*':\n",
    "        print(num1 * num2)\n",
    "    elif oprt == '/':\n",
    "        print(num1 / num2)\n"
   ]
  },
  {
   "cell_type": "code",
   "execution_count": 27,
   "id": "f301f9e3",
   "metadata": {},
   "outputs": [
    {
     "name": "stdout",
     "output_type": "stream",
     "text": [
      "12\n"
     ]
    }
   ],
   "source": [
    "operation()"
   ]
  },
  {
   "cell_type": "code",
   "execution_count": 34,
   "id": "ff7651c1",
   "metadata": {},
   "outputs": [],
   "source": [
    "def operation ():\n",
    "    num1 = int(input(\"Enter number1 : \"))\n",
    "    num2 = int(input(\"Enter number2 : \"))\n",
    "    oprt = input(\"Select any one operator any them '+', '-', '*', '/' : \")\n",
    "    epr = f\"{num1}{oprt}{num2}\"\n",
    "    print(f\"Result: {eval(epr)}\")"
   ]
  },
  {
   "cell_type": "code",
   "execution_count": 35,
   "id": "a4d593bf",
   "metadata": {},
   "outputs": [
    {
     "name": "stdout",
     "output_type": "stream",
     "text": [
      "Result: True\n"
     ]
    }
   ],
   "source": [
    "operation()"
   ]
  },
  {
   "cell_type": "code",
   "execution_count": 42,
   "id": "70ce407a",
   "metadata": {},
   "outputs": [],
   "source": [
    "def operation (num1, num2, oprt):\n",
    "    expr = f\"{num1}{oprt}{num2}\"\n",
    "    print(f\"Result: {eval(expr)}\")"
   ]
  },
  {
   "cell_type": "code",
   "execution_count": 43,
   "id": "f55e4eb6",
   "metadata": {},
   "outputs": [
    {
     "name": "stdout",
     "output_type": "stream",
     "text": [
      "Result: False\n"
     ]
    }
   ],
   "source": [
    "num1 = int(input(\"Enter number1 : \"))\n",
    "num2 = int(input(\"Enter number2 : \"))\n",
    "oprt = input(\"Select any one operator any them '+', '-', '*', '/' : \")\n",
    "operation(num1, num2, oprt)"
   ]
  },
  {
   "cell_type": "markdown",
   "id": "25f61a9a",
   "metadata": {},
   "source": [
    "### Task2\n",
    "     \n",
    "- 1. Register a user with his name, email, and password.\n",
    "    - save name, email, password in a list\n",
    "- 2. Create another function to login a user with his email and password you saved on the registration time, if the credential match the data you saved, print his name and a login message if not print a message that you are not registered user please register and run the register."
   ]
  },
  {
   "cell_type": "code",
   "execution_count": 51,
   "id": "0573865e",
   "metadata": {},
   "outputs": [],
   "source": [
    "l = []\n",
    "def user_reg(name, email, password):\n",
    "    l.append(name)\n",
    "    l.append(email)\n",
    "    l.append(password)\n",
    "    print(l)\n",
    "\n"
   ]
  },
  {
   "cell_type": "code",
   "execution_count": 52,
   "id": "1e844d8e",
   "metadata": {},
   "outputs": [],
   "source": [
    "def login (email, password):\n",
    "    if l[1] == email and l[2] == password:\n",
    "        print(f\"Welcome {l[0]}\")\n",
    "    else:\n",
    "        print(\"Login failed\")\n",
    "        user_reg()"
   ]
  },
  {
   "cell_type": "code",
   "execution_count": 53,
   "id": "7ac0746e",
   "metadata": {},
   "outputs": [
    {
     "name": "stdout",
     "output_type": "stream",
     "text": [
      "['Waqas', 'waqas@gmailcom', '1234']\n",
      "Welcome Waqas\n"
     ]
    }
   ],
   "source": [
    "user_reg(\"Waqas\",\"waqas@gmailcom\",\"1234\")\n",
    "login(\"waqas@gmailcom\",\"1234\")"
   ]
  },
  {
   "cell_type": "code",
   "execution_count": null,
   "id": "2d467f7a",
   "metadata": {},
   "outputs": [],
   "source": [
    "                                    ## default value in parameter ##\n",
    "                ### Whenever we define default value like oprt it must be define in the end ###\n",
    "def operation (num1, num2, oprt = '+'):\n",
    "    epr = f\"{num1}{oprt}{num2}\"\n",
    "    print(f\"Result: {eval(epr)}\")"
   ]
  },
  {
   "cell_type": "code",
   "execution_count": 58,
   "id": "6aee56e4",
   "metadata": {},
   "outputs": [
    {
     "name": "stdout",
     "output_type": "stream",
     "text": [
      "Result: 8\n"
     ]
    }
   ],
   "source": [
    "operation(num1=3, num2=5)"
   ]
  },
  {
   "cell_type": "code",
   "execution_count": 59,
   "id": "ebf2c1aa",
   "metadata": {},
   "outputs": [],
   "source": [
    "def display_result(winner, score):\n",
    "    print(f\"Winner was: {winner}\")\n",
    "    print(f\"Score was: {score}\")"
   ]
  },
  {
   "cell_type": "code",
   "execution_count": 61,
   "id": "521b7f7d",
   "metadata": {},
   "outputs": [
    {
     "name": "stdout",
     "output_type": "stream",
     "text": [
      "Winner was: Waqas\n",
      "Score was: 90\n"
     ]
    }
   ],
   "source": [
    "display_result(\"Waqas\", \"90\")"
   ]
  },
  {
   "cell_type": "code",
   "execution_count": 62,
   "id": "0db3c7c0",
   "metadata": {},
   "outputs": [],
   "source": [
    "def display_result(winner, score):\n",
    "    print(f\"Winner was: {winner}\")\n",
    "    print(f\"Score was: {score}\")"
   ]
  },
  {
   "cell_type": "code",
   "execution_count": 64,
   "id": "fbc8dbf5",
   "metadata": {},
   "outputs": [
    {
     "ename": "TypeError",
     "evalue": "display_result() got an unexpected keyword argument 'price'",
     "output_type": "error",
     "traceback": [
      "\u001b[1;31m---------------------------------------------------------------------------\u001b[0m",
      "\u001b[1;31mTypeError\u001b[0m                                 Traceback (most recent call last)",
      "Cell \u001b[1;32mIn[64], line 1\u001b[0m\n\u001b[1;32m----> 1\u001b[0m display_result(winner\u001b[38;5;241m=\u001b[39m\u001b[38;5;124m\"\u001b[39m\u001b[38;5;124mWaqas\u001b[39m\u001b[38;5;124m\"\u001b[39m, score\u001b[38;5;241m=\u001b[39m\u001b[38;5;124m\"\u001b[39m\u001b[38;5;124m90\u001b[39m\u001b[38;5;124m\"\u001b[39m, price\u001b[38;5;241m=\u001b[39m\u001b[38;5;124m\"\u001b[39m\u001b[38;5;124m5000\u001b[39m\u001b[38;5;124m\"\u001b[39m)\n",
      "\u001b[1;31mTypeError\u001b[0m: display_result() got an unexpected keyword argument 'price'"
     ]
    }
   ],
   "source": [
    "display_result(winner=\"Waqas\", score=\"90\", price=\"5000\")"
   ]
  },
  {
   "cell_type": "code",
   "execution_count": null,
   "id": "92d645a6",
   "metadata": {},
   "outputs": [],
   "source": [
    "                        ## If we don't know how many arguements we will recieve\n",
    "\n",
    "def display_result(winner, score, **other_args):\n",
    "    print(f\"Winner was: {winner}\")\n",
    "    print(f\"Score was: {score}\")\n",
    "    for key, value in other_args.items():\n",
    "        print(f\"{key}: {value}\")"
   ]
  },
  {
   "cell_type": "code",
   "execution_count": 67,
   "id": "676dc26f",
   "metadata": {},
   "outputs": [
    {
     "name": "stdout",
     "output_type": "stream",
     "text": [
      "Winner was: Waqas\n",
      "Score was: 90\n",
      "price: 5000\n",
      "attempts: 1\n"
     ]
    }
   ],
   "source": [
    "display_result(winner=\"Waqas\", score=\"90\", price=\"5000\", attempts=\"1\")"
   ]
  },
  {
   "cell_type": "code",
   "execution_count": null,
   "id": "463d50cb",
   "metadata": {},
   "outputs": [],
   "source": [
    "result = 0 \n",
    "def operation (num1, num2, oprt = '-'): ## --> Parameters\n",
    "    if oprt == '+':\n",
    "        result = num1 + num2\n",
    "    elif oprt == '-':\n",
    "        result = num1 - num2\n",
    "    elif oprt == '*':\n",
    "        result = num1 * num2\n",
    "    elif oprt == '/':\n",
    "        result = num1 / num2\n",
    "    else:\n",
    "        print(\"Invalid Operator\")\n",
    "    return result\n"
   ]
  },
  {
   "cell_type": "code",
   "execution_count": 70,
   "id": "22074962",
   "metadata": {},
   "outputs": [
    {
     "data": {
      "text/plain": [
       "435"
      ]
     },
     "execution_count": 70,
     "metadata": {},
     "output_type": "execute_result"
    }
   ],
   "source": [
    "operation(87, 5, '*') ## --> Arguments"
   ]
  },
  {
   "cell_type": "code",
   "execution_count": 71,
   "id": "95495324",
   "metadata": {},
   "outputs": [],
   "source": [
    "                        ### Using function as variables\n",
    "out_put = operation(87, 5, '*')"
   ]
  },
  {
   "cell_type": "code",
   "execution_count": 72,
   "id": "71f64bdd",
   "metadata": {},
   "outputs": [
    {
     "name": "stdout",
     "output_type": "stream",
     "text": [
      "435\n"
     ]
    }
   ],
   "source": [
    "print(out_put)"
   ]
  },
  {
   "cell_type": "code",
   "execution_count": 104,
   "id": "8d72b5b3",
   "metadata": {},
   "outputs": [
    {
     "name": "stdout",
     "output_type": "stream",
     "text": [
      "1234\n"
     ]
    }
   ],
   "source": [
    "dic_student={\n",
    "    'waqas@gmail.com':{\n",
    "        'name':'Haifz Waqas',\n",
    "        'password':'1234',\n",
    "    },\n",
    "    'moiz@gmail.com':{\n",
    "        'name':'Moiz',\n",
    "        'password':'1234',\n",
    "    },\n",
    "    'sameer@gmail.com':{\n",
    "        'name':'Sameer',\n",
    "        'password':'1234',\n",
    "    }\n",
    "}\n",
    "print(dic_student['moiz@gmail.com']['password'])\n",
    "\n",
    "def log (email, password):\n",
    "    if email in dic_student:\n",
    "        if dic_student[email]['password'] == password:\n",
    "            print(f\"Welcome {dic_student[email]['name']}\")\n",
    "        else:\n",
    "            print(\"Wrong password\")\n",
    "    else:\n",
    "        print(\"Email not found\")"
   ]
  },
  {
   "cell_type": "code",
   "execution_count": 105,
   "id": "081091e5",
   "metadata": {},
   "outputs": [
    {
     "name": "stdout",
     "output_type": "stream",
     "text": [
      "Email not found\n"
     ]
    }
   ],
   "source": [
    "\n",
    "log(\"weabr@gmail.com\", \"1234\")"
   ]
  },
  {
   "cell_type": "code",
   "execution_count": 112,
   "id": "fd20783a",
   "metadata": {},
   "outputs": [
    {
     "name": "stdout",
     "output_type": "stream",
     "text": [
      "{'waqas@gmail.com': {'name': 'waqas', 'password': '12345'}, 'sameer@gmail.com': {'name': 'sameer', 'password': '12345'}}\n"
     ]
    }
   ],
   "source": [
    "# dic_student={\n",
    "#     'waqas@gmail.com':{\n",
    "#         'name':'Haifz Waqas',\n",
    "#         'password':'1234',\n",
    "#     },\n",
    "#     'moiz@gmail.com':{\n",
    "#         'name':'Moiz',\n",
    "#         'password':'1234',\n",
    "#     },\n",
    "#     'sameer@gmail.com':{\n",
    "#         'name':'Sameer',\n",
    "#         'password':'1234',\n",
    "#     }\n",
    "# }\n",
    "\n",
    "\n",
    "dic_student = {}\n",
    "close = 'Y'\n",
    "while close == 'Y':\n",
    "    name = input(\"Enter your name: \")\n",
    "    password = input(\"Enter your password: \")\n",
    "    dic_student[f\"{name}@gmail.com\"] = {\"name\": name, \"password\": password}\n",
    "    close = input(\"Are you want to add more press Y other wise press N\")\n",
    "    if close == 'Y':\n",
    "        close = 'Y'\n",
    "    else:\n",
    "        close = 'N'\n",
    "print(dic_student)\n"
   ]
  },
  {
   "cell_type": "code",
   "execution_count": 113,
   "id": "1551e60d",
   "metadata": {},
   "outputs": [],
   "source": [
    "def log (email, password):\n",
    "    if email in dic_student:\n",
    "        if dic_student[email]['password'] == password:\n",
    "            print(f\"Welcome {dic_student[email]['name']}\")\n",
    "        else:\n",
    "            print(\"Wrong password\")\n",
    "    else:\n",
    "        print(\"Email not found\")"
   ]
  },
  {
   "cell_type": "code",
   "execution_count": 108,
   "id": "54a8ad56",
   "metadata": {},
   "outputs": [
    {
     "name": "stdout",
     "output_type": "stream",
     "text": [
      "Welcome sameer\n"
     ]
    }
   ],
   "source": [
    "log(\"sameer@gmail.com\",\"12345\")"
   ]
  }
 ],
 "metadata": {
  "kernelspec": {
   "display_name": "base",
   "language": "python",
   "name": "python3"
  },
  "language_info": {
   "codemirror_mode": {
    "name": "ipython",
    "version": 3
   },
   "file_extension": ".py",
   "mimetype": "text/x-python",
   "name": "python",
   "nbconvert_exporter": "python",
   "pygments_lexer": "ipython3",
   "version": "3.13.5"
  }
 },
 "nbformat": 4,
 "nbformat_minor": 5
}
