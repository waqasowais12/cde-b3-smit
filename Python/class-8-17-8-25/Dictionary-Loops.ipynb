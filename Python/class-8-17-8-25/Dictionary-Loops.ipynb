{
 "cells": [
  {
   "cell_type": "markdown",
   "id": "21c2dd7b-7946-404a-8b4a-753330795572",
   "metadata": {},
   "source": [
    "## Loops\n"
   ]
  },
  {
   "cell_type": "markdown",
   "id": "c8c23eae",
   "metadata": {},
   "source": [
    "syntax\n",
    "\n",
    "for temp in iteratable(1,2,3,4,5):\n",
    "    print(temp)"
   ]
  },
  {
   "cell_type": "markdown",
   "id": "ab5160b1",
   "metadata": {},
   "source": [
    "6. Write a program that prints 'Happy Birthday!' five times on screen. "
   ]
  },
  {
   "cell_type": "code",
   "execution_count": 2,
   "id": "13eab1e8",
   "metadata": {},
   "outputs": [
    {
     "name": "stdout",
     "output_type": "stream",
     "text": [
      "Happy birthday\n",
      "Happy birthday\n",
      "Happy birthday\n",
      "Happy birthday\n",
      "Happy birthday\n"
     ]
    }
   ],
   "source": [
    "for i in range(0,5):\n",
    "    print(\"Happy birthday\")"
   ]
  },
  {
   "cell_type": "markdown",
   "id": "ff55b526",
   "metadata": {},
   "source": [
    "7. Write a program that takes a number n as input from the user and generates the first\n",
    "n terms of the series formed by squaring the natural numbers.\n",
    "\n",
    "Sample output\n",
    "\n",
    "Enter a number: 6\n",
    "The first 6 terms of the series are:\n",
    "1 4 9 16 25 36"
   ]
  },
  {
   "cell_type": "code",
   "execution_count": 17,
   "id": "71c5eb75",
   "metadata": {},
   "outputs": [
    {
     "name": "stdout",
     "output_type": "stream",
     "text": [
      "1\n",
      "4\n",
      "9\n",
      "16\n",
      "25\n",
      "36\n"
     ]
    }
   ],
   "source": [
    "numb = int(input(\"Enter number: \"))\n",
    "for i in range(1,numb+1):\n",
    "    print(i*i)"
   ]
  },
  {
   "cell_type": "code",
   "execution_count": 22,
   "id": "13f0e742",
   "metadata": {},
   "outputs": [
    {
     "name": "stdout",
     "output_type": "stream",
     "text": [
      "3 * 1 = 3\n",
      "3 * 2 = 6\n",
      "3 * 3 = 9\n",
      "3 * 4 = 12\n",
      "3 * 5 = 15\n",
      "3 * 6 = 18\n",
      "3 * 7 = 21\n",
      "3 * 8 = 24\n",
      "3 * 9 = 27\n",
      "3 * 10 = 30\n",
      "3 * 11 = 33\n",
      "3 * 12 = 36\n"
     ]
    }
   ],
   "source": [
    "t_num = int(input(\"Enter number for table: \"))\n",
    "times = int(input(\"Hpw many times you want to print table: \"))\n",
    "\n",
    "for i in range(times):\n",
    "    print(f\"{t_num} * {i+1} = {(i+1)*t_num}\")"
   ]
  },
  {
   "cell_type": "code",
   "execution_count": 36,
   "id": "c479636d",
   "metadata": {},
   "outputs": [
    {
     "name": "stdout",
     "output_type": "stream",
     "text": [
      "2\n",
      "2 * 0 = 0\n",
      "2 * 1 = 2\n",
      "2 * 2 = 4\n",
      "2 * 3 = 6\n",
      "2 * 4 = 8\n",
      "2 * 5 = 10\n",
      "2 * 6 = 12\n",
      "2 * 7 = 14\n",
      "2 * 8 = 16\n",
      "2 * 9 = 18\n",
      "2 * 10 = 20\n",
      "3\n",
      "3 * 0 = 0\n",
      "3 * 1 = 3\n",
      "3 * 2 = 6\n",
      "3 * 3 = 9\n",
      "3 * 4 = 12\n",
      "3 * 5 = 15\n",
      "3 * 6 = 18\n",
      "3 * 7 = 21\n",
      "3 * 8 = 24\n",
      "3 * 9 = 27\n",
      "4\n",
      "4 * 0 = 0\n",
      "4 * 1 = 4\n",
      "4 * 2 = 8\n",
      "4 * 3 = 12\n",
      "4 * 4 = 16\n",
      "4 * 5 = 20\n",
      "4 * 6 = 24\n",
      "4 * 7 = 28\n",
      "4 * 8 = 32\n",
      "5\n",
      "5 * 0 = 0\n",
      "5 * 1 = 5\n",
      "5 * 2 = 10\n",
      "5 * 3 = 15\n",
      "5 * 4 = 20\n",
      "5 * 5 = 25\n",
      "5 * 6 = 30\n",
      "5 * 7 = 35\n"
     ]
    }
   ],
   "source": [
    "start = int(input(\"Enter starting point: \"))\n",
    "end = int(input(\"Enter ending point: \"))\n",
    "time = int(input(\"How many times you want to print table: \"))\n",
    "for table in range(start,end+1):\n",
    "    print(table)\n",
    "    for t in range(time+1):\n",
    "        print(f\"{table} * {t} = {(t)*table}\")\n",
    "    time -=1\n",
    "        "
   ]
  },
  {
   "cell_type": "markdown",
   "id": "fa927d00",
   "metadata": {},
   "source": [
    "## Dictionaries"
   ]
  },
  {
   "cell_type": "markdown",
   "id": "e1c53c2f",
   "metadata": {},
   "source": [
    "- key : value"
   ]
  },
  {
   "cell_type": "code",
   "execution_count": 37,
   "id": "74267bca",
   "metadata": {},
   "outputs": [
    {
     "data": {
      "text/plain": [
       "['Qasim', 'Hassan', 18, 21]"
      ]
     },
     "execution_count": 37,
     "metadata": {},
     "output_type": "execute_result"
    }
   ],
   "source": [
    "['Qasim', 'Hassan', 18, 21]"
   ]
  },
  {
   "cell_type": "code",
   "execution_count": 38,
   "id": "9b4f609a",
   "metadata": {},
   "outputs": [],
   "source": [
    "bio_data = {\n",
    "    \"f_name\": \"Qasim\",\n",
    "    \"l_name\": \"Hassan\",\n",
    "    \"age\": 18,\n",
    "    \"weight\": 21\n",
    "}\n"
   ]
  },
  {
   "cell_type": "code",
   "execution_count": 39,
   "id": "9b10c876",
   "metadata": {},
   "outputs": [
    {
     "data": {
      "text/plain": [
       "(dict, 2094693969728)"
      ]
     },
     "execution_count": 39,
     "metadata": {},
     "output_type": "execute_result"
    }
   ],
   "source": [
    "type(bio_data), id(bio_data)"
   ]
  },
  {
   "cell_type": "code",
   "execution_count": 40,
   "id": "725a24fb",
   "metadata": {},
   "outputs": [],
   "source": [
    "bio_data['is_present'] = True"
   ]
  },
  {
   "cell_type": "code",
   "execution_count": 41,
   "id": "3fc6fed3",
   "metadata": {},
   "outputs": [
    {
     "data": {
      "text/plain": [
       "{'f_name': 'Qasim',\n",
       " 'l_name': 'Hassan',\n",
       " 'age': 18,\n",
       " 'weight': 21,\n",
       " 'is_present': True}"
      ]
     },
     "execution_count": 41,
     "metadata": {},
     "output_type": "execute_result"
    }
   ],
   "source": [
    "bio_data"
   ]
  },
  {
   "cell_type": "markdown",
   "id": "995cf9d9",
   "metadata": {},
   "source": [
    "### Dictionary method \"keys\""
   ]
  },
  {
   "cell_type": "code",
   "execution_count": 43,
   "id": "7b2e36b9",
   "metadata": {},
   "outputs": [
    {
     "data": {
      "text/plain": [
       "dict_keys(['f_name', 'l_name', 'age', 'weight', 'is_present'])"
      ]
     },
     "execution_count": 43,
     "metadata": {},
     "output_type": "execute_result"
    }
   ],
   "source": [
    "bio_data.keys()"
   ]
  },
  {
   "cell_type": "markdown",
   "id": "ca50288a",
   "metadata": {},
   "source": [
    "### Dictionary method \"values\""
   ]
  },
  {
   "cell_type": "code",
   "execution_count": 44,
   "id": "03abc524",
   "metadata": {},
   "outputs": [
    {
     "data": {
      "text/plain": [
       "dict_values(['Qasim', 'Hassan', 18, 21, True])"
      ]
     },
     "execution_count": 44,
     "metadata": {},
     "output_type": "execute_result"
    }
   ],
   "source": [
    "bio_data.values()"
   ]
  },
  {
   "cell_type": "markdown",
   "id": "0a50eb6e",
   "metadata": {},
   "source": [
    "### Dictionary method \"items\""
   ]
  },
  {
   "cell_type": "code",
   "execution_count": 45,
   "id": "10fe32d5",
   "metadata": {},
   "outputs": [
    {
     "data": {
      "text/plain": [
       "dict_items([('f_name', 'Qasim'), ('l_name', 'Hassan'), ('age', 18), ('weight', 21), ('is_present', True)])"
      ]
     },
     "execution_count": 45,
     "metadata": {},
     "output_type": "execute_result"
    }
   ],
   "source": [
    "bio_data.items()"
   ]
  },
  {
   "cell_type": "markdown",
   "id": "30cba65d",
   "metadata": {},
   "source": [
    "### Dictionary method \"get\""
   ]
  },
  {
   "cell_type": "code",
   "execution_count": 49,
   "id": "6c0c5bd3",
   "metadata": {},
   "outputs": [
    {
     "data": {
      "text/plain": [
       "('Qasim', None)"
      ]
     },
     "execution_count": 49,
     "metadata": {},
     "output_type": "execute_result"
    }
   ],
   "source": [
    "bio_data.get('f_name') , bio_data.get('cnic')"
   ]
  },
  {
   "cell_type": "code",
   "execution_count": 50,
   "id": "a91cfec4",
   "metadata": {},
   "outputs": [
    {
     "data": {
      "text/plain": [
       "18"
      ]
     },
     "execution_count": 50,
     "metadata": {},
     "output_type": "execute_result"
    }
   ],
   "source": [
    "bio_data['age']"
   ]
  },
  {
   "cell_type": "code",
   "execution_count": 51,
   "id": "999d29b7",
   "metadata": {},
   "outputs": [],
   "source": [
    "bio_data['f_name'] = \"Umair\""
   ]
  },
  {
   "cell_type": "code",
   "execution_count": 79,
   "id": "9fd51718",
   "metadata": {},
   "outputs": [
    {
     "data": {
      "text/plain": [
       "{'f_name': 'Umair', 'l_name': 'Hassan', 'weight': 21, 'age': 18}"
      ]
     },
     "execution_count": 79,
     "metadata": {},
     "output_type": "execute_result"
    }
   ],
   "source": [
    "bio_data['age'] = 18\n",
    "bio_data"
   ]
  },
  {
   "cell_type": "markdown",
   "id": "b60d2895",
   "metadata": {},
   "source": [
    "### Dictionary \"pop\" method"
   ]
  },
  {
   "cell_type": "code",
   "execution_count": 70,
   "id": "f8837a87",
   "metadata": {},
   "outputs": [
    {
     "name": "stdout",
     "output_type": "stream",
     "text": [
      "18\n"
     ]
    }
   ],
   "source": [
    "my_age = bio_data.pop('age')\n",
    "print(my_age)"
   ]
  },
  {
   "cell_type": "code",
   "execution_count": null,
   "id": "71e89cbd",
   "metadata": {},
   "outputs": [
    {
     "name": "stdout",
     "output_type": "stream",
     "text": [
      "18\n"
     ]
    }
   ],
   "source": [
    "print(bio_data.pop('age'))"
   ]
  },
  {
   "cell_type": "markdown",
   "id": "e29b85ec",
   "metadata": {},
   "source": [
    "### Dictionary method \"popitem\""
   ]
  },
  {
   "cell_type": "code",
   "execution_count": 78,
   "id": "1e33dc64",
   "metadata": {},
   "outputs": [
    {
     "data": {
      "text/plain": [
       "('age', 18)"
      ]
     },
     "execution_count": 78,
     "metadata": {},
     "output_type": "execute_result"
    }
   ],
   "source": [
    "bio_data.popitem()"
   ]
  },
  {
   "cell_type": "markdown",
   "id": "d6d91fde",
   "metadata": {},
   "source": [
    "### Dictionary method \"setdefault\""
   ]
  },
  {
   "cell_type": "code",
   "execution_count": 80,
   "id": "67b905e5",
   "metadata": {},
   "outputs": [
    {
     "data": {
      "text/plain": [
       "18"
      ]
     },
     "execution_count": 80,
     "metadata": {},
     "output_type": "execute_result"
    }
   ],
   "source": [
    "bio_data.setdefault(\"age\")"
   ]
  },
  {
   "cell_type": "code",
   "execution_count": 81,
   "id": "d088a046",
   "metadata": {},
   "outputs": [
    {
     "data": {
      "text/plain": [
       "{'f_name': 'Umair', 'l_name': 'Hassan', 'weight': 21, 'age': 18}"
      ]
     },
     "execution_count": 81,
     "metadata": {},
     "output_type": "execute_result"
    }
   ],
   "source": [
    "bio_data"
   ]
  },
  {
   "cell_type": "code",
   "execution_count": null,
   "id": "61624fa5",
   "metadata": {},
   "outputs": [],
   "source": [
    "bio_data.setdefault(\"city\")"
   ]
  },
  {
   "cell_type": "code",
   "execution_count": null,
   "id": "ce43aef9",
   "metadata": {},
   "outputs": [
    {
     "data": {
      "text/plain": [
       "{'f_name': 'Umair', 'l_name': 'Hassan', 'weight': 21, 'age': 18, 'city': None}"
      ]
     },
     "execution_count": 86,
     "metadata": {},
     "output_type": "execute_result"
    }
   ],
   "source": [
    "bio_data"
   ]
  },
  {
   "cell_type": "code",
   "execution_count": 87,
   "id": "bda0f60d",
   "metadata": {},
   "outputs": [],
   "source": [
    "bio_data['city'] = \"karachi\""
   ]
  },
  {
   "cell_type": "code",
   "execution_count": 88,
   "id": "1523c44c",
   "metadata": {},
   "outputs": [
    {
     "data": {
      "text/plain": [
       "{'f_name': 'Umair',\n",
       " 'l_name': 'Hassan',\n",
       " 'weight': 21,\n",
       " 'age': 18,\n",
       " 'city': 'karachi'}"
      ]
     },
     "execution_count": 88,
     "metadata": {},
     "output_type": "execute_result"
    }
   ],
   "source": [
    "bio_data"
   ]
  },
  {
   "cell_type": "code",
   "execution_count": 89,
   "id": "b51cafb9",
   "metadata": {},
   "outputs": [
    {
     "data": {
      "text/plain": [
       "'zaiton Ashraf'"
      ]
     },
     "execution_count": 89,
     "metadata": {},
     "output_type": "execute_result"
    }
   ],
   "source": [
    "bio_data.setdefault(\"campus\",\"zaiton Ashraf\")"
   ]
  },
  {
   "cell_type": "code",
   "execution_count": 90,
   "id": "2f17778f",
   "metadata": {},
   "outputs": [
    {
     "data": {
      "text/plain": [
       "{'f_name': 'Umair',\n",
       " 'l_name': 'Hassan',\n",
       " 'weight': 21,\n",
       " 'age': 18,\n",
       " 'city': 'karachi',\n",
       " 'campus': 'zaiton Ashraf'}"
      ]
     },
     "execution_count": 90,
     "metadata": {},
     "output_type": "execute_result"
    }
   ],
   "source": [
    "bio_data"
   ]
  },
  {
   "cell_type": "markdown",
   "id": "b7df33b0",
   "metadata": {},
   "source": [
    "### Dictionary method \"update\""
   ]
  },
  {
   "cell_type": "code",
   "execution_count": 91,
   "id": "ce4675a4",
   "metadata": {},
   "outputs": [],
   "source": [
    "bio_data.update({\"Faculty\":\"Qasim Hassan\"})"
   ]
  },
  {
   "cell_type": "code",
   "execution_count": 92,
   "id": "172b2c11",
   "metadata": {},
   "outputs": [
    {
     "data": {
      "text/plain": [
       "{'f_name': 'Umair',\n",
       " 'l_name': 'Hassan',\n",
       " 'weight': 21,\n",
       " 'age': 18,\n",
       " 'city': 'karachi',\n",
       " 'campus': 'zaiton Ashraf',\n",
       " 'Faculty': 'Qasim Hassan'}"
      ]
     },
     "execution_count": 92,
     "metadata": {},
     "output_type": "execute_result"
    }
   ],
   "source": [
    "bio_data"
   ]
  },
  {
   "cell_type": "markdown",
   "id": "dbb3121c",
   "metadata": {},
   "source": [
    "## Explanation of dictionary methods\n",
    "\n",
    "- keys() - return all the keys in dictionary\n",
    "- values() - return all the values in the dictionary\n",
    "- items() - return all the items of dictionary with keys and it's values\n",
    "- get() - return value of given key\n",
    "- pop() - gives a key and remove it\n",
    "- popitems() - required no arguments and return a last key value in tuple form\n",
    "- setdefault() - If key is already in the dictionary → it simply returns the existing value. If key is NOT in the dictionary → it adds that key with the given default_value and returns that value.\n",
    "- update() - merging the dictionary in the last index."
   ]
  },
  {
   "cell_type": "markdown",
   "id": "44d08af1",
   "metadata": {},
   "source": [
    "### Dictionaries: The versatility of keys and values"
   ]
  },
  {
   "cell_type": "code",
   "execution_count": 93,
   "id": "79a01861",
   "metadata": {},
   "outputs": [],
   "source": [
    "bio_data = {\n",
    "    0:'Qasim',\n",
    "    1:'Hassan',\n",
    "    2:23\n",
    "}"
   ]
  },
  {
   "cell_type": "code",
   "execution_count": 94,
   "id": "4cdeb7e7",
   "metadata": {},
   "outputs": [
    {
     "data": {
      "text/plain": [
       "{0: 'Qasim', 1: 'Hassan', 2: 23}"
      ]
     },
     "execution_count": 94,
     "metadata": {},
     "output_type": "execute_result"
    }
   ],
   "source": [
    "bio_data"
   ]
  },
  {
   "cell_type": "code",
   "execution_count": 95,
   "id": "8f0bacff",
   "metadata": {},
   "outputs": [],
   "source": [
    "bio_data['is_present'] = True"
   ]
  },
  {
   "cell_type": "code",
   "execution_count": 96,
   "id": "104e1c87",
   "metadata": {},
   "outputs": [
    {
     "data": {
      "text/plain": [
       "{0: 'Qasim', 1: 'Hassan', 2: 23, 'is_present': True}"
      ]
     },
     "execution_count": 96,
     "metadata": {},
     "output_type": "execute_result"
    }
   ],
   "source": [
    "bio_data"
   ]
  },
  {
   "cell_type": "code",
   "execution_count": 97,
   "id": "43ecf122",
   "metadata": {},
   "outputs": [],
   "source": [
    "del(bio_data['is_present'])"
   ]
  },
  {
   "cell_type": "code",
   "execution_count": 98,
   "id": "a602d796",
   "metadata": {},
   "outputs": [
    {
     "data": {
      "text/plain": [
       "{0: 'Qasim', 1: 'Hassan', 2: 23}"
      ]
     },
     "execution_count": 98,
     "metadata": {},
     "output_type": "execute_result"
    }
   ],
   "source": [
    "bio_data"
   ]
  },
  {
   "cell_type": "markdown",
   "id": "376487c2",
   "metadata": {},
   "source": [
    "## Looping on dictionaries"
   ]
  },
  {
   "cell_type": "code",
   "execution_count": null,
   "id": "e0ea35b0",
   "metadata": {},
   "outputs": [
    {
     "name": "stdout",
     "output_type": "stream",
     "text": [
      "f_name\n",
      "l_name\n",
      "age\n",
      "weight\n"
     ]
    }
   ],
   "source": [
    "for temp in bio_data: ## by default keys\n",
    "    print(temp)\n"
   ]
  },
  {
   "cell_type": "code",
   "execution_count": 114,
   "id": "48138668",
   "metadata": {},
   "outputs": [
    {
     "name": "stdout",
     "output_type": "stream",
     "text": [
      "Qasim\n",
      "Hassan\n",
      "18\n",
      "25\n"
     ]
    }
   ],
   "source": [
    "for temp in bio_data.values(): ## only values\n",
    "    print(temp) "
   ]
  },
  {
   "cell_type": "code",
   "execution_count": null,
   "id": "256cb905",
   "metadata": {},
   "outputs": [
    {
     "name": "stdout",
     "output_type": "stream",
     "text": [
      "f_name --> Qasim\n",
      "l_name --> Hassan\n",
      "age --> 18\n",
      "weight --> 25\n"
     ]
    }
   ],
   "source": [
    "for key, value in bio_data.items(): ## complete key value in separate variables\n",
    "    print(f\"{key} --> {value}\")"
   ]
  },
  {
   "cell_type": "code",
   "execution_count": 99,
   "id": "bacc27a1",
   "metadata": {},
   "outputs": [
    {
     "name": "stdout",
     "output_type": "stream",
     "text": [
      "0 --> Qasim \n",
      "1 --> Hassan \n",
      "2 --> 23 \n"
     ]
    }
   ],
   "source": [
    "for key, value in bio_data.items():\n",
    "    print(f\"{key} --> {value} \")"
   ]
  },
  {
   "cell_type": "markdown",
   "id": "79212746",
   "metadata": {},
   "source": [
    "## List Comprehension"
   ]
  },
  {
   "cell_type": "markdown",
   "id": "c26cd6bd",
   "metadata": {},
   "source": [
    "### Without Condition"
   ]
  },
  {
   "cell_type": "code",
   "execution_count": 127,
   "id": "682cef7f",
   "metadata": {},
   "outputs": [
    {
     "data": {
      "text/plain": [
       "[0, 1, 2, 3, 4, 5, 6, 7, 8, 9]"
      ]
     },
     "execution_count": 127,
     "metadata": {},
     "output_type": "execute_result"
    }
   ],
   "source": [
    "## normal way of code\n",
    "lst = []\n",
    "for temp in range(10):\n",
    "    lst.append(temp)\n",
    "\n",
    "lst"
   ]
  },
  {
   "cell_type": "code",
   "execution_count": null,
   "id": "a13a212f",
   "metadata": {},
   "outputs": [
    {
     "data": {
      "text/plain": [
       "[0, 1, 2, 3, 4, 5, 6, 7, 8, 9]"
      ]
     },
     "execution_count": 128,
     "metadata": {},
     "output_type": "execute_result"
    }
   ],
   "source": [
    "## List comprehension\n",
    "[ temp for temp in range(10)]"
   ]
  },
  {
   "cell_type": "markdown",
   "id": "c4d3f7df",
   "metadata": {},
   "source": [
    "### With Condition"
   ]
  },
  {
   "cell_type": "code",
   "execution_count": 122,
   "id": "8376180e",
   "metadata": {},
   "outputs": [
    {
     "data": {
      "text/plain": [
       "[0, 'Odd', 2, 'Odd', 4, 'Odd', 6, 'Odd', 8, 'Odd']"
      ]
     },
     "execution_count": 122,
     "metadata": {},
     "output_type": "execute_result"
    }
   ],
   "source": [
    "## normal way of code\n",
    "lst = [] \n",
    "for temp in range(10):\n",
    "    if temp % 2 == 0:\n",
    "        lst.append(temp)\n",
    "    else:\n",
    "        lst.append(\"Odd\")\n",
    "    \n",
    "lst"
   ]
  },
  {
   "cell_type": "code",
   "execution_count": 123,
   "id": "d862d423",
   "metadata": {},
   "outputs": [
    {
     "data": {
      "text/plain": [
       "[0, 'odd', 2, 'odd', 4, 'odd', 6, 'odd', 8, 'odd']"
      ]
     },
     "execution_count": 123,
     "metadata": {},
     "output_type": "execute_result"
    }
   ],
   "source": [
    "## List comprehension\n",
    "[temp if temp % 2 == 0  else (\"odd\") for temp in range(10)]"
   ]
  },
  {
   "cell_type": "markdown",
   "id": "dc9c6aef",
   "metadata": {},
   "source": [
    "### Dictionary Comprehension"
   ]
  },
  {
   "cell_type": "code",
   "execution_count": 129,
   "id": "eaa68a35",
   "metadata": {},
   "outputs": [],
   "source": [
    "lst1 = [\"f_name\",\"l_name\",\"age\",\"city\"]\n",
    "lst2 = [\"Waqas\",\"Khan\",23,\"Karachi\"]"
   ]
  },
  {
   "cell_type": "code",
   "execution_count": null,
   "id": "1f410395",
   "metadata": {},
   "outputs": [
    {
     "data": {
      "text/plain": [
       "{'f_name': 'Waqas', 'l_name': 'Khan', 'age': 23, 'city': 'Karachi'}"
      ]
     },
     "execution_count": 130,
     "metadata": {},
     "output_type": "execute_result"
    }
   ],
   "source": [
    "## normal way of code\n",
    "bio_data ={\n",
    "\n",
    "} \n",
    "for temp in zip(lst1,lst2):\n",
    "    bio_data[temp[0]] = temp[1]\n",
    "bio_data"
   ]
  },
  {
   "cell_type": "code",
   "execution_count": 132,
   "id": "fcd01c0b",
   "metadata": {},
   "outputs": [
    {
     "data": {
      "text/plain": [
       "{'f_name': 'Waqas', 'l_name': 'Khan', 'age': 23, 'city': 'Karachi'}"
      ]
     },
     "execution_count": 132,
     "metadata": {},
     "output_type": "execute_result"
    }
   ],
   "source": [
    "## Dictionary comprehension\n",
    "{temp[0]:temp[1] for temp in zip(lst1,lst2)}"
   ]
  },
  {
   "cell_type": "code",
   "execution_count": 137,
   "id": "8bf09069",
   "metadata": {},
   "outputs": [
    {
     "data": {
      "text/plain": [
       "{0: 0, 2: 4, 4: 16, 6: 36, 8: 64}"
      ]
     },
     "execution_count": 137,
     "metadata": {},
     "output_type": "execute_result"
    }
   ],
   "source": [
    "dic = {\n",
    "    \n",
    "}\n",
    "for i in range(0,9,2):\n",
    "    dic[i] = i ** 2\n",
    "dic"
   ]
  },
  {
   "cell_type": "code",
   "execution_count": 138,
   "id": "ca01fe25",
   "metadata": {},
   "outputs": [
    {
     "data": {
      "text/plain": [
       "{0: 0, 2: 4, 4: 16, 6: 36, 8: 64}"
      ]
     },
     "execution_count": 138,
     "metadata": {},
     "output_type": "execute_result"
    }
   ],
   "source": [
    "{i:i**2 for i in range(0,9,2)}"
   ]
  },
  {
   "cell_type": "code",
   "execution_count": 102,
   "id": "e69a1ed1",
   "metadata": {},
   "outputs": [],
   "source": [
    "lst1 = ['f_name','l_name','age','weight']\n",
    "lst2 = [\"Qasim\",\"Hassan\",18,25]\n"
   ]
  },
  {
   "cell_type": "code",
   "execution_count": 108,
   "id": "31a84ff1",
   "metadata": {},
   "outputs": [
    {
     "name": "stdout",
     "output_type": "stream",
     "text": [
      "('f_name', 'Qasim')\n",
      "('l_name', 'Hassan')\n",
      "('age', 18)\n",
      "('weight', 25)\n"
     ]
    }
   ],
   "source": [
    "bio_data ={\n",
    "\n",
    "}\n",
    "for temp in zip(lst1,lst2):\n",
    "    print(temp)\n",
    "    bio_data[temp[0]] = temp[1]"
   ]
  },
  {
   "cell_type": "code",
   "execution_count": 109,
   "id": "abf4dc36",
   "metadata": {},
   "outputs": [
    {
     "data": {
      "text/plain": [
       "{'f_name': 'Qasim', 'l_name': 'Hassan', 'age': 18, 'weight': 25}"
      ]
     },
     "execution_count": 109,
     "metadata": {},
     "output_type": "execute_result"
    }
   ],
   "source": [
    "bio_data"
   ]
  },
  {
   "cell_type": "code",
   "execution_count": 110,
   "id": "9915a686",
   "metadata": {},
   "outputs": [],
   "source": [
    "bio_data = {temp[0]:temp[1] for temp in zip(lst1,lst2)}"
   ]
  },
  {
   "cell_type": "code",
   "execution_count": 111,
   "id": "717d234c",
   "metadata": {},
   "outputs": [
    {
     "data": {
      "text/plain": [
       "{'f_name': 'Qasim', 'l_name': 'Hassan', 'age': 18, 'weight': 25}"
      ]
     },
     "execution_count": 111,
     "metadata": {},
     "output_type": "execute_result"
    }
   ],
   "source": [
    "bio_data"
   ]
  },
  {
   "cell_type": "code",
   "execution_count": null,
   "id": "7dc41499",
   "metadata": {},
   "outputs": [],
   "source": []
  }
 ],
 "metadata": {
  "kernelspec": {
   "display_name": "base",
   "language": "python",
   "name": "python3"
  },
  "language_info": {
   "codemirror_mode": {
    "name": "ipython",
    "version": 3
   },
   "file_extension": ".py",
   "mimetype": "text/x-python",
   "name": "python",
   "nbconvert_exporter": "python",
   "pygments_lexer": "ipython3",
   "version": "3.13.5"
  }
 },
 "nbformat": 4,
 "nbformat_minor": 5
}
