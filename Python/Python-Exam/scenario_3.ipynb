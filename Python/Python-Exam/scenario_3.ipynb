{
 "cells": [
  {
   "cell_type": "markdown",
   "id": "60d26040",
   "metadata": {},
   "source": [
    "### Scenario 3\n",
    "\n",
    "- Functions and Modules (Library management system)"
   ]
  },
  {
   "cell_type": "code",
   "execution_count": 29,
   "id": "be97a760",
   "metadata": {},
   "outputs": [],
   "source": [
    "import math\n",
    "from datetime import datetime, timedelta"
   ]
  },
  {
   "cell_type": "code",
   "execution_count": 28,
   "id": "379f08a5",
   "metadata": {},
   "outputs": [],
   "source": [
    "# Module 1:  Managing book inventory\n",
    "\n",
    "class manage_book_inventory():\n",
    "\n",
    "    def __init__(self, title, author):\n",
    "        self.title = title\n",
    "        self.author = author\n",
    "\n",
    "        self.add_books()\n",
    "\n",
    "    # method for add a book\n",
    "    def add_books(self): \n",
    "        with open('./book_inventory.txt', 'a') as file:\n",
    "            file.write(f'{self.title}, {self.author}\\n')\n",
    "        print(f'Book {self.title} by {self.author} saved succesfully!')\n",
    "\n",
    "    # method for read inventory\n",
    "    def read_inv(self):\n",
    "        with open('./book_inventory.txt', 'r') as r:\n",
    "            inventory = r.read()\n",
    "            print(inventory)\n",
    "    \n",
    "    # method for remove a book\n",
    "    def remove_inv(self, name_to_remove):\n",
    "        lines = []\n",
    "        with open('./book_inventory.txt', 'r') as r:\n",
    "            file = r.readlines()\n",
    "\n",
    "            for line in file:\n",
    "\n",
    "                line = line.strip()\n",
    "                if not line:\n",
    "                    continue\n",
    "\n",
    "                if ',' not in line:\n",
    "                    continue\n",
    "\n",
    "                title, author = line.split(',', 1)\n",
    "                if title.strip() != name_to_remove.strip():\n",
    "                    lines.append(f'{title}, {author}\\n')\n",
    "\n",
    "        with open('./book_inventory.txt', 'w') as file:\n",
    "            file.writelines(lines)\n",
    "            \n",
    "        print(f'Remove record for {name_to_remove} succesfully.')"
   ]
  },
  {
   "cell_type": "code",
   "execution_count": 31,
   "id": "48bfadde",
   "metadata": {},
   "outputs": [
    {
     "name": "stdout",
     "output_type": "stream",
     "text": [
      "Book Web Development by Mark Lee saved succesfully!\n"
     ]
    }
   ],
   "source": [
    "title = input(\"Enter book title: \")\n",
    "author = input(\"Enter author name: \")\n",
    "man_inv_book_obj = manage_book_inventory(title, author)"
   ]
  },
  {
   "cell_type": "code",
   "execution_count": 32,
   "id": "1195ff21",
   "metadata": {},
   "outputs": [
    {
     "name": "stdout",
     "output_type": "stream",
     "text": [
      "Python Basics, John Smith\n",
      "Data Science 101, Alice Brown\n",
      "Web Development, Mark Lee\n",
      "\n"
     ]
    }
   ],
   "source": [
    "man_inv_book_obj.read_inv()"
   ]
  },
  {
   "cell_type": "code",
   "execution_count": 34,
   "id": "2eaf37ac",
   "metadata": {},
   "outputs": [
    {
     "name": "stdout",
     "output_type": "stream",
     "text": [
      "Remove record for Web Development succesfully.\n"
     ]
    }
   ],
   "source": [
    "man_inv_book_obj.remove_inv('Web Development')"
   ]
  },
  {
   "cell_type": "code",
   "execution_count": 22,
   "id": "0c2a2025",
   "metadata": {},
   "outputs": [],
   "source": [
    "class book_borrow_ret():\n",
    "    \n",
    "    def borrow_book(self, name_to_borrow):\n",
    "        lines = []\n",
    "        found = False\n",
    "        with open('./book_inventory.txt', 'r') as r:\n",
    "            file = r.readlines()\n",
    "\n",
    "            for line in file:\n",
    "\n",
    "                line = line.strip()\n",
    "                if not line or ',' not in line:\n",
    "                    continue\n",
    "\n",
    "                title, author = line.split(',', 1)\n",
    "\n",
    "                if title.strip().lower() == name_to_borrow.strip().lower():\n",
    "                    found = True\n",
    "                    with open('./borrowed_books.txt', 'a') as file:\n",
    "                        current_date = datetime.now().strftime('%Y-%m-%d')\n",
    "                        file.write(f'{title}, {author}, {current_date} \\n')\n",
    "                else:\n",
    "                    lines.append(f'{title}, {author}\\n') \n",
    "        if found:\n",
    "            with open('./book_inventory.txt', 'w') as file:\n",
    "                file.writelines(lines)\n",
    "            print(f' \"{name_to_borrow}\" has been borrowed succesfully!')\n",
    "        else:\n",
    "            print(f' \"{name_to_borrow}\" not found in inventory.')\n",
    "            \n",
    "\n",
    "    def return_book(self, name_to_return):\n",
    "        lines = []\n",
    "        found = False\n",
    "        with open('./borrowed_books.txt', 'r') as r:\n",
    "            file = r.readlines()\n",
    "\n",
    "            for line in file:\n",
    "\n",
    "                line = line.strip()\n",
    "                if not line or ',' not in line:\n",
    "                    continue\n",
    "\n",
    "                title, author, date = line.split(', ')\n",
    "\n",
    "                if title.strip().lower() == name_to_return.strip().lower():\n",
    "                    found = True\n",
    "                    with open('./book_inventory.txt', 'a') as file:\n",
    "                        file.write(f'{title}, {author}\\n')\n",
    "                else:\n",
    "                    lines.append(f'{title}, {author}\\n') \n",
    "        if found:\n",
    "            with open('./borrowed_books.txt', 'w') as file:\n",
    "                file.writelines(lines)\n",
    "            print(f' \"{name_to_return}\" has been returned succesfully!')\n",
    "        else:\n",
    "            print(f' \"{name_to_return}\" not found in borrowed list.')"
   ]
  },
  {
   "cell_type": "code",
   "execution_count": 23,
   "id": "cd297646",
   "metadata": {},
   "outputs": [],
   "source": [
    "borrow_obj = book_borrow_ret()"
   ]
  },
  {
   "cell_type": "code",
   "execution_count": 13,
   "id": "002ef841",
   "metadata": {},
   "outputs": [
    {
     "name": "stdout",
     "output_type": "stream",
     "text": [
      " \"Data Science 101\" has been borrowed succesfully!\n"
     ]
    }
   ],
   "source": [
    "title_borrow_book = input('Enter book title to borrow: ')\n",
    "borrow_obj.borrow_book(title_borrow_book)"
   ]
  },
  {
   "cell_type": "code",
   "execution_count": 26,
   "id": "18aa4565",
   "metadata": {},
   "outputs": [
    {
     "name": "stdout",
     "output_type": "stream",
     "text": [
      " \"Machine Learning\" has been returned succesfully!\n"
     ]
    }
   ],
   "source": [
    "name_to_return = input('Enter book title to return: ')\n",
    "borrow_obj.return_book(name_to_return)"
   ]
  },
  {
   "cell_type": "code",
   "execution_count": null,
   "id": "d5cc6a61",
   "metadata": {},
   "outputs": [],
   "source": [
    "class FineCalculator():\n",
    "    \n",
    "    def __init__(self, book_name, borrow_date, return_date):\n",
    "        self.book_name = book_name\n",
    "        self.borrow_date = datetime.strptime(borrow_date, '%Y-%m-%d')\n",
    "        self.return_date = datetime.strptime(return_date, '%Y-%m-%d')\n",
    "\n",
    "    def calculate_fine(self):\n",
    "        allowed_days = 7 \n",
    "        fine_per_day = 100\n",
    "\n",
    "        total_days = (self.return_date - self.borrow_date).days\n",
    "\n",
    "        if total_days <= allowed_days:\n",
    "            print(f'{self.book_name} returned on time. No fine!')\n",
    "        else:\n",
    "            late_days = total_days - allowed_days\n",
    "\n",
    "            fine = math.ceil(late_days)*fine_per_day\n",
    "\n",
    "            print(f'{self.book_name} is returned {late_days} days late.')\n",
    "            print(f'Total fine = {fine} Rs.')"
   ]
  },
  {
   "cell_type": "code",
   "execution_count": 72,
   "id": "33815ebb",
   "metadata": {},
   "outputs": [
    {
     "name": "stdout",
     "output_type": "stream",
     "text": [
      "Data Science 101 is returned 3 days late.\n",
      "Total fine = 300 Rs.\n"
     ]
    }
   ],
   "source": [
    "fine_cal_obj = FineCalculator('Data Science 101', '2025-09-25', '2025-10-05')\n",
    "fine_cal_obj.calculate_fine()"
   ]
  },
  {
   "cell_type": "code",
   "execution_count": null,
   "id": "8c39b31d",
   "metadata": {},
   "outputs": [],
   "source": [
    "class Overdue_books():\n",
    "\n",
    "    def filter_overdue_books(self):\n",
    "        overdue_books = []\n",
    "        today = datetime.now().date()\n",
    "\n",
    "        with open('./borrowed_books.txt', 'r') as file:\n",
    "            for line in file:\n",
    "                title, author, date_str = line.strip().split(', ')\n",
    "                borrow_date = datetime.strptime(date_str, '%Y-%m-%d').date()\n",
    "                \n",
    "                if today > borrow_date + timedelta(days=14):\n",
    "                    overdue_books.append(f'{title}, {author}, {date_str}')\n",
    "        return overdue_books\n",
    "    \n",
    "    def report_overdue(self):\n",
    "        report = list(map(lambda b: print(f'Overdue: {b.split(', ')[0]} by {b.split(', ')[1]} (Borrowed: {b.split(', ')[2]})'), self.filter_overdue_books()))\n",
    "        return report\n",
    "    \n",
    "    def report_borrowed(self):\n",
    "        with open('./borrowed_books.txt', 'r') as file:\n",
    "            report = [books for books in file]\n",
    "        return report"
   ]
  },
  {
   "cell_type": "code",
   "execution_count": 52,
   "id": "8e2dcc5e",
   "metadata": {},
   "outputs": [
    {
     "data": {
      "text/plain": [
       "['Machine Learning, Arif Hussain, 2025-9-1',\n",
       " 'Data Science 101, Alice brown, 2025-8-23']"
      ]
     },
     "execution_count": 52,
     "metadata": {},
     "output_type": "execute_result"
    }
   ],
   "source": [
    "over_due_obj = Overdue_books()\n",
    "\n",
    "over_due_obj.filter_overdue_books()"
   ]
  },
  {
   "cell_type": "code",
   "execution_count": 54,
   "id": "1fa48351",
   "metadata": {},
   "outputs": [
    {
     "name": "stdout",
     "output_type": "stream",
     "text": [
      "Overdue: Machine Learning by Arif Hussain (Borrowed: 2025-9-1)\n",
      "Overdue: Data Science 101 by Alice brown (Borrowed: 2025-8-23)\n"
     ]
    },
    {
     "data": {
      "text/plain": [
       "[None, None]"
      ]
     },
     "execution_count": 54,
     "metadata": {},
     "output_type": "execute_result"
    }
   ],
   "source": [
    "over_due_obj.report_overdue()"
   ]
  },
  {
   "cell_type": "code",
   "execution_count": 55,
   "id": "84639976",
   "metadata": {},
   "outputs": [
    {
     "data": {
      "text/plain": [
       "['Machine Learning, Arif Hussain, 2025-9-1\\n',\n",
       " 'Data Science 101, Alice brown, 2025-8-23']"
      ]
     },
     "execution_count": 55,
     "metadata": {},
     "output_type": "execute_result"
    }
   ],
   "source": [
    "over_due_obj.report_borrowed()"
   ]
  }
 ],
 "metadata": {
  "kernelspec": {
   "display_name": "base",
   "language": "python",
   "name": "python3"
  },
  "language_info": {
   "codemirror_mode": {
    "name": "ipython",
    "version": 3
   },
   "file_extension": ".py",
   "mimetype": "text/x-python",
   "name": "python",
   "nbconvert_exporter": "python",
   "pygments_lexer": "ipython3",
   "version": "3.13.5"
  }
 },
 "nbformat": 4,
 "nbformat_minor": 5
}
