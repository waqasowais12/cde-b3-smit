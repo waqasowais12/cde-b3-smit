{
 "cells": [
  {
   "cell_type": "markdown",
   "id": "3e23c54e-d2d6-48b1-aee3-ba9a1bbaab32",
   "metadata": {},
   "source": [
    "### Scenarion 1\n",
    "- File Processing and Exceptional Handling"
   ]
  },
  {
   "cell_type": "code",
   "execution_count": null,
   "id": "52ae83c5",
   "metadata": {},
   "outputs": [
    {
     "name": "stdout",
     "output_type": "stream",
     "text": [
      "Line skipped: \n",
      "Line skipped: Frank 78\n",
      "Non-numeric grade found for Grace:  Invalid Grade\n",
      "Average grades are: 85.40\n"
     ]
    }
   ],
   "source": [
    "def grades_avg():\n",
    "    total = 0\n",
    "    count = 0\n",
    "    try:\n",
    "        with open('./student_records.txt', 'r') as r:\n",
    "            file = r.readlines()\n",
    "            for row in file:\n",
    "                row = row.strip()\n",
    "\n",
    "                if not row or ',' not in row:\n",
    "                    print(f\"Line skipped: {row}\")\n",
    "                    continue\n",
    "\n",
    "                names, grades = row.split(',')\n",
    "\n",
    "                if grades.strip().isdigit():\n",
    "                    total += int(grades.strip())\n",
    "                    count += 1\n",
    "                else:\n",
    "                    print(f\"Non-numeric grade found for {names}: {grades}\")\n",
    "\n",
    "        if count > 0:\n",
    "            average = total / count\n",
    "            print(f\"Average grades are: {average:.2f}\")\n",
    "        else:\n",
    "            print(\"No grade found\")\n",
    "\n",
    "    except FileNotFoundError as e:\n",
    "        print(e)\n",
    "\n",
    "grades_avg()\n"
   ]
  }
 ],
 "metadata": {
  "kernelspec": {
   "display_name": "base",
   "language": "python",
   "name": "python3"
  },
  "language_info": {
   "codemirror_mode": {
    "name": "ipython",
    "version": 3
   },
   "file_extension": ".py",
   "mimetype": "text/x-python",
   "name": "python",
   "nbconvert_exporter": "python",
   "pygments_lexer": "ipython3",
   "version": "3.13.5"
  }
 },
 "nbformat": 4,
 "nbformat_minor": 5
}
