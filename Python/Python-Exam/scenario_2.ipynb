{
 "cells": [
  {
   "cell_type": "markdown",
   "id": "27940e2b",
   "metadata": {},
   "source": [
    "### Scenario 2\n",
    "\n",
    "- Object-Oriented Programming and Inheritance"
   ]
  },
  {
   "cell_type": "code",
   "execution_count": 1,
   "id": "67de3294",
   "metadata": {},
   "outputs": [],
   "source": [
    "class Vehicle:\n",
    "    def __init__(self, color, model, wheels, year):\n",
    "        self.color = color \n",
    "        self.model = model\n",
    "        self.year = year\n",
    "        self.wheels = wheels\n",
    "\n",
    "    def start_engine(self):\n",
    "        print(\"Engine start ........\")\n",
    "\n",
    "    def accelerate(self):\n",
    "        print(\"Vehicle accelerate...\")"
   ]
  },
  {
   "cell_type": "code",
   "execution_count": 2,
   "id": "161d3b8f",
   "metadata": {},
   "outputs": [],
   "source": [
    "class Car(Vehicle):\n",
    "    def __init__(self,color, model, wheels, year, no_of_doors):\n",
    "        super().__init__(color, model, wheels, year)\n",
    "        self.no_of_doors = no_of_doors\n",
    "\n",
    "    def accelerate(self):\n",
    "        return super().accelerate()\n",
    "    \n",
    "    def start_engine(self):\n",
    "        return super().start_engine()\n",
    "    \n",
    "    def about_vehicle(self):\n",
    "        print(f\"This is a {self.color} car and its model is {self.model}, with {self.wheels} wheels and year {self.year}\")\n"
   ]
  },
  {
   "cell_type": "code",
   "execution_count": 3,
   "id": "817098f7",
   "metadata": {},
   "outputs": [],
   "source": [
    "class Truck(Vehicle):\n",
    "    def __init__(self,color, model, wheels, year, speed_limit):\n",
    "        super().__init__(color, model, wheels, year)\n",
    "        self.speed_limit = speed_limit\n",
    "\n",
    "    def accelerate(self):\n",
    "        return super().accelerate()\n",
    "    \n",
    "    def start_engine(self):\n",
    "        return super().start_engine()\n",
    "    \n",
    "    def about_vehicle(self):\n",
    "        print(f\"This is a {self.color} Truck and its model is {self.model}, with {self.wheels} wheels and year {self.year} and its speed is {self.speed_limit}\")\n"
   ]
  },
  {
   "cell_type": "code",
   "execution_count": 4,
   "id": "9ec2d8b3",
   "metadata": {},
   "outputs": [],
   "source": [
    "class Motorcycle(Vehicle):\n",
    "    def __init__(self,color, model, wheels, year, handle):\n",
    "        super().__init__(color, model, wheels, year)\n",
    "        self.handle = handle\n",
    "\n",
    "    def accelerate(self):\n",
    "        return super().accelerate()\n",
    "    \n",
    "    def start_engine(self):\n",
    "        return super().start_engine()\n",
    "    \n",
    "    def about_vehicle(self):\n",
    "        print(f\"This is a {self.color} Bike and its model is {self.model}, with {self.wheels} wheels and year {self.year} and has {self.handle}\")"
   ]
  },
  {
   "cell_type": "code",
   "execution_count": 5,
   "id": "aea2828c",
   "metadata": {},
   "outputs": [
    {
     "name": "stdout",
     "output_type": "stream",
     "text": [
      "Vehicle accelerate...\n",
      "Engine start ........\n"
     ]
    }
   ],
   "source": [
    "vehhicle_obj = Vehicle('Black', 'AB-2022', '2', 2025)\n",
    "vehhicle_obj.accelerate()\n",
    "vehhicle_obj.start_engine()"
   ]
  },
  {
   "cell_type": "code",
   "execution_count": 6,
   "id": "bf4b6f5b",
   "metadata": {},
   "outputs": [
    {
     "name": "stdout",
     "output_type": "stream",
     "text": [
      "Vehicle accelerate...\n",
      "Engine start ........\n",
      "This is a Grey car and its model is Sportage-2025, with 4 wheels and year 2025\n"
     ]
    }
   ],
   "source": [
    "car_obj = Car('Grey', 'Sportage-2025', '4', 2025, '4')\n",
    "\n",
    "car_obj.accelerate()\n",
    "car_obj.start_engine()\n",
    "car_obj.about_vehicle()"
   ]
  },
  {
   "cell_type": "code",
   "execution_count": 7,
   "id": "47149a1e",
   "metadata": {},
   "outputs": [
    {
     "name": "stdout",
     "output_type": "stream",
     "text": [
      "Vehicle accelerate...\n",
      "Engine start ........\n",
      "This is a Blue with Black Truck and its model is ISUZU-2019, with 12 wheels and year 2019 and its speed is 100KM/hr\n"
     ]
    }
   ],
   "source": [
    "truck_obj = Truck('Blue with Black', 'ISUZU-2019', '12', 2019, '100KM/hr')\n",
    "\n",
    "truck_obj.accelerate()\n",
    "truck_obj.start_engine()\n",
    "truck_obj.about_vehicle()"
   ]
  },
  {
   "cell_type": "code",
   "execution_count": 8,
   "id": "aa4b3dda",
   "metadata": {},
   "outputs": [
    {
     "name": "stdout",
     "output_type": "stream",
     "text": [
      "Vehicle accelerate...\n",
      "Engine start ........\n",
      "This is a Black Bike and its model is Honda-golden-addition, with 2 wheels and year 2025 and has SS-hanlde\n"
     ]
    }
   ],
   "source": [
    "bike_obj = Motorcycle('Black', 'Honda-golden-addition', '2', 2025, 'SS-hanlde')\n",
    "\n",
    "bike_obj.accelerate()\n",
    "bike_obj.start_engine()\n",
    "bike_obj.about_vehicle()"
   ]
  }
 ],
 "metadata": {
  "kernelspec": {
   "display_name": "base",
   "language": "python",
   "name": "python3"
  },
  "language_info": {
   "codemirror_mode": {
    "name": "ipython",
    "version": 3
   },
   "file_extension": ".py",
   "mimetype": "text/x-python",
   "name": "python",
   "nbconvert_exporter": "python",
   "pygments_lexer": "ipython3",
   "version": "3.13.5"
  }
 },
 "nbformat": 4,
 "nbformat_minor": 5
}
