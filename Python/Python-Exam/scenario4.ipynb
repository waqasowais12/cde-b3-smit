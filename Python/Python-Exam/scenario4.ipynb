{
 "cells": [
  {
   "cell_type": "markdown",
   "id": "9b964623",
   "metadata": {},
   "source": [
    "### Scenario 4\n",
    "\n",
    "- Debugging Code"
   ]
  },
  {
   "cell_type": "markdown",
   "id": "1baa9770",
   "metadata": {},
   "source": [
    "**Wrong Version**"
   ]
  },
  {
   "cell_type": "code",
   "execution_count": 3,
   "id": "158b75ea",
   "metadata": {},
   "outputs": [
    {
     "data": {
      "text/plain": [
       "(0, 16, 0.0)"
      ]
     },
     "execution_count": 3,
     "metadata": {},
     "output_type": "execute_result"
    }
   ],
   "source": [
    "def perform_operations(numbers):\n",
    "    total = 0\n",
    "    product = 1\n",
    "    for num in numbers:\n",
    "        total *= num\n",
    "        product += num\n",
    "        average = total / len(numbers)\n",
    "    return total, product, average\n",
    "\n",
    "perform_operations([1,2,3,4,5])\n"
   ]
  },
  {
   "cell_type": "markdown",
   "id": "dd502e90",
   "metadata": {},
   "source": [
    "**Corrected Version**"
   ]
  },
  {
   "cell_type": "code",
   "execution_count": 7,
   "id": "e3caff4c",
   "metadata": {},
   "outputs": [
    {
     "name": "stdout",
     "output_type": "stream",
     "text": [
      "Total: 15\n",
      "Product: 120\n",
      "Average: 3.0\n"
     ]
    }
   ],
   "source": [
    "def perform_operations(numbers):\n",
    "    total = 0\n",
    "    product = 1\n",
    "    for num in numbers:\n",
    "        total += num\n",
    "        product *= num\n",
    "        average = total / len(numbers)\n",
    "    return print(f'Total: {total}\\nProduct: {product}\\nAverage: {average}')\n",
    "\n",
    "perform_operations([1,2,3,4,5])"
   ]
  }
 ],
 "metadata": {
  "kernelspec": {
   "display_name": "base",
   "language": "python",
   "name": "python3"
  },
  "language_info": {
   "codemirror_mode": {
    "name": "ipython",
    "version": 3
   },
   "file_extension": ".py",
   "mimetype": "text/x-python",
   "name": "python",
   "nbconvert_exporter": "python",
   "pygments_lexer": "ipython3",
   "version": "3.13.5"
  }
 },
 "nbformat": 4,
 "nbformat_minor": 5
}
