{
 "cells": [
  {
   "cell_type": "markdown",
   "id": "8dc4b57a-8e3d-499d-8279-e0afb750cd6a",
   "metadata": {},
   "source": [
    "## DICTIONARY"
   ]
  },
  {
   "cell_type": "code",
   "execution_count": 3,
   "id": "b74e405a",
   "metadata": {},
   "outputs": [],
   "source": [
    "customer = {\n",
    "    'name':'Waqas',\n",
    "    'age':23,\n",
    "    'address':'karachi'\n",
    "}"
   ]
  },
  {
   "cell_type": "code",
   "execution_count": 4,
   "id": "07de7922",
   "metadata": {},
   "outputs": [
    {
     "data": {
      "text/plain": [
       "'Waqas'"
      ]
     },
     "execution_count": 4,
     "metadata": {},
     "output_type": "execute_result"
    }
   ],
   "source": [
    "# get value methid-1 (without .())\n",
    "customer['name']"
   ]
  },
  {
   "cell_type": "code",
   "execution_count": 6,
   "id": "5d04e444",
   "metadata": {},
   "outputs": [
    {
     "data": {
      "text/plain": [
       "'Invalid'"
      ]
     },
     "execution_count": 6,
     "metadata": {},
     "output_type": "execute_result"
    }
   ],
   "source": [
    "# get value method-2 (with .())\n",
    "customer.get('f_name', 'Invalid')"
   ]
  },
  {
   "cell_type": "code",
   "execution_count": 7,
   "id": "18d03967",
   "metadata": {},
   "outputs": [],
   "source": [
    "# add new value\n",
    "customer['phone no'] = +923151208856"
   ]
  },
  {
   "cell_type": "code",
   "execution_count": 8,
   "id": "a8196590",
   "metadata": {},
   "outputs": [
    {
     "data": {
      "text/plain": [
       "923151208856"
      ]
     },
     "execution_count": 8,
     "metadata": {},
     "output_type": "execute_result"
    }
   ],
   "source": [
    "customer.setdefault('phone no')"
   ]
  },
  {
   "cell_type": "code",
   "execution_count": 9,
   "id": "19544be3",
   "metadata": {},
   "outputs": [],
   "source": [
    "customer.setdefault('phone_no')"
   ]
  },
  {
   "cell_type": "code",
   "execution_count": 10,
   "id": "0e96949b",
   "metadata": {},
   "outputs": [
    {
     "data": {
      "text/plain": [
       "{'name': 'Waqas',\n",
       " 'age': 23,\n",
       " 'address': 'karachi',\n",
       " 'phone no': 923151208856,\n",
       " 'phone_no': None}"
      ]
     },
     "execution_count": 10,
     "metadata": {},
     "output_type": "execute_result"
    }
   ],
   "source": [
    "customer"
   ]
  },
  {
   "cell_type": "code",
   "execution_count": 11,
   "id": "d769ec52",
   "metadata": {},
   "outputs": [
    {
     "data": {
      "text/plain": [
       "('phone_no', None)"
      ]
     },
     "execution_count": 11,
     "metadata": {},
     "output_type": "execute_result"
    }
   ],
   "source": [
    "customer.popitem()"
   ]
  },
  {
   "cell_type": "code",
   "execution_count": 12,
   "id": "65320aba",
   "metadata": {},
   "outputs": [
    {
     "data": {
      "text/plain": [
       "{'name': 'Waqas', 'age': 23, 'address': 'karachi', 'phone no': 923151208856}"
      ]
     },
     "execution_count": 12,
     "metadata": {},
     "output_type": "execute_result"
    }
   ],
   "source": [
    "customer"
   ]
  },
  {
   "cell_type": "markdown",
   "id": "8446018f",
   "metadata": {},
   "source": [
    "## List of dictionaries"
   ]
  },
  {
   "cell_type": "code",
   "execution_count": 13,
   "id": "5c7b4e12",
   "metadata": {},
   "outputs": [],
   "source": [
    "lst_dict = [\n",
    "    {'name': 'Waqas', \n",
    "     'age': 23, \n",
    "     'address': 'karachi', \n",
    "     'phone no': 923151208856}\n",
    "] "
   ]
  },
  {
   "cell_type": "code",
   "execution_count": 14,
   "id": "0f7abd6c",
   "metadata": {},
   "outputs": [
    {
     "data": {
      "text/plain": [
       "{'name': 'Waqas', 'age': 23, 'address': 'karachi', 'phone no': 923151208856}"
      ]
     },
     "execution_count": 14,
     "metadata": {},
     "output_type": "execute_result"
    }
   ],
   "source": [
    "lst_dict[0]"
   ]
  },
  {
   "cell_type": "code",
   "execution_count": 15,
   "id": "c1060445",
   "metadata": {},
   "outputs": [],
   "source": [
    "lst_dict[0]['l_name'] = 'khan'"
   ]
  },
  {
   "cell_type": "code",
   "execution_count": 16,
   "id": "072ced79",
   "metadata": {},
   "outputs": [
    {
     "data": {
      "text/plain": [
       "{'name': 'Waqas',\n",
       " 'age': 23,\n",
       " 'address': 'karachi',\n",
       " 'phone no': 923151208856,\n",
       " 'l_name': 'khan'}"
      ]
     },
     "execution_count": 16,
     "metadata": {},
     "output_type": "execute_result"
    }
   ],
   "source": [
    "lst_dict[0]"
   ]
  },
  {
   "cell_type": "markdown",
   "id": "d3076ced",
   "metadata": {},
   "source": [
    "Task: \n",
    "- Using loops add a \"age\" key in all dictionaries with default value as None\n",
    "- Using a list to convert the customer dictionary to list of list (make sure in nested list you have only the value NOT keys)\n",
    "- Convert this (list of dict) to (dict of dict)"
   ]
  },
  {
   "cell_type": "code",
   "execution_count": 70,
   "id": "8d75c9c2",
   "metadata": {},
   "outputs": [],
   "source": [
    "customers = [\n",
    "    {     \n",
    "    \"customer id\": 0,\n",
    "    \"first name\":\"John\",\n",
    "    \"last name\": \"Ogden\",\n",
    "    \"address\": \"301 Arbor Rd.\",\n",
    "     },\n",
    "     {\n",
    "     \"customer id\": 1,\n",
    "     \"first name\":\"Ann\",\n",
    "     \"last name\": \"Sattermyer\",\n",
    "     \"address\": \"PO Box 1145\",\n",
    "     },\n",
    "     {\n",
    "     \"customer id\": 2,\n",
    "    \"first name\":\"Jill\",\n",
    "    \"last name\": \"Somers\",\n",
    "    \"address\": \"3 Main St.\",\n",
    "    },\n",
    "]"
   ]
  },
  {
   "cell_type": "code",
   "execution_count": null,
   "id": "9587c1dd",
   "metadata": {},
   "outputs": [],
   "source": [
    "## Task 1\n",
    "for i in range(len(customers)):\n",
    "    customers[i]['age'] = 'None'"
   ]
  },
  {
   "cell_type": "code",
   "execution_count": 72,
   "id": "b72cd9c7",
   "metadata": {},
   "outputs": [
    {
     "data": {
      "text/plain": [
       "[{'customer id': 0,\n",
       "  'first name': 'John',\n",
       "  'last name': 'Ogden',\n",
       "  'address': '301 Arbor Rd.',\n",
       "  'age': None},\n",
       " {'customer id': 1,\n",
       "  'first name': 'Ann',\n",
       "  'last name': 'Sattermyer',\n",
       "  'address': 'PO Box 1145',\n",
       "  'age': None},\n",
       " {'customer id': 2,\n",
       "  'first name': 'Jill',\n",
       "  'last name': 'Somers',\n",
       "  'address': '3 Main St.',\n",
       "  'age': None}]"
      ]
     },
     "execution_count": 72,
     "metadata": {},
     "output_type": "execute_result"
    }
   ],
   "source": [
    "list_of_dictionary_eith_age = []\n",
    "for customer in customers:\n",
    "    customer.setdefault('age')\n",
    "    list_of_dictionary_eith_age.append(customer)\n",
    "list_of_dictionary_eith_age"
   ]
  },
  {
   "cell_type": "code",
   "execution_count": null,
   "id": "4f8bd17e",
   "metadata": {},
   "outputs": [
    {
     "name": "stdout",
     "output_type": "stream",
     "text": [
      "{'customer id': 0, 'first name': 'John', 'last name': 'Ogden', 'address': '301 Arbor Rd.', 'age': None}\n",
      "{'customer id': 1, 'first name': 'Ann', 'last name': 'Sattermyer', 'address': 'PO Box 1145', 'age': None}\n",
      "{'customer id': 2, 'first name': 'Jill', 'last name': 'Somers', 'address': '3 Main St.', 'age': None}\n"
     ]
    }
   ],
   "source": [
    "### Dictionary parse ==> **\n",
    "### List parse ==> *\n",
    "for customer in customers:\n",
    "    print({**customer, 'age':None})"
   ]
  },
  {
   "cell_type": "code",
   "execution_count": 65,
   "id": "8ad6b22b",
   "metadata": {},
   "outputs": [
    {
     "name": "stdout",
     "output_type": "stream",
     "text": [
      "[{'customer id': 0, 'first name': 'John', 'last name': 'Ogden', 'address': '301 Arbor Rd.', 'age': None}, {'customer id': 1, 'first name': 'Ann', 'last name': 'Sattermyer', 'address': 'PO Box 1145', 'age': None}, {'customer id': 2, 'first name': 'Jill', 'last name': 'Somers', 'address': '3 Main St.', 'age': None}]\n"
     ]
    }
   ],
   "source": [
    "cus = [{**customer, 'age':None} for customer in customers]\n",
    "print(cus)"
   ]
  },
  {
   "cell_type": "code",
   "execution_count": null,
   "id": "3c4b80df",
   "metadata": {},
   "outputs": [
    {
     "name": "stdout",
     "output_type": "stream",
     "text": [
      "['None', 'None', 'None']\n"
     ]
    }
   ],
   "source": [
    "cus = ([customer[i]['age'] for customer in customers])"
   ]
  },
  {
   "cell_type": "code",
   "execution_count": null,
   "id": "77af0bd0",
   "metadata": {},
   "outputs": [
    {
     "data": {
      "text/plain": [
       "[{'customer id': 0,\n",
       "  'first name': 'John',\n",
       "  'last name': 'Ogden',\n",
       "  'address': '301 Arbor Rd.',\n",
       "  'age': 'None'},\n",
       " {'customer id': 1,\n",
       "  'first name': 'Ann',\n",
       "  'last name': 'Sattermyer',\n",
       "  'address': 'PO Box 1145',\n",
       "  'age': 'None'},\n",
       " {'customer id': 2,\n",
       "  'first name': 'Jill',\n",
       "  'last name': 'Somers',\n",
       "  'address': '3 Main St.',\n",
       "  'age': 'None'}]"
      ]
     },
     "execution_count": 34,
     "metadata": {},
     "output_type": "execute_result"
    }
   ],
   "source": [
    "customers[0]"
   ]
  },
  {
   "cell_type": "code",
   "execution_count": 40,
   "id": "98e07189",
   "metadata": {},
   "outputs": [],
   "source": [
    "list1 = []\n",
    "for i in range(len(customers)):\n",
    "        list1.append(list(customers[i].values()))"
   ]
  },
  {
   "cell_type": "code",
   "execution_count": 45,
   "id": "8f7ecf95",
   "metadata": {},
   "outputs": [
    {
     "data": {
      "text/plain": [
       "[['John', 'Ogden', '301 Arbor Rd.', 'None'],\n",
       " ['Ann', 'Sattermyer', 'PO Box 1145', 'None'],\n",
       " ['Jill', 'Somers', '3 Main St.', 'None']]"
      ]
     },
     "execution_count": 45,
     "metadata": {},
     "output_type": "execute_result"
    }
   ],
   "source": [
    "[list(customer.values()) for customer in customers]"
   ]
  },
  {
   "cell_type": "code",
   "execution_count": 42,
   "id": "a155c0bc",
   "metadata": {},
   "outputs": [
    {
     "data": {
      "text/plain": [
       "[[0, 'John', 'Ogden', '301 Arbor Rd.', 'None'],\n",
       " [1, 'Ann', 'Sattermyer', 'PO Box 1145', 'None'],\n",
       " [2, 'Jill', 'Somers', '3 Main St.', 'None']]"
      ]
     },
     "execution_count": 42,
     "metadata": {},
     "output_type": "execute_result"
    }
   ],
   "source": [
    "list1"
   ]
  },
  {
   "cell_type": "code",
   "execution_count": 44,
   "id": "695792ae",
   "metadata": {},
   "outputs": [
    {
     "data": {
      "text/plain": [
       "{0: {'first name': 'John',\n",
       "  'last name': 'Ogden',\n",
       "  'address': '301 Arbor Rd.',\n",
       "  'age': 'None'},\n",
       " 1: {'first name': 'Ann',\n",
       "  'last name': 'Sattermyer',\n",
       "  'address': 'PO Box 1145',\n",
       "  'age': 'None'},\n",
       " 2: {'first name': 'Jill',\n",
       "  'last name': 'Somers',\n",
       "  'address': '3 Main St.',\n",
       "  'age': 'None'}}"
      ]
     },
     "execution_count": 44,
     "metadata": {},
     "output_type": "execute_result"
    }
   ],
   "source": [
    "dict_of_dict = {}\n",
    "\n",
    "for index, items in enumerate(customers):\n",
    "    pooped = items.pop('customer id')\n",
    "    dict_of_dict[index] = items\n",
    "dict_of_dict"
   ]
  },
  {
   "cell_type": "code",
   "execution_count": 66,
   "id": "75ccc1b1",
   "metadata": {},
   "outputs": [
    {
     "data": {
      "text/plain": [
       "{0: {'customer id': 0,\n",
       "  'first name': 'John',\n",
       "  'last name': 'Ogden',\n",
       "  'address': '301 Arbor Rd.'},\n",
       " 1: {'customer id': 1,\n",
       "  'first name': 'Ann',\n",
       "  'last name': 'Sattermyer',\n",
       "  'address': 'PO Box 1145'},\n",
       " 2: {'customer id': 2,\n",
       "  'first name': 'Jill',\n",
       "  'last name': 'Somers',\n",
       "  'address': '3 Main St.'}}"
      ]
     },
     "execution_count": 66,
     "metadata": {},
     "output_type": "execute_result"
    }
   ],
   "source": [
    "{customer['customer id']: customer for customer in customers}"
   ]
  },
  {
   "cell_type": "markdown",
   "id": "67b7ad46",
   "metadata": {},
   "source": [
    "## Functions\n",
    "\n",
    "- code reuseability\n",
    "- code modularity"
   ]
  },
  {
   "cell_type": "markdown",
   "id": "eda4978f",
   "metadata": {},
   "source": [
    "BMI = weight/height**2"
   ]
  },
  {
   "cell_type": "markdown",
   "id": "a96121c4",
   "metadata": {},
   "source": [
    "syntax:\n",
    "\n",
    "\n",
    "def function_name(<parameters>):\n",
    "    <function body>"
   ]
  },
  {
   "cell_type": "code",
   "execution_count": 73,
   "id": "80dd8957",
   "metadata": {},
   "outputs": [],
   "source": [
    "def fn_bmi(weight,height):\n",
    "    bmi = weight/(height**2)\n",
    "    return bmi"
   ]
  },
  {
   "cell_type": "code",
   "execution_count": 78,
   "id": "fe5d0f55",
   "metadata": {},
   "outputs": [],
   "source": [
    "# calling bmi fucntion\n",
    "weight = float(input(\"Enter your weight in kg: \"))\n",
    "height = float(input(\"Enter your height in meters: \"))\n",
    "bmi = fn_bmi(weight,height)"
   ]
  },
  {
   "cell_type": "code",
   "execution_count": 79,
   "id": "f6fb4385",
   "metadata": {},
   "outputs": [
    {
     "data": {
      "text/plain": [
       "3.6"
      ]
     },
     "execution_count": 79,
     "metadata": {},
     "output_type": "execute_result"
    }
   ],
   "source": [
    "bmi"
   ]
  },
  {
   "cell_type": "code",
   "execution_count": 80,
   "id": "159da595",
   "metadata": {},
   "outputs": [],
   "source": [
    "def greet(greeting_lines):\n",
    "    return greeting_lines\n"
   ]
  },
  {
   "cell_type": "code",
   "execution_count": 81,
   "id": "10b1db1e",
   "metadata": {},
   "outputs": [
    {
     "data": {
      "text/plain": [
       "'welcome'"
      ]
     },
     "execution_count": 81,
     "metadata": {},
     "output_type": "execute_result"
    }
   ],
   "source": [
    "greet('welcome')"
   ]
  },
  {
   "cell_type": "code",
   "execution_count": 86,
   "id": "0a913cbd",
   "metadata": {},
   "outputs": [],
   "source": [
    "def greeting(first_name, place_name='karachi'):\n",
    "    return f\"Hi, {first_name} welcome to {place_name}\""
   ]
  },
  {
   "cell_type": "code",
   "execution_count": 88,
   "id": "4dd94a4b",
   "metadata": {},
   "outputs": [
    {
     "data": {
      "text/plain": [
       "'Hi, Waqas welcome to Pakistan'"
      ]
     },
     "execution_count": 88,
     "metadata": {},
     "output_type": "execute_result"
    }
   ],
   "source": [
    "greeting('Waqas', 'Pakistan')"
   ]
  },
  {
   "cell_type": "code",
   "execution_count": 89,
   "id": "4b03d12c",
   "metadata": {},
   "outputs": [
    {
     "data": {
      "text/plain": [
       "'Hi, Waqas welcome to karachi'"
      ]
     },
     "execution_count": 89,
     "metadata": {},
     "output_type": "execute_result"
    }
   ],
   "source": [
    "greeting('Waqas')"
   ]
  },
  {
   "cell_type": "code",
   "execution_count": 91,
   "id": "0107325a",
   "metadata": {},
   "outputs": [],
   "source": [
    "def greeting(first_name, last_name, place_name='karachi'):\n",
    "    return f\"Hi, {first_name} {last_name} welcome to {place_name}\""
   ]
  },
  {
   "cell_type": "code",
   "execution_count": 92,
   "id": "aa715445",
   "metadata": {},
   "outputs": [
    {
     "data": {
      "text/plain": [
       "'Hi, Hafiz Waqas welcome to Muree'"
      ]
     },
     "execution_count": 92,
     "metadata": {},
     "output_type": "execute_result"
    }
   ],
   "source": [
    "greeting('Hafiz', 'Waqas', 'Muree')"
   ]
  },
  {
   "cell_type": "code",
   "execution_count": 95,
   "id": "bc8dd6e6",
   "metadata": {},
   "outputs": [
    {
     "ename": "SyntaxError",
     "evalue": "positional argument follows keyword argument (2355846364.py, line 1)",
     "output_type": "error",
     "traceback": [
      "\u001b[1;36m  Cell \u001b[1;32mIn[95], line 1\u001b[1;36m\u001b[0m\n\u001b[1;33m    greeting(last_name='Waqas',first_name='Hafiz', 'Islamabad')\u001b[0m\n\u001b[1;37m                                                              ^\u001b[0m\n\u001b[1;31mSyntaxError\u001b[0m\u001b[1;31m:\u001b[0m positional argument follows keyword argument\n"
     ]
    }
   ],
   "source": [
    "greeting(last_name='Waqas',first_name='Hafiz', 'Islamabad')"
   ]
  },
  {
   "cell_type": "code",
   "execution_count": 94,
   "id": "243e341e",
   "metadata": {},
   "outputs": [
    {
     "data": {
      "text/plain": [
       "'Hi, Hafiz Waqas welcome to Islamabad'"
      ]
     },
     "execution_count": 94,
     "metadata": {},
     "output_type": "execute_result"
    }
   ],
   "source": [
    "greeting(last_name='Waqas',first_name='Hafiz',place_name='Islamabad')"
   ]
  },
  {
   "cell_type": "code",
   "execution_count": null,
   "id": "a34cdd8e",
   "metadata": {},
   "outputs": [],
   "source": []
  }
 ],
 "metadata": {
  "kernelspec": {
   "display_name": "base",
   "language": "python",
   "name": "python3"
  },
  "language_info": {
   "codemirror_mode": {
    "name": "ipython",
    "version": 3
   },
   "file_extension": ".py",
   "mimetype": "text/x-python",
   "name": "python",
   "nbconvert_exporter": "python",
   "pygments_lexer": "ipython3",
   "version": "3.13.5"
  }
 },
 "nbformat": 4,
 "nbformat_minor": 5
}
