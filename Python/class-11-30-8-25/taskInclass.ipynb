{
 "cells": [
  {
   "cell_type": "markdown",
   "id": "cca5cf67",
   "metadata": {},
   "source": [
    "### TASK"
   ]
  },
  {
   "cell_type": "markdown",
   "id": "df7f49a1",
   "metadata": {},
   "source": [
    "#### Complete all task using comprehension\n",
    "\n",
    "- Using loops add a \"age\" key in all dictionary with default value as None\n",
    "- Using a list to convert the customer dictionary to list of list (make sure in nested list you have only the values NOT keys)\n",
    "- Convert this (list of dict) to (dict of dict)\n",
    "- remove all \"customer id\" for dict of dict"
   ]
  },
  {
   "cell_type": "code",
   "execution_count": 46,
   "id": "f206fb12",
   "metadata": {},
   "outputs": [],
   "source": [
    "customers = [\n",
    "    {     \n",
    "    \"customer id\": 0,\n",
    "    \"first name\":\"John\",\n",
    "    \"last name\": \"Ogden\",\n",
    "    \"address\": \"301 Arbor Rd.\",\n",
    "     },\n",
    "     {\n",
    "     \"customer id\": 1,\n",
    "     \"first name\":\"Ann\",\n",
    "     \"last name\": \"Sattermyer\",\n",
    "     \"address\": \"PO Box 1145\",\n",
    "     },\n",
    "     {\n",
    "     \"customer id\": 2,\n",
    "    \"first name\":\"Jill\",\n",
    "    \"last name\": \"Somers\",\n",
    "    \"address\": \"3 Main St.\",\n",
    "    },\n",
    "]"
   ]
  },
  {
   "cell_type": "code",
   "execution_count": 4,
   "id": "95ec9b81",
   "metadata": {},
   "outputs": [
    {
     "data": {
      "text/plain": [
       "[{'customer id': 0,\n",
       "  'first name': 'John',\n",
       "  'last name': 'Ogden',\n",
       "  'address': '301 Arbor Rd.',\n",
       "  'age': None},\n",
       " {'customer id': 1,\n",
       "  'first name': 'Ann',\n",
       "  'last name': 'Sattermyer',\n",
       "  'address': 'PO Box 1145',\n",
       "  'age': None},\n",
       " {'customer id': 2,\n",
       "  'first name': 'Jill',\n",
       "  'last name': 'Somers',\n",
       "  'address': '3 Main St.',\n",
       "  'age': None}]"
      ]
     },
     "execution_count": 4,
     "metadata": {},
     "output_type": "execute_result"
    }
   ],
   "source": [
    "# task 1 - Using loops add a \"age\" key in all dictionary with default value as None\n",
    "# method-1\n",
    "list_of_dic_with_age = []\n",
    "\n",
    "for customer in customers:\n",
    "    customer.setdefault('age')\n",
    "    list_of_dic_with_age.append(customer)\n",
    "list_of_dic_with_age"
   ]
  },
  {
   "cell_type": "code",
   "execution_count": 7,
   "id": "b45d8f83",
   "metadata": {},
   "outputs": [
    {
     "data": {
      "text/plain": [
       "[{'customer id': 0,\n",
       "  'first name': 'John',\n",
       "  'last name': 'Ogden',\n",
       "  'address': '301 Arbor Rd.',\n",
       "  'age': None},\n",
       " {'customer id': 1,\n",
       "  'first name': 'Ann',\n",
       "  'last name': 'Sattermyer',\n",
       "  'address': 'PO Box 1145',\n",
       "  'age': None},\n",
       " {'customer id': 2,\n",
       "  'first name': 'Jill',\n",
       "  'last name': 'Somers',\n",
       "  'address': '3 Main St.',\n",
       "  'age': None}]"
      ]
     },
     "execution_count": 7,
     "metadata": {},
     "output_type": "execute_result"
    }
   ],
   "source": [
    "# task 1 - Using loops add a \"age\" key in all dictionary with default value as None\n",
    "# method-2\n",
    "\n",
    "list_of_dic_with_age = [ {**customer, 'age':None} for customer in customers]\n",
    "list_of_dic_with_age"
   ]
  },
  {
   "cell_type": "code",
   "execution_count": 9,
   "id": "137792f8",
   "metadata": {},
   "outputs": [
    {
     "data": {
      "text/plain": [
       "[[0, 'John', 'Ogden', '301 Arbor Rd.'],\n",
       " [1, 'Ann', 'Sattermyer', 'PO Box 1145'],\n",
       " [2, 'Jill', 'Somers', '3 Main St.']]"
      ]
     },
     "execution_count": 9,
     "metadata": {},
     "output_type": "execute_result"
    }
   ],
   "source": [
    "# Task-2 - Using a list to convert the customer dictionary to list of list \n",
    "# (make sure in nested list you have only the values NOT keys)\n",
    "\n",
    "# method-1\n",
    "\n",
    "list_of_list = []\n",
    "for customer in customers:\n",
    "    list_of_list.append(list(customer.values()))\n",
    "list_of_list"
   ]
  },
  {
   "cell_type": "code",
   "execution_count": 13,
   "id": "9897a8ee",
   "metadata": {},
   "outputs": [
    {
     "data": {
      "text/plain": [
       "[[0, 'John', 'Ogden', '301 Arbor Rd.'],\n",
       " [1, 'Ann', 'Sattermyer', 'PO Box 1145'],\n",
       " [2, 'Jill', 'Somers', '3 Main St.']]"
      ]
     },
     "execution_count": 13,
     "metadata": {},
     "output_type": "execute_result"
    }
   ],
   "source": [
    "# Task-2 - Using a list to convert the customer dictionary to list of list \n",
    "# (make sure in nested list you have only the values NOT keys)\n",
    "\n",
    "# method-2\n",
    "\n",
    "list_of_list = [ list(customer.values())  for customer in customers]\n",
    "\n",
    "list_of_list"
   ]
  },
  {
   "cell_type": "code",
   "execution_count": 15,
   "id": "af0cfc20",
   "metadata": {},
   "outputs": [
    {
     "data": {
      "text/plain": [
       "{0: {'customer id': 0,\n",
       "  'first name': 'John',\n",
       "  'last name': 'Ogden',\n",
       "  'address': '301 Arbor Rd.'},\n",
       " 1: {'customer id': 1,\n",
       "  'first name': 'Ann',\n",
       "  'last name': 'Sattermyer',\n",
       "  'address': 'PO Box 1145'},\n",
       " 2: {'customer id': 2,\n",
       "  'first name': 'Jill',\n",
       "  'last name': 'Somers',\n",
       "  'address': '3 Main St.'}}"
      ]
     },
     "execution_count": 15,
     "metadata": {},
     "output_type": "execute_result"
    }
   ],
   "source": [
    "# Task-3 - Convert this (list of dict) to (dict of dict)\n",
    "\n",
    "# method-1\n",
    "\n",
    "dict_of_dict = {}\n",
    "for customer in customers:\n",
    "    dict_of_dict[customer['customer id']] = customer\n",
    "\n",
    "dict_of_dict"
   ]
  },
  {
   "cell_type": "code",
   "execution_count": 17,
   "id": "fcaf7e8b",
   "metadata": {},
   "outputs": [
    {
     "data": {
      "text/plain": [
       "{0: {'customer id': 0,\n",
       "  'first name': 'John',\n",
       "  'last name': 'Ogden',\n",
       "  'address': '301 Arbor Rd.'},\n",
       " 1: {'customer id': 1,\n",
       "  'first name': 'Ann',\n",
       "  'last name': 'Sattermyer',\n",
       "  'address': 'PO Box 1145'},\n",
       " 2: {'customer id': 2,\n",
       "  'first name': 'Jill',\n",
       "  'last name': 'Somers',\n",
       "  'address': '3 Main St.'}}"
      ]
     },
     "execution_count": 17,
     "metadata": {},
     "output_type": "execute_result"
    }
   ],
   "source": [
    "# Task-3 - Convert this (list of dict) to (dict of dict)\n",
    "\n",
    "# method-2\n",
    "\n",
    "dict_of_dict = { customer['customer id']: customer for customer in customers}\n",
    "\n",
    "dict_of_dict"
   ]
  },
  {
   "cell_type": "code",
   "execution_count": null,
   "id": "bc84cd19",
   "metadata": {},
   "outputs": [
    {
     "data": {
      "text/plain": [
       "{0: {'customer id': 0,\n",
       "  'first name': 'John',\n",
       "  'last name': 'Ogden',\n",
       "  'address': '301 Arbor Rd.'},\n",
       " 1: {'customer id': 1,\n",
       "  'first name': 'Ann',\n",
       "  'last name': 'Sattermyer',\n",
       "  'address': 'PO Box 1145'},\n",
       " 2: {'customer id': 2,\n",
       "  'first name': 'Jill',\n",
       "  'last name': 'Somers',\n",
       "  'address': '3 Main St.'}}"
      ]
     },
     "execution_count": 36,
     "metadata": {},
     "output_type": "execute_result"
    }
   ],
   "source": [
    "# problem identification\n",
    "\n",
    "dict_of_dict = {}\n",
    "\n",
    "for customer in enumerate(customers):\n",
    "    # print(customer)\n",
    "    # print(customer[0], customer[1])\n",
    "    dict_of_dict[customer[0]] = customer[1]\n",
    "dict_of_dict"
   ]
  },
  {
   "cell_type": "code",
   "execution_count": 39,
   "id": "cdea1d31",
   "metadata": {},
   "outputs": [
    {
     "data": {
      "text/plain": [
       "{0: {'customer id': 0,\n",
       "  'first name': 'John',\n",
       "  'last name': 'Ogden',\n",
       "  'address': '301 Arbor Rd.'},\n",
       " 1: {'customer id': 1,\n",
       "  'first name': 'Ann',\n",
       "  'last name': 'Sattermyer',\n",
       "  'address': 'PO Box 1145'},\n",
       " 2: {'customer id': 2,\n",
       "  'first name': 'Jill',\n",
       "  'last name': 'Somers',\n",
       "  'address': '3 Main St.'}}"
      ]
     },
     "execution_count": 39,
     "metadata": {},
     "output_type": "execute_result"
    }
   ],
   "source": [
    "dict_of_dict = { customer[0]:customer[1] for customer in enumerate(customers)}\n",
    "\n",
    "dict_of_dict"
   ]
  },
  {
   "cell_type": "code",
   "execution_count": 49,
   "id": "fe5d6f88",
   "metadata": {},
   "outputs": [
    {
     "data": {
      "text/plain": [
       "{0: {'first name': 'John', 'last name': 'Ogden', 'address': '301 Arbor Rd.'},\n",
       " 1: {'first name': 'Ann', 'last name': 'Sattermyer', 'address': 'PO Box 1145'},\n",
       " 2: {'first name': 'Jill', 'last name': 'Somers', 'address': '3 Main St.'}}"
      ]
     },
     "execution_count": 49,
     "metadata": {},
     "output_type": "execute_result"
    }
   ],
   "source": [
    "# Task-4 - remove all \"customer id\" for dict of dict\n",
    "\n",
    "# method-1\n",
    "\n",
    "dict_of_dict = {}\n",
    "\n",
    "for index, customer in enumerate(customers):\n",
    "    customer.pop('customer id', None)\n",
    "\n",
    "    dict_of_dict[index] = customer\n",
    "dict_of_dict"
   ]
  },
  {
   "cell_type": "code",
   "execution_count": 51,
   "id": "b12146ac",
   "metadata": {},
   "outputs": [
    {
     "data": {
      "text/plain": [
       "{0: {'first name': 'John', 'last name': 'Ogden', 'address': '301 Arbor Rd.'},\n",
       " 1: {'first name': 'Ann', 'last name': 'Sattermyer', 'address': 'PO Box 1145'},\n",
       " 2: {'first name': 'Jill', 'last name': 'Somers', 'address': '3 Main St.'}}"
      ]
     },
     "execution_count": 51,
     "metadata": {},
     "output_type": "execute_result"
    }
   ],
   "source": [
    "# Task-4 - remove all \"customer id\" for dict of dict\n",
    "\n",
    "# method-2\n",
    "\n",
    "dict_of_dict = { i:{k:v for k, v in customer.items() if k != 'customer id'} \n",
    "                for i, customer in enumerate(customers)}\n",
    "dict_of_dict"
   ]
  },
  {
   "cell_type": "code",
   "execution_count": null,
   "id": "adacb1fa",
   "metadata": {},
   "outputs": [],
   "source": []
  }
 ],
 "metadata": {
  "kernelspec": {
   "display_name": "base",
   "language": "python",
   "name": "python3"
  },
  "language_info": {
   "codemirror_mode": {
    "name": "ipython",
    "version": 3
   },
   "file_extension": ".py",
   "mimetype": "text/x-python",
   "name": "python",
   "nbconvert_exporter": "python",
   "pygments_lexer": "ipython3",
   "version": "3.13.5"
  }
 },
 "nbformat": 4,
 "nbformat_minor": 5
}
