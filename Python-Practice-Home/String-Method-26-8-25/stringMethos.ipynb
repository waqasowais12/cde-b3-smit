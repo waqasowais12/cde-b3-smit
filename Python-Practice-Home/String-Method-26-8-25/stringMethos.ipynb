{
 "cells": [
  {
   "cell_type": "markdown",
   "id": "e42080e5-4611-4281-a563-b64636b9c63e",
   "metadata": {},
   "source": [
    "## STRING & IT'S METHODS"
   ]
  },
  {
   "cell_type": "markdown",
   "id": "fa8377db",
   "metadata": {},
   "source": [
    "#                                                REMEMBER:\n",
    "###             All the functions we apply on a string, It does not change the original string it returns a new                                       string with the changes we did\n",
    "###                                        Beacause strings are Immutable"
   ]
  },
  {
   "cell_type": "markdown",
   "id": "e41718f9",
   "metadata": {},
   "source": [
    "### 1. String fucntion len()\n",
    "\n",
    "- This function returns the len of string"
   ]
  },
  {
   "cell_type": "code",
   "execution_count": 3,
   "id": "e07ca6d7",
   "metadata": {},
   "outputs": [
    {
     "name": "stdout",
     "output_type": "stream",
     "text": [
      "11\n"
     ]
    }
   ],
   "source": [
    "name = \"Hafiz Waqas\"\n",
    "print(len(name))"
   ]
  },
  {
   "cell_type": "markdown",
   "id": "52dde5b3",
   "metadata": {},
   "source": [
    "### 2. String function endswith()\n",
    "\n",
    "- string.endswith(\"qas\") - This function_tells whether the variable string ends with the string \"qas\" or not.If string is \"waqas\", it returns true for \"rry\" since waqas ends with qas."
   ]
  },
  {
   "cell_type": "code",
   "execution_count": 10,
   "id": "16f16fb2",
   "metadata": {},
   "outputs": [
    {
     "data": {
      "text/plain": [
       "True"
      ]
     },
     "execution_count": 10,
     "metadata": {},
     "output_type": "execute_result"
    }
   ],
   "source": [
    "name = \"waqas\"\n",
    "name.endswith(\"qas\") "
   ]
  },
  {
   "cell_type": "markdown",
   "id": "c6513845",
   "metadata": {},
   "source": [
    "### 3. String function startswith()\n",
    "\n",
    "- string.startswith(\"wa\") - This function_tells whether the variable string starts with the string \"wa\" or not.If string is \"waqas\", it returns true for \"wa\" since waqas starts with wa."
   ]
  },
  {
   "cell_type": "code",
   "execution_count": 14,
   "id": "eb3c694a",
   "metadata": {},
   "outputs": [
    {
     "data": {
      "text/plain": [
       "True"
      ]
     },
     "execution_count": 14,
     "metadata": {},
     "output_type": "execute_result"
    }
   ],
   "source": [
    "name = \"waqas\"\n",
    "name.startswith(\"wa\")"
   ]
  },
  {
   "cell_type": "markdown",
   "id": "1ba87203",
   "metadata": {},
   "source": [
    "### 4. String function count()\n",
    "\n",
    "- string.count(\"a\") - counts the total number of occurance of any character."
   ]
  },
  {
   "cell_type": "code",
   "execution_count": 15,
   "id": "1097805b",
   "metadata": {},
   "outputs": [
    {
     "data": {
      "text/plain": [
       "2"
      ]
     },
     "execution_count": 15,
     "metadata": {},
     "output_type": "execute_result"
    }
   ],
   "source": [
    "name = \"waqas\"\n",
    "name.count(\"a\")"
   ]
  },
  {
   "cell_type": "markdown",
   "id": "316be874",
   "metadata": {},
   "source": [
    "### 5. String function capatalize()\n",
    "\n",
    "- Transform the first word of string into capital letter."
   ]
  },
  {
   "cell_type": "code",
   "execution_count": 16,
   "id": "d8cedb87",
   "metadata": {},
   "outputs": [
    {
     "data": {
      "text/plain": [
       "'Waqas'"
      ]
     },
     "execution_count": 16,
     "metadata": {},
     "output_type": "execute_result"
    }
   ],
   "source": [
    "name = \"waqas\"\n",
    "name.capitalize()"
   ]
  },
  {
   "cell_type": "markdown",
   "id": "c73def65",
   "metadata": {},
   "source": [
    "### 6. String function upper()\n",
    "\n",
    "- Changes the whole string into upper case."
   ]
  },
  {
   "cell_type": "code",
   "execution_count": 18,
   "id": "a6dd1b65",
   "metadata": {},
   "outputs": [
    {
     "data": {
      "text/plain": [
       "'WAQAS'"
      ]
     },
     "execution_count": 18,
     "metadata": {},
     "output_type": "execute_result"
    }
   ],
   "source": [
    "name = \"waqas\"\n",
    "name.upper()"
   ]
  },
  {
   "cell_type": "markdown",
   "id": "412bc08f",
   "metadata": {},
   "source": [
    "### 7. String function lower()\n",
    "\n",
    "- Changes the whole string into lower case."
   ]
  },
  {
   "cell_type": "code",
   "execution_count": 42,
   "id": "9f1b1751",
   "metadata": {},
   "outputs": [
    {
     "data": {
      "text/plain": [
       "'waqas'"
      ]
     },
     "execution_count": 42,
     "metadata": {},
     "output_type": "execute_result"
    }
   ],
   "source": [
    "name = \"WAQAS\"\n",
    "name.lower()"
   ]
  },
  {
   "cell_type": "markdown",
   "id": "f743c85f",
   "metadata": {},
   "source": [
    "### 8. String function casefold()\n",
    "\n",
    "- Remaining (see later)"
   ]
  },
  {
   "cell_type": "code",
   "execution_count": 43,
   "id": "2cb78658",
   "metadata": {},
   "outputs": [
    {
     "data": {
      "text/plain": [
       "'waqas'"
      ]
     },
     "execution_count": 43,
     "metadata": {},
     "output_type": "execute_result"
    }
   ],
   "source": [
    "name = \"Waqas\"\n",
    "name.casefold()"
   ]
  },
  {
   "cell_type": "markdown",
   "id": "db1ec2cd",
   "metadata": {},
   "source": [
    "### 9. String function center()\n",
    "\n",
    "- Remaining (see later)"
   ]
  },
  {
   "cell_type": "code",
   "execution_count": 59,
   "id": "063119d4",
   "metadata": {},
   "outputs": [
    {
     "data": {
      "text/plain": [
       "'waqas owais'"
      ]
     },
     "execution_count": 59,
     "metadata": {},
     "output_type": "execute_result"
    }
   ],
   "source": [
    "name = \"waqas owais\"\n",
    "name.center(1, \"o\")"
   ]
  },
  {
   "cell_type": "markdown",
   "id": "0bae4597",
   "metadata": {},
   "source": [
    "### 10. String function find()\n",
    "\n",
    "- returns the first occurance index of given value in a string.\n",
    "- If the given value is not in the string it simply return -1."
   ]
  },
  {
   "cell_type": "code",
   "execution_count": 70,
   "id": "8d03182e",
   "metadata": {},
   "outputs": [
    {
     "name": "stdout",
     "output_type": "stream",
     "text": [
      "5\n",
      "7\n"
     ]
    }
   ],
   "source": [
    "name = \"waqas  owais\"\n",
    "print(name.find((\"  \")))\n",
    "print(name.find((\"o\")))"
   ]
  },
  {
   "cell_type": "markdown",
   "id": "15b404d2",
   "metadata": {},
   "source": [
    "### 11. String function replace()\n",
    "\n",
    "- It replaces the value we set against the given value."
   ]
  },
  {
   "cell_type": "code",
   "execution_count": 2,
   "id": "c01158a4",
   "metadata": {},
   "outputs": [
    {
     "name": "stdout",
     "output_type": "stream",
     "text": [
      "waqas owais\n"
     ]
    }
   ],
   "source": [
    "name = \"waqas  owais\"\n",
    "print(name.replace(\"  \", \" \")) ## Here we replace the double space into single space."
   ]
  },
  {
   "cell_type": "markdown",
   "id": "fd3a76c9",
   "metadata": {},
   "source": [
    "### 12. String function swapcase()\n",
    "\n",
    "- Swap case (upper ---> lower, lower ---> upper)"
   ]
  },
  {
   "cell_type": "code",
   "execution_count": 5,
   "id": "15105f14",
   "metadata": {},
   "outputs": [
    {
     "name": "stdout",
     "output_type": "stream",
     "text": [
      "WaqAS\n"
     ]
    }
   ],
   "source": [
    "name = \"wAQas\"\n",
    "print(name.swapcase())"
   ]
  },
  {
   "cell_type": "markdown",
   "id": "ff8e2e40",
   "metadata": {},
   "source": [
    "### 13. String function isalpha()\n",
    "\n",
    "- isalpha() returns True if all letters otherwise it returns false."
   ]
  },
  {
   "cell_type": "code",
   "execution_count": 6,
   "id": "c13aa135",
   "metadata": {},
   "outputs": [
    {
     "name": "stdout",
     "output_type": "stream",
     "text": [
      "True\n"
     ]
    }
   ],
   "source": [
    "name = \"Waqas\"\n",
    "print(name.isalpha())"
   ]
  },
  {
   "cell_type": "markdown",
   "id": "a691b34d",
   "metadata": {},
   "source": [
    "### 14. String function isdigit()\n",
    "\n",
    "- isdigit() returns True if all are digit otherwise it returns false."
   ]
  },
  {
   "cell_type": "code",
   "execution_count": 7,
   "id": "7ad43a81",
   "metadata": {},
   "outputs": [
    {
     "name": "stdout",
     "output_type": "stream",
     "text": [
      "True\n"
     ]
    }
   ],
   "source": [
    "name = \"12345\"\n",
    "print(name.isdigit())"
   ]
  },
  {
   "cell_type": "markdown",
   "id": "95b0849b",
   "metadata": {},
   "source": [
    "### 15. String function isalnum()\n",
    "\n",
    "- isalnum() returns True if string has leeter+digit otherwise it returns false."
   ]
  },
  {
   "cell_type": "code",
   "execution_count": 8,
   "id": "9c7e334d",
   "metadata": {},
   "outputs": [
    {
     "name": "stdout",
     "output_type": "stream",
     "text": [
      "True\n"
     ]
    }
   ],
   "source": [
    "name = \"waqas12\"\n",
    "print(name.isalnum())"
   ]
  },
  {
   "cell_type": "markdown",
   "id": "4b9d6d9d",
   "metadata": {},
   "source": [
    "### 16. String function isspace()\n",
    "\n",
    "- isspace() returns True if there only space in an string otherwise returns false()."
   ]
  },
  {
   "cell_type": "code",
   "execution_count": 11,
   "id": "96f80223",
   "metadata": {},
   "outputs": [
    {
     "name": "stdout",
     "output_type": "stream",
     "text": [
      "True\n"
     ]
    }
   ],
   "source": [
    "name = \" \"\n",
    "print(name.isspace())"
   ]
  },
  {
   "cell_type": "markdown",
   "id": "6e87eea2",
   "metadata": {},
   "source": [
    "### 17. String function find(substring) \n",
    "\n",
    "- Finds the index of first occurrence (returns -1 if not found)."
   ]
  },
  {
   "cell_type": "code",
   "execution_count": 12,
   "id": "247edf68",
   "metadata": {},
   "outputs": [
    {
     "name": "stdout",
     "output_type": "stream",
     "text": [
      "11\n"
     ]
    }
   ],
   "source": [
    "name = \"My name is Waqas\"\n",
    "print(name.find(\"Waqas\"))"
   ]
  },
  {
   "cell_type": "markdown",
   "id": "c3a7ccf9",
   "metadata": {},
   "source": [
    "### 18. String function join(iterable)\n",
    "\n",
    "- Joins list elements into a single string."
   ]
  },
  {
   "cell_type": "code",
   "execution_count": 13,
   "id": "74405596",
   "metadata": {},
   "outputs": [
    {
     "name": "stdout",
     "output_type": "stream",
     "text": [
      "Pythonislikeagame\n"
     ]
    }
   ],
   "source": [
    "lst = [\"Python\",\"is\",\"like\",\"a\",\"game\"]\n",
    "print(\"\".join(lst))"
   ]
  },
  {
   "cell_type": "markdown",
   "id": "8fa98805",
   "metadata": {},
   "source": [
    "### 19. String function split()\n",
    "\n",
    "- Splits string into a list based on separator."
   ]
  },
  {
   "cell_type": "code",
   "execution_count": 15,
   "id": "3dd7e36d",
   "metadata": {},
   "outputs": [
    {
     "name": "stdout",
     "output_type": "stream",
     "text": [
      "['Python', 'is', 'like', 'a', 'game']\n"
     ]
    }
   ],
   "source": [
    "strr = \"Python is like a game\"\n",
    "print(strr.split(\" \"))"
   ]
  },
  {
   "cell_type": "markdown",
   "id": "f028057c",
   "metadata": {},
   "source": [
    "### 20. String function strip()\n",
    "\n",
    "- Splits string into a list based on separator."
   ]
  },
  {
   "cell_type": "code",
   "execution_count": 18,
   "id": "7083a925",
   "metadata": {},
   "outputs": [
    {
     "name": "stdout",
     "output_type": "stream",
     "text": [
      "   waqas   \n",
      "waqas\n"
     ]
    }
   ],
   "source": [
    "name = \"   waqas   \"\n",
    "print(name)\n",
    "print(name.strip())"
   ]
  },
  {
   "cell_type": "markdown",
   "id": "715c2a29",
   "metadata": {},
   "source": [
    "### 21. String function title()\n",
    "\n",
    "- Capitalizes the first letter of each word."
   ]
  },
  {
   "cell_type": "code",
   "execution_count": 19,
   "id": "b8dbab65",
   "metadata": {},
   "outputs": [
    {
     "name": "stdout",
     "output_type": "stream",
     "text": [
      "My Name Is Waqas\n"
     ]
    }
   ],
   "source": [
    "name = \"my name is waqas\"\n",
    "print(name.title()) "
   ]
  }
 ],
 "metadata": {
  "kernelspec": {
   "display_name": "base",
   "language": "python",
   "name": "python3"
  },
  "language_info": {
   "codemirror_mode": {
    "name": "ipython",
    "version": 3
   },
   "file_extension": ".py",
   "mimetype": "text/x-python",
   "name": "python",
   "nbconvert_exporter": "python",
   "pygments_lexer": "ipython3",
   "version": "3.13.5"
  }
 },
 "nbformat": 4,
 "nbformat_minor": 5
}
