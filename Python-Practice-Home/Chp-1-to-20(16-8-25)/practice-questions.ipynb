{
 "cells": [
  {
   "cell_type": "markdown",
   "id": "8bb7b99d-2d51-4dea-9679-efc814edb4eb",
   "metadata": {},
   "source": [
    "### 1. Student Report Card Generator\n",
    "\n",
    "#### Concepts Covered: Strings, concatenation, conditional statements, lists, tuples, sets, slicing, operators, deep vs shallow copy.\n",
    "\n",
    "##### 👉 Problem Statement:\n",
    "##### You are developing a Student Report Card System for a school.\n",
    "\n",
    "- Take student details (Name, Roll No) as a string.\n",
    "\n",
    "- Store marks of 5 subjects inside a list.\n",
    "\n",
    "- If marks are less than 40, print \"Fail\", otherwise \"Pass\".\n",
    "\n",
    "- Use comparison operators to calculate total, percentage, and grade (A, B, C, Fail).\n",
    "\n",
    "- Keep record of unique subjects in a set (no duplicates allowed).\n",
    "\n",
    "- Store the student info (name, roll) inside a tuple (since it should not change).\n",
    "\n",
    "- Use slicing to print only the first 3 characters of student’s name.\n",
    "\n",
    "- Demonstrate deep vs shallow copy when copying the marks list (change marks in shallow copy and see effect)."
   ]
  },
  {
   "cell_type": "code",
   "execution_count": 13,
   "id": "2b97ed5b",
   "metadata": {},
   "outputs": [
    {
     "name": "stdout",
     "output_type": "stream",
     "text": [
      "Grade B\n",
      "Slicing: waq\n",
      "Shalow Copy\n",
      "[71, 87, 73, 81, 88] [70, 87, 73, 81, 88]\n",
      "Deep Copy\n",
      "[71, 87, 73, 81, 88] [70, 87, 73, 81, 88]\n"
     ]
    }
   ],
   "source": [
    "import copy \n",
    "\n",
    "#Take student details (Name, Roll No) as a string.\n",
    "name = input(\"Enter your name: \")\n",
    "roll_no = input(\"Enter your roll no: \")\n",
    "\n",
    "#Store marks of 5 subjects inside a list.\n",
    "marks_subjects = [70,87,73,81,88]\n",
    "\n",
    "#Use comparison operators to calculate total, percentage, and grade (A, B, C, Fail).\n",
    "obtained_marks = sum(marks_subjects)\n",
    "total = 500\n",
    "per = (100*obtained_marks)/total\n",
    "\n",
    "\n",
    "#If marks are less than 40, print \"Fail\", otherwise \"Pass\".\n",
    "if per >= 0 and per <= 40:\n",
    "    print(\"Fail\")\n",
    "elif per >= 41 and per <= 60:\n",
    "    print(\"Grade C\")\n",
    "elif per >= 61 and per <= 80:\n",
    "    print(\"Grade B\")\n",
    "elif per >= 81 and per <= 100:\n",
    "    print(\"Grade A\") \n",
    "else:\n",
    "    print(\"Invalid input\")\n",
    "\n",
    "    \n",
    "#Keep record of unique subjects in a set (no duplicates allowed).\n",
    "subjects = [\"Mathematics\",\"Physics\",\"Chemistry\",\"Biology\",\"Computer\"]\n",
    "set_subjects = set(subjects) # Set contains only uniques elements\n",
    "\n",
    "#Store the student info (name, roll) inside a tuple (since it should not change).\n",
    "bio = [name,roll_no]\n",
    "tuple_bio = tuple(bio) # tuple value should not be change after creation\n",
    "\n",
    "#Use slicing to print only the first 3 characters of student’s name.\n",
    "print(\"Slicing: \" + tuple_bio[0][0:3])\n",
    "\n",
    "#Demonstrate deep vs shallow copy when copying the marks list (change marks in shallow copy and see effect).\n",
    "\n",
    "# Shalow copy\n",
    "\n",
    "shalow_copy = copy.copy(marks_subjects)\n",
    "shalow_copy[0] = 71\n",
    "print(\"Shalow Copy\")\n",
    "print(shalow_copy,marks_subjects) # Both list will be update when we change the nested list value but there is no any nested list.\n",
    "\n",
    "# Deep Copy\n",
    "\n",
    "deep_copy = copy.deepcopy(marks_subjects)\n",
    "deep_copy[0] = 71\n",
    "print(\"Deep Copy\")\n",
    "print(deep_copy,marks_subjects) # There is only one list update and that list that we have change and there is no changing in both list. If is there a nested list or not there is no updation in both list only list will update that we change.\n"
   ]
  },
  {
   "cell_type": "code",
   "execution_count": null,
   "id": "05bd8495",
   "metadata": {},
   "outputs": [],
   "source": []
  }
 ],
 "metadata": {
  "kernelspec": {
   "display_name": "Python 3 (ipykernel)",
   "language": "python",
   "name": "python3"
  },
  "language_info": {
   "codemirror_mode": {
    "name": "ipython",
    "version": 3
   },
   "file_extension": ".py",
   "mimetype": "text/x-python",
   "name": "python",
   "nbconvert_exporter": "python",
   "pygments_lexer": "ipython3",
   "version": "3.13.5"
  }
 },
 "nbformat": 4,
 "nbformat_minor": 5
}
