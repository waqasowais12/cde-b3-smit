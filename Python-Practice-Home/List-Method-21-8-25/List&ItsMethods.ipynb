{
 "cells": [
  {
   "cell_type": "markdown",
   "id": "e2d35595",
   "metadata": {},
   "source": [
    "## LIST & It's Methods"
   ]
  },
  {
   "cell_type": "markdown",
   "id": "a4229643",
   "metadata": {},
   "source": [
    "### 1. List method append()\n",
    "\n",
    "- It will add the value at the end of the list.\n",
    "- append added only single value in the list."
   ]
  },
  {
   "cell_type": "code",
   "execution_count": 9,
   "id": "57c87404-48b8-42da-85a9-502ee8f44544",
   "metadata": {},
   "outputs": [
    {
     "data": {
      "text/plain": [
       "['Karachi', 'Lahore', 'Multan', 'Islamabad', 'Quetta']"
      ]
     },
     "execution_count": 9,
     "metadata": {},
     "output_type": "execute_result"
    }
   ],
   "source": [
    "city = [\"Karachi\",\"Lahore\",\"Multan\",\"Islamabad\"]\n",
    "city.append(\"Quetta\") \n",
    "city"
   ]
  },
  {
   "cell_type": "markdown",
   "id": "35637586",
   "metadata": {},
   "source": [
    "### 2. List method count()\n",
    "- It will count the \"x\" elements in the list eg. (city.count(\"karachi\") --> the answer will depend on how many times karachi appears in a list)"
   ]
  },
  {
   "cell_type": "code",
   "execution_count": 10,
   "id": "469d7a35",
   "metadata": {},
   "outputs": [
    {
     "data": {
      "text/plain": [
       "1"
      ]
     },
     "execution_count": 10,
     "metadata": {},
     "output_type": "execute_result"
    }
   ],
   "source": [
    "city.count(\"Karachi\")"
   ]
  },
  {
   "cell_type": "markdown",
   "id": "1f7e9954",
   "metadata": {},
   "source": [
    "### 3. List method extend()\n",
    "- It will add one or more elements in the list and add each element separately. It means that all of these items of (string,list,tuple) will add separately in the list.\n",
    "- eg. city.extend([\"Peshawar\",\"Sukkur\"]) --> it will add peshawar and sukkur separately in the list.\n",
    "- eg. city.extend(\"AB\") --> it will add A and B separately in the list."
   ]
  },
  {
   "cell_type": "code",
   "execution_count": 11,
   "id": "21461fd2",
   "metadata": {},
   "outputs": [],
   "source": [
    "city.extend(['Peshawar','Sukkur'])"
   ]
  },
  {
   "cell_type": "code",
   "execution_count": 12,
   "id": "df4c1224",
   "metadata": {},
   "outputs": [
    {
     "data": {
      "text/plain": [
       "['Karachi', 'Lahore', 'Multan', 'Islamabad', 'Quetta', 'Peshawar', 'Sukkur']"
      ]
     },
     "execution_count": 12,
     "metadata": {},
     "output_type": "execute_result"
    }
   ],
   "source": [
    "city"
   ]
  },
  {
   "cell_type": "code",
   "execution_count": 13,
   "id": "5cc537c1",
   "metadata": {},
   "outputs": [
    {
     "data": {
      "text/plain": [
       "['Karachi',\n",
       " 'Lahore',\n",
       " 'Multan',\n",
       " 'Islamabad',\n",
       " 'Quetta',\n",
       " 'Peshawar',\n",
       " 'Sukkur',\n",
       " 'Hyderabad',\n",
       " 'Muree',\n",
       " 'Naran']"
      ]
     },
     "execution_count": 13,
     "metadata": {},
     "output_type": "execute_result"
    }
   ],
   "source": [
    "city.extend(['Hyderabad','Muree','Naran'])\n",
    "city"
   ]
  },
  {
   "cell_type": "code",
   "execution_count": 14,
   "id": "991611b7",
   "metadata": {},
   "outputs": [
    {
     "data": {
      "text/plain": [
       "['Karachi',\n",
       " 'Lahore',\n",
       " 'Multan',\n",
       " 'Islamabad',\n",
       " 'Quetta',\n",
       " 'Peshawar',\n",
       " 'Sukkur',\n",
       " 'Hyderabad',\n",
       " 'Muree',\n",
       " 'Naran',\n",
       " 'A',\n",
       " 'B']"
      ]
     },
     "execution_count": 14,
     "metadata": {},
     "output_type": "execute_result"
    }
   ],
   "source": [
    "city.extend(\"AB\")\n",
    "city"
   ]
  },
  {
   "cell_type": "markdown",
   "id": "bfecbe77",
   "metadata": {},
   "source": [
    "### 4. List method index()\n",
    "\n",
    "- It will give the position of the first occurance of any given item.\n",
    "- You can also give it a start and end range. eg. city.index(\"Muree\",8) --> it will find position of the given item after the 8 position because we pass the starting position.\n",
    "- city.index(\"Muree\",start,end)\n"
   ]
  },
  {
   "cell_type": "code",
   "execution_count": 16,
   "id": "a0ab9235",
   "metadata": {},
   "outputs": [
    {
     "data": {
      "text/plain": [
       "8"
      ]
     },
     "execution_count": 16,
     "metadata": {},
     "output_type": "execute_result"
    }
   ],
   "source": [
    "city.index(\"Muree\")"
   ]
  },
  {
   "cell_type": "code",
   "execution_count": 17,
   "id": "a644186f",
   "metadata": {},
   "outputs": [],
   "source": [
    "city.append(\"Muree\")"
   ]
  },
  {
   "cell_type": "code",
   "execution_count": 19,
   "id": "cd414a3d",
   "metadata": {},
   "outputs": [
    {
     "data": {
      "text/plain": [
       "['Karachi',\n",
       " 'Lahore',\n",
       " 'Multan',\n",
       " 'Islamabad',\n",
       " 'Quetta',\n",
       " 'Peshawar',\n",
       " 'Sukkur',\n",
       " 'Hyderabad',\n",
       " 'Muree',\n",
       " 'Naran',\n",
       " 'A',\n",
       " 'B',\n",
       " 'Muree']"
      ]
     },
     "execution_count": 19,
     "metadata": {},
     "output_type": "execute_result"
    }
   ],
   "source": [
    "city"
   ]
  },
  {
   "cell_type": "code",
   "execution_count": 22,
   "id": "ec983285",
   "metadata": {},
   "outputs": [
    {
     "data": {
      "text/plain": [
       "['Karachi',\n",
       " 'Lahore',\n",
       " 'Multan',\n",
       " 'Islamabad',\n",
       " 'Quetta',\n",
       " 'Peshawar',\n",
       " 'Sukkur',\n",
       " 'Hyderabad',\n",
       " 'Muree',\n",
       " 'Naran',\n",
       " 'A',\n",
       " 'B',\n",
       " 'Muree',\n",
       " 'Hunza']"
      ]
     },
     "execution_count": 22,
     "metadata": {},
     "output_type": "execute_result"
    }
   ],
   "source": [
    "city.index(\"Muree\",9)\n",
    "city.append(\"Hunza\")\n",
    "city"
   ]
  },
  {
   "cell_type": "code",
   "execution_count": 23,
   "id": "85161298",
   "metadata": {},
   "outputs": [
    {
     "data": {
      "text/plain": [
       "12"
      ]
     },
     "execution_count": 23,
     "metadata": {},
     "output_type": "execute_result"
    }
   ],
   "source": [
    "city.index(\"Muree\",9,13)"
   ]
  },
  {
   "cell_type": "markdown",
   "id": "33e5432c",
   "metadata": {},
   "source": [
    "### 5. List method insert()\n",
    "\n",
    "- It will add element at your given position.\n",
    "- It takes two arguments.\n",
    "    - position --> index where you want to insert.\n",
    "    - item --> the element you want to add.\n",
    "    - eg. city.insert(10,\"Kagan\")"
   ]
  },
  {
   "cell_type": "code",
   "execution_count": 24,
   "id": "3630cac4",
   "metadata": {},
   "outputs": [
    {
     "data": {
      "text/plain": [
       "['Karachi',\n",
       " 'Lahore',\n",
       " 'Multan',\n",
       " 'Islamabad',\n",
       " 'Quetta',\n",
       " 'Peshawar',\n",
       " 'Sukkur',\n",
       " 'Hyderabad',\n",
       " 'Muree',\n",
       " 'Naran',\n",
       " 'Kagan',\n",
       " 'A',\n",
       " 'B',\n",
       " 'Muree',\n",
       " 'Hunza']"
      ]
     },
     "execution_count": 24,
     "metadata": {},
     "output_type": "execute_result"
    }
   ],
   "source": [
    "city.insert(10,\"Kagan\")\n",
    "city"
   ]
  },
  {
   "cell_type": "markdown",
   "id": "3f582208",
   "metadata": {},
   "source": [
    "### 6. List method pop()\n",
    "\n",
    "- It will remove the last element and return the remove element from the list by default if we do not give any index. --> city.pop()\n",
    "- It will remove the item from the list of the given index and return the remove element. --> city.pop(11)\n",
    "- It will give error if we give index out of range from the list. --> city.pop(100) index out of range\n",
    "- pop() is useful when you want both to remove and use the element.\n",
    "- pop() → remove by index, returns the removed item."
   ]
  },
  {
   "cell_type": "code",
   "execution_count": 25,
   "id": "a7c82836",
   "metadata": {},
   "outputs": [
    {
     "data": {
      "text/plain": [
       "['Karachi',\n",
       " 'Lahore',\n",
       " 'Multan',\n",
       " 'Islamabad',\n",
       " 'Quetta',\n",
       " 'Peshawar',\n",
       " 'Sukkur',\n",
       " 'Hyderabad',\n",
       " 'Muree',\n",
       " 'Naran',\n",
       " 'Kagan',\n",
       " 'A',\n",
       " 'B',\n",
       " 'Muree']"
      ]
     },
     "execution_count": 25,
     "metadata": {},
     "output_type": "execute_result"
    }
   ],
   "source": [
    "city.pop()\n",
    "city"
   ]
  },
  {
   "cell_type": "code",
   "execution_count": 26,
   "id": "14d97bcb",
   "metadata": {},
   "outputs": [
    {
     "data": {
      "text/plain": [
       "11"
      ]
     },
     "execution_count": 26,
     "metadata": {},
     "output_type": "execute_result"
    }
   ],
   "source": [
    "city.index(\"A\")"
   ]
  },
  {
   "cell_type": "code",
   "execution_count": 27,
   "id": "f2ba3e48",
   "metadata": {},
   "outputs": [
    {
     "data": {
      "text/plain": [
       "'A'"
      ]
     },
     "execution_count": 27,
     "metadata": {},
     "output_type": "execute_result"
    }
   ],
   "source": [
    "city.pop(11)"
   ]
  },
  {
   "cell_type": "code",
   "execution_count": 28,
   "id": "f68e9c01",
   "metadata": {},
   "outputs": [
    {
     "data": {
      "text/plain": [
       "['Karachi',\n",
       " 'Lahore',\n",
       " 'Multan',\n",
       " 'Islamabad',\n",
       " 'Quetta',\n",
       " 'Peshawar',\n",
       " 'Sukkur',\n",
       " 'Hyderabad',\n",
       " 'Muree',\n",
       " 'Naran',\n",
       " 'Kagan',\n",
       " 'B',\n",
       " 'Muree']"
      ]
     },
     "execution_count": 28,
     "metadata": {},
     "output_type": "execute_result"
    }
   ],
   "source": [
    "city"
   ]
  },
  {
   "cell_type": "code",
   "execution_count": 29,
   "id": "dfd53a14",
   "metadata": {},
   "outputs": [
    {
     "ename": "IndexError",
     "evalue": "pop index out of range",
     "output_type": "error",
     "traceback": [
      "\u001b[1;31m---------------------------------------------------------------------------\u001b[0m",
      "\u001b[1;31mIndexError\u001b[0m                                Traceback (most recent call last)",
      "Cell \u001b[1;32mIn[29], line 1\u001b[0m\n\u001b[1;32m----> 1\u001b[0m city\u001b[38;5;241m.\u001b[39mpop(\u001b[38;5;241m20\u001b[39m)\n",
      "\u001b[1;31mIndexError\u001b[0m: pop index out of range"
     ]
    }
   ],
   "source": [
    "city.pop(20)"
   ]
  },
  {
   "cell_type": "markdown",
   "id": "4b644273",
   "metadata": {},
   "source": [
    "### 7. List method remove\n",
    "\n",
    "- It will remove the first occurance of any item.\n",
    "- remove() → remove by value, no return, error if not found."
   ]
  },
  {
   "cell_type": "code",
   "execution_count": 30,
   "id": "b628ae8d",
   "metadata": {},
   "outputs": [],
   "source": [
    "city.remove(\"B\")"
   ]
  },
  {
   "cell_type": "code",
   "execution_count": 31,
   "id": "3f907a85",
   "metadata": {},
   "outputs": [
    {
     "data": {
      "text/plain": [
       "['Karachi',\n",
       " 'Lahore',\n",
       " 'Multan',\n",
       " 'Islamabad',\n",
       " 'Quetta',\n",
       " 'Peshawar',\n",
       " 'Sukkur',\n",
       " 'Hyderabad',\n",
       " 'Muree',\n",
       " 'Naran',\n",
       " 'Kagan',\n",
       " 'Muree']"
      ]
     },
     "execution_count": 31,
     "metadata": {},
     "output_type": "execute_result"
    }
   ],
   "source": [
    "city"
   ]
  },
  {
   "cell_type": "code",
   "execution_count": 32,
   "id": "0f0cd70d",
   "metadata": {},
   "outputs": [
    {
     "data": {
      "text/plain": [
       "['Karachi',\n",
       " 'Lahore',\n",
       " 'Multan',\n",
       " 'Islamabad',\n",
       " 'Quetta',\n",
       " 'Peshawar',\n",
       " 'Sukkur',\n",
       " 'Hyderabad',\n",
       " 'Naran',\n",
       " 'Kagan',\n",
       " 'Muree']"
      ]
     },
     "execution_count": 32,
     "metadata": {},
     "output_type": "execute_result"
    }
   ],
   "source": [
    "city.remove(\"Muree\")\n",
    "city"
   ]
  },
  {
   "cell_type": "markdown",
   "id": "969ed96a",
   "metadata": {},
   "source": [
    "### 8. List method reverse()\n",
    "\n",
    "- The reverse() method in Python reverses the order of the list in place.\n",
    "That means it directly changes the list — it does not make a new one, and it doesn’t return anything.\n",
    "- It works in-place (modifies the original list).\n",
    "- It doesn’t sort; it just flips the list backwards.\n",
    "- It returns None, so you shouldn’t do x = nums.reverse() (that would make x = None)."
   ]
  },
  {
   "cell_type": "code",
   "execution_count": 33,
   "id": "3a27e40c",
   "metadata": {},
   "outputs": [],
   "source": [
    "city.reverse()"
   ]
  },
  {
   "cell_type": "code",
   "execution_count": 34,
   "id": "79d19ee9",
   "metadata": {},
   "outputs": [
    {
     "data": {
      "text/plain": [
       "['Muree',\n",
       " 'Kagan',\n",
       " 'Naran',\n",
       " 'Hyderabad',\n",
       " 'Sukkur',\n",
       " 'Peshawar',\n",
       " 'Quetta',\n",
       " 'Islamabad',\n",
       " 'Multan',\n",
       " 'Lahore',\n",
       " 'Karachi']"
      ]
     },
     "execution_count": 34,
     "metadata": {},
     "output_type": "execute_result"
    }
   ],
   "source": [
    "city"
   ]
  },
  {
   "cell_type": "code",
   "execution_count": 35,
   "id": "f0bb4794",
   "metadata": {},
   "outputs": [],
   "source": [
    "x = city.reverse()"
   ]
  },
  {
   "cell_type": "code",
   "execution_count": 36,
   "id": "71704673",
   "metadata": {},
   "outputs": [],
   "source": [
    "x"
   ]
  },
  {
   "cell_type": "markdown",
   "id": "3b4f3fc6",
   "metadata": {},
   "source": [
    "### 9. List method sort()\n",
    "\n",
    "- The sort() method is used to arrange list elements in ascending (by default) or descending order.\n",
    "- In-place: It changes the original list.\n",
    "- Works on numbers and strings (alphabetical order for strings).\n",
    "- It can’t sort lists with mixed types (like numbers + strings)."
   ]
  },
  {
   "cell_type": "markdown",
   "id": "59152431",
   "metadata": {},
   "source": [
    "#### Ascending order example (by default)"
   ]
  },
  {
   "cell_type": "code",
   "execution_count": 37,
   "id": "59a6f8b4",
   "metadata": {},
   "outputs": [],
   "source": [
    "city.sort()"
   ]
  },
  {
   "cell_type": "code",
   "execution_count": 38,
   "id": "7b537656",
   "metadata": {},
   "outputs": [
    {
     "data": {
      "text/plain": [
       "['Hyderabad',\n",
       " 'Islamabad',\n",
       " 'Kagan',\n",
       " 'Karachi',\n",
       " 'Lahore',\n",
       " 'Multan',\n",
       " 'Muree',\n",
       " 'Naran',\n",
       " 'Peshawar',\n",
       " 'Quetta',\n",
       " 'Sukkur']"
      ]
     },
     "execution_count": 38,
     "metadata": {},
     "output_type": "execute_result"
    }
   ],
   "source": [
    "city"
   ]
  },
  {
   "cell_type": "markdown",
   "id": "b94c6105",
   "metadata": {},
   "source": [
    "#### Descending order example"
   ]
  },
  {
   "cell_type": "code",
   "execution_count": 39,
   "id": "6fc2bae0",
   "metadata": {},
   "outputs": [],
   "source": [
    "city.sort(reverse=True)"
   ]
  },
  {
   "cell_type": "code",
   "execution_count": 40,
   "id": "01e070d2",
   "metadata": {},
   "outputs": [
    {
     "data": {
      "text/plain": [
       "['Sukkur',\n",
       " 'Quetta',\n",
       " 'Peshawar',\n",
       " 'Naran',\n",
       " 'Muree',\n",
       " 'Multan',\n",
       " 'Lahore',\n",
       " 'Karachi',\n",
       " 'Kagan',\n",
       " 'Islamabad',\n",
       " 'Hyderabad']"
      ]
     },
     "execution_count": 40,
     "metadata": {},
     "output_type": "execute_result"
    }
   ],
   "source": [
    "city"
   ]
  },
  {
   "cell_type": "markdown",
   "id": "9492ddd6",
   "metadata": {},
   "source": [
    "### 10. List method copy()\n",
    "\n",
    "- The copy() method makes a shallow copy of a list.\n",
    "That means it creates a new list with the same elements, but at a different memory location."
   ]
  },
  {
   "cell_type": "code",
   "execution_count": 41,
   "id": "4dcc3fb6",
   "metadata": {},
   "outputs": [
    {
     "data": {
      "text/plain": [
       "(['Sukkur',\n",
       "  'Quetta',\n",
       "  'Peshawar',\n",
       "  'Naran',\n",
       "  'Muree',\n",
       "  'Multan',\n",
       "  'Lahore',\n",
       "  'Karachi',\n",
       "  'Kagan',\n",
       "  'Islamabad',\n",
       "  'Hyderabad'],\n",
       " ['Sukkur',\n",
       "  'Quetta',\n",
       "  'Peshawar',\n",
       "  'Naran',\n",
       "  'Muree',\n",
       "  'Multan',\n",
       "  'Lahore',\n",
       "  'Karachi',\n",
       "  'Kagan',\n",
       "  'Islamabad',\n",
       "  'Hyderabad'])"
      ]
     },
     "execution_count": 41,
     "metadata": {},
     "output_type": "execute_result"
    }
   ],
   "source": [
    "city1 = city.copy()\n",
    "city, city1"
   ]
  },
  {
   "cell_type": "markdown",
   "id": "9f8f04fa",
   "metadata": {},
   "source": [
    "#### Shalow Copy"
   ]
  },
  {
   "cell_type": "markdown",
   "id": "3bf2e890",
   "metadata": {},
   "source": [
    "- If we add item into city1 it will not add into city because both list item are located in a different memory location. "
   ]
  },
  {
   "cell_type": "code",
   "execution_count": 43,
   "id": "9dc84d18",
   "metadata": {},
   "outputs": [
    {
     "data": {
      "text/plain": [
       "(['Sukkur',\n",
       "  'Quetta',\n",
       "  'Peshawar',\n",
       "  'Naran',\n",
       "  'Muree',\n",
       "  'Multan',\n",
       "  'Lahore',\n",
       "  'Karachi',\n",
       "  'Kagan',\n",
       "  'Islamabad',\n",
       "  'Hyderabad'],\n",
       " ['Sukkur',\n",
       "  'Quetta',\n",
       "  'Peshawar',\n",
       "  'Naran',\n",
       "  'Muree',\n",
       "  'Multan',\n",
       "  'Lahore',\n",
       "  'Karachi',\n",
       "  'Kagan',\n",
       "  'Islamabad',\n",
       "  'Hyderabad',\n",
       "  'Balochistan',\n",
       "  'Balochistan'])"
      ]
     },
     "execution_count": 43,
     "metadata": {},
     "output_type": "execute_result"
    }
   ],
   "source": [
    "city1.append(\"Balochistan\")\n",
    "\n",
    "city, city1"
   ]
  },
  {
   "cell_type": "markdown",
   "id": "488176b4",
   "metadata": {},
   "source": [
    "#### Shalow copy with nested list\n",
    "\n",
    "- If we make a list and add nested list into a list and copy that list, so that mean's we have 2 list with the same items. But if we change nested list any of them the changes will occur in both list.\n",
    "- This happens beacuase of nested list items of both list sharing the same memory location. "
   ]
  },
  {
   "cell_type": "code",
   "execution_count": 45,
   "id": "7b185c3d",
   "metadata": {},
   "outputs": [
    {
     "data": {
      "text/plain": [
       "([1, 2, 3, 4, [5, 7]], [1, 2, 3, 4, [5, 7]])"
      ]
     },
     "execution_count": 45,
     "metadata": {},
     "output_type": "execute_result"
    }
   ],
   "source": [
    "a = [1,2,3,4,[5,6]]\n",
    "b = a.copy()\n",
    "b[4][1] = 7\n",
    "a, b"
   ]
  },
  {
   "cell_type": "markdown",
   "id": "78db51a8",
   "metadata": {},
   "source": [
    "#### Deep copy\n",
    "\n",
    "- In deep copy there is both simple and nested list there is no change in list if we change in any list beacuase in deep copy both list item are stored in a different memory location."
   ]
  },
  {
   "cell_type": "code",
   "execution_count": 46,
   "id": "5f5a1964",
   "metadata": {},
   "outputs": [
    {
     "data": {
      "text/plain": [
       "([1, 2, 3, 4, 5], [1, 2, 3, 4, 5])"
      ]
     },
     "execution_count": 46,
     "metadata": {},
     "output_type": "execute_result"
    }
   ],
   "source": [
    "import copy\n",
    "\n",
    "a = [1,2,3,4,5]\n",
    "b = copy.deepcopy(a)\n",
    "\n",
    "a,b"
   ]
  },
  {
   "cell_type": "code",
   "execution_count": 47,
   "id": "ff122d15",
   "metadata": {},
   "outputs": [
    {
     "data": {
      "text/plain": [
       "([1, 2, 3, 4, 5, [6, 7]], [1, 2, 3, 4, 5, [6, 8]])"
      ]
     },
     "execution_count": 47,
     "metadata": {},
     "output_type": "execute_result"
    }
   ],
   "source": [
    "a = [1,2,3,4,5,[6,7]]\n",
    "b = copy.deepcopy(a)\n",
    "b[5][1] = 8\n",
    "a, b"
   ]
  },
  {
   "cell_type": "code",
   "execution_count": null,
   "id": "77ed99f9",
   "metadata": {},
   "outputs": [],
   "source": []
  }
 ],
 "metadata": {
  "kernelspec": {
   "display_name": "base",
   "language": "python",
   "name": "python3"
  },
  "language_info": {
   "codemirror_mode": {
    "name": "ipython",
    "version": 3
   },
   "file_extension": ".py",
   "mimetype": "text/x-python",
   "name": "python",
   "nbconvert_exporter": "python",
   "pygments_lexer": "ipython3",
   "version": "3.13.5"
  }
 },
 "nbformat": 4,
 "nbformat_minor": 5
}
