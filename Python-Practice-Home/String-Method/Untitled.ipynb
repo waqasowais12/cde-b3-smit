{
 "cells": [
  {
   "cell_type": "markdown",
   "id": "e42080e5-4611-4281-a563-b64636b9c63e",
   "metadata": {},
   "source": [
    "## STRING & IT'S METHODS"
   ]
  },
  {
   "cell_type": "markdown",
   "id": "fa8377db",
   "metadata": {},
   "source": [
    "#                                                REMEMBER:\n",
    "###             All the functions we apply on a string, It does not change the original string it returns a new                                       string with the changes we did\n",
    "###                                        Beacause strings are Immutable"
   ]
  },
  {
   "cell_type": "markdown",
   "id": "e41718f9",
   "metadata": {},
   "source": [
    "### 1. String fucntion len()\n",
    "\n",
    "- This function returns the len of string"
   ]
  },
  {
   "cell_type": "code",
   "execution_count": 3,
   "id": "e07ca6d7",
   "metadata": {},
   "outputs": [
    {
     "name": "stdout",
     "output_type": "stream",
     "text": [
      "11\n"
     ]
    }
   ],
   "source": [
    "name = \"Hafiz Waqas\"\n",
    "print(len(name))"
   ]
  },
  {
   "cell_type": "markdown",
   "id": "52dde5b3",
   "metadata": {},
   "source": [
    "### 2. String function endswith()\n",
    "\n",
    "- string.endswith(\"qas\") - This function_tells whether the variable string ends with the string \"qas\" or not.If string is \"waqas\", it returns true for \"rry\" since waqas ends with qas."
   ]
  },
  {
   "cell_type": "code",
   "execution_count": 10,
   "id": "16f16fb2",
   "metadata": {},
   "outputs": [
    {
     "data": {
      "text/plain": [
       "True"
      ]
     },
     "execution_count": 10,
     "metadata": {},
     "output_type": "execute_result"
    }
   ],
   "source": [
    "name = \"waqas\"\n",
    "name.endswith(\"qas\") "
   ]
  },
  {
   "cell_type": "markdown",
   "id": "c6513845",
   "metadata": {},
   "source": [
    "### 3. String function startswith()\n",
    "\n",
    "- string.startswith(\"wa\") - This function_tells whether the variable string starts with the string \"wa\" or not.If string is \"waqas\", it returns true for \"wa\" since waqas starts with wa."
   ]
  },
  {
   "cell_type": "code",
   "execution_count": 14,
   "id": "eb3c694a",
   "metadata": {},
   "outputs": [
    {
     "data": {
      "text/plain": [
       "True"
      ]
     },
     "execution_count": 14,
     "metadata": {},
     "output_type": "execute_result"
    }
   ],
   "source": [
    "name = \"waqas\"\n",
    "name.startswith(\"wa\")"
   ]
  },
  {
   "cell_type": "markdown",
   "id": "1ba87203",
   "metadata": {},
   "source": [
    "### 4. String function count()\n",
    "\n",
    "- string.count(\"a\") - counts the total number of occurance of any character."
   ]
  },
  {
   "cell_type": "code",
   "execution_count": 15,
   "id": "1097805b",
   "metadata": {},
   "outputs": [
    {
     "data": {
      "text/plain": [
       "2"
      ]
     },
     "execution_count": 15,
     "metadata": {},
     "output_type": "execute_result"
    }
   ],
   "source": [
    "name = \"waqas\"\n",
    "name.count(\"a\")"
   ]
  },
  {
   "cell_type": "markdown",
   "id": "316be874",
   "metadata": {},
   "source": [
    "### 5. String function capatalize()\n",
    "\n",
    "- Transform the first word of string into capital letter."
   ]
  },
  {
   "cell_type": "code",
   "execution_count": 16,
   "id": "d8cedb87",
   "metadata": {},
   "outputs": [
    {
     "data": {
      "text/plain": [
       "'Waqas'"
      ]
     },
     "execution_count": 16,
     "metadata": {},
     "output_type": "execute_result"
    }
   ],
   "source": [
    "name = \"waqas\"\n",
    "name.capitalize()"
   ]
  },
  {
   "cell_type": "markdown",
   "id": "c73def65",
   "metadata": {},
   "source": [
    "### 6. String function upper()\n",
    "\n",
    "- Changes the whole string into upper case."
   ]
  },
  {
   "cell_type": "code",
   "execution_count": 18,
   "id": "a6dd1b65",
   "metadata": {},
   "outputs": [
    {
     "data": {
      "text/plain": [
       "'WAQAS'"
      ]
     },
     "execution_count": 18,
     "metadata": {},
     "output_type": "execute_result"
    }
   ],
   "source": [
    "name = \"waqas\"\n",
    "name.upper()"
   ]
  },
  {
   "cell_type": "markdown",
   "id": "412bc08f",
   "metadata": {},
   "source": [
    "### 7. String function lower()\n",
    "\n",
    "- Changes the whole string into lower case."
   ]
  },
  {
   "cell_type": "code",
   "execution_count": 42,
   "id": "9f1b1751",
   "metadata": {},
   "outputs": [
    {
     "data": {
      "text/plain": [
       "'waqas'"
      ]
     },
     "execution_count": 42,
     "metadata": {},
     "output_type": "execute_result"
    }
   ],
   "source": [
    "name = \"WAQAS\"\n",
    "name.lower()"
   ]
  },
  {
   "cell_type": "markdown",
   "id": "f743c85f",
   "metadata": {},
   "source": [
    "### 8. String function casefold()\n",
    "\n",
    "- Remaining (see later)"
   ]
  },
  {
   "cell_type": "code",
   "execution_count": 43,
   "id": "2cb78658",
   "metadata": {},
   "outputs": [
    {
     "data": {
      "text/plain": [
       "'waqas'"
      ]
     },
     "execution_count": 43,
     "metadata": {},
     "output_type": "execute_result"
    }
   ],
   "source": [
    "name = \"Waqas\"\n",
    "name.casefold()"
   ]
  },
  {
   "cell_type": "markdown",
   "id": "db1ec2cd",
   "metadata": {},
   "source": [
    "### 9. String function center()\n",
    "\n",
    "- Remaining (see later)"
   ]
  },
  {
   "cell_type": "code",
   "execution_count": 59,
   "id": "063119d4",
   "metadata": {},
   "outputs": [
    {
     "data": {
      "text/plain": [
       "'waqas owais'"
      ]
     },
     "execution_count": 59,
     "metadata": {},
     "output_type": "execute_result"
    }
   ],
   "source": [
    "name = \"waqas owais\"\n",
    "name.center(1, \"o\")"
   ]
  },
  {
   "cell_type": "markdown",
   "id": "0bae4597",
   "metadata": {},
   "source": [
    "### 10. String() function find()\n",
    "\n",
    "- returns the first occurance index of given value in a string.\n",
    "- If the given value is not in the string it simply return -1."
   ]
  },
  {
   "cell_type": "code",
   "execution_count": 70,
   "id": "8d03182e",
   "metadata": {},
   "outputs": [
    {
     "name": "stdout",
     "output_type": "stream",
     "text": [
      "5\n",
      "7\n"
     ]
    }
   ],
   "source": [
    "name = \"waqas  owais\"\n",
    "print(name.find((\"  \")))\n",
    "print(name.find((\"o\")))"
   ]
  },
  {
   "cell_type": "markdown",
   "id": "15b404d2",
   "metadata": {},
   "source": [
    "### 11. String function replace()\n",
    "\n",
    "- It replaces the value we set against the given value."
   ]
  },
  {
   "cell_type": "code",
   "execution_count": 72,
   "id": "c01158a4",
   "metadata": {},
   "outputs": [
    {
     "name": "stdout",
     "output_type": "stream",
     "text": [
      "waqas owais\n"
     ]
    }
   ],
   "source": [
    "name = \"waqas  owais\"\n",
    "print(name.replace(\"  \", \" \")) ## Here we replace the double space into single space."
   ]
  }
 ],
 "metadata": {
  "kernelspec": {
   "display_name": "base",
   "language": "python",
   "name": "python3"
  },
  "language_info": {
   "codemirror_mode": {
    "name": "ipython",
    "version": 3
   },
   "file_extension": ".py",
   "mimetype": "text/x-python",
   "name": "python",
   "nbconvert_exporter": "python",
   "pygments_lexer": "ipython3",
   "version": "3.13.5"
  }
 },
 "nbformat": 4,
 "nbformat_minor": 5
}
