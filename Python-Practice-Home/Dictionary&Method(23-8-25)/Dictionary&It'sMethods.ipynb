{
 "cells": [
  {
   "cell_type": "markdown",
   "id": "843b6809-0e78-4491-aba9-949981c0a3c8",
   "metadata": {},
   "source": [
    "## DICTIONARY & IT'S METHODS"
   ]
  },
  {
   "cell_type": "code",
   "execution_count": null,
   "id": "2d783037",
   "metadata": {},
   "outputs": [
    {
     "data": {
      "text/plain": [
       "{'f_name': 'Waqas', 'l_name': 'Khan', 'age': 23, 'city': 'karachi'}"
      ]
     },
     "execution_count": 6,
     "metadata": {},
     "output_type": "execute_result"
    }
   ],
   "source": [
    "dic = {\n",
    "    \"f_name\":\"Waqas\",\n",
    "    \"l_name\":\"Khan\",\n",
    "    \"age\":23,\n",
    "    \"city\":\"karachi\"    \n",
    "}\n",
    "dic"
   ]
  },
  {
   "cell_type": "markdown",
   "id": "40c10162",
   "metadata": {},
   "source": [
    "### 1. DIctionary method fromkeys()\n",
    "- It recieves values from list as keys of dictionary. eg. --> d = dict.fromkeys(keys)\n",
    "- It set values of keys as none you can assign generic value for all the keys values. eg. --> d = dict.fromkeys(keys, 0)"
   ]
  },
  {
   "cell_type": "code",
   "execution_count": 3,
   "id": "58695db3",
   "metadata": {},
   "outputs": [
    {
     "data": {
      "text/plain": [
       "{'name': None, 'age': None, 'city': None}"
      ]
     },
     "execution_count": 3,
     "metadata": {},
     "output_type": "execute_result"
    }
   ],
   "source": [
    "keys = ['name','age','city']\n",
    "d = dict.fromkeys(keys)\n",
    "d"
   ]
  },
  {
   "cell_type": "code",
   "execution_count": 5,
   "id": "b2d835fe",
   "metadata": {},
   "outputs": [
    {
     "data": {
      "text/plain": [
       "{'name': 0, 'age': 0, 'city': 0}"
      ]
     },
     "execution_count": 5,
     "metadata": {},
     "output_type": "execute_result"
    }
   ],
   "source": [
    "keys = ['name','age','city']\n",
    "d = dict.fromkeys(keys, 0)\n",
    "d"
   ]
  },
  {
   "cell_type": "markdown",
   "id": "181decb0",
   "metadata": {},
   "source": [
    "### 2. Dictionary method get()\n",
    "\n",
    "- It returns the value of given key if the key is in the dictionary. eg. --> dic.get(\"city\") --> karachi\n",
    "- If the key does not exist, instead of throwing an error, it returns None"
   ]
  },
  {
   "cell_type": "code",
   "execution_count": 15,
   "id": "706d9455",
   "metadata": {},
   "outputs": [
    {
     "data": {
      "text/plain": [
       "'karachi'"
      ]
     },
     "execution_count": 15,
     "metadata": {},
     "output_type": "execute_result"
    }
   ],
   "source": [
    "dic = {\n",
    "    \"f_name\":\"Waqas\",\n",
    "    \"l_name\":\"Khan\",\n",
    "    \"age\":23,\n",
    "    \"city\":\"karachi\"    \n",
    "}\n",
    "dic.get(\"city\")"
   ]
  },
  {
   "cell_type": "markdown",
   "id": "71d063aa",
   "metadata": {},
   "source": [
    "### 3. Dictionary method items()\n",
    "\n",
    "- It return whole dictionary keys and values as a sequence of tuple. "
   ]
  },
  {
   "cell_type": "code",
   "execution_count": 18,
   "id": "73095d88",
   "metadata": {},
   "outputs": [
    {
     "name": "stdout",
     "output_type": "stream",
     "text": [
      "dict_items([('f_name', 'Waqas'), ('l_name', 'Khan'), ('age', 23), ('city', 'karachi')])\n",
      "[('f_name', 'Waqas'), ('l_name', 'Khan'), ('age', 23), ('city', 'karachi')]\n"
     ]
    }
   ],
   "source": [
    "print(dic.items())\n",
    "d = list(dic.items()) ## list of tuples\n",
    "print(d)"
   ]
  },
  {
   "cell_type": "markdown",
   "id": "7173343b",
   "metadata": {},
   "source": [
    "- Looping on dictionary using items() method\n"
   ]
  },
  {
   "cell_type": "code",
   "execution_count": 19,
   "id": "d1267ff5",
   "metadata": {},
   "outputs": [
    {
     "name": "stdout",
     "output_type": "stream",
     "text": [
      "f_name --> Waqas\n",
      "l_name --> Khan\n",
      "age --> 23\n",
      "city --> karachi\n"
     ]
    }
   ],
   "source": [
    "for key, value in dic.items():\n",
    "    print(f\"{key} --> {value}\")"
   ]
  },
  {
   "cell_type": "markdown",
   "id": "d17d1b29",
   "metadata": {},
   "source": [
    "### 4. Dictionary method keys()\n",
    "\n",
    "- It return all the keys of the dictionary without values."
   ]
  },
  {
   "cell_type": "code",
   "execution_count": 21,
   "id": "d67a2451",
   "metadata": {},
   "outputs": [
    {
     "data": {
      "text/plain": [
       "dict_keys(['f_name', 'l_name', 'age', 'city'])"
      ]
     },
     "execution_count": 21,
     "metadata": {},
     "output_type": "execute_result"
    }
   ],
   "source": [
    "dic.keys()"
   ]
  },
  {
   "cell_type": "code",
   "execution_count": 24,
   "id": "a7173b17",
   "metadata": {},
   "outputs": [
    {
     "name": "stdout",
     "output_type": "stream",
     "text": [
      "f_name\n",
      "l_name\n",
      "age\n",
      "city\n"
     ]
    }
   ],
   "source": [
    "for i in dic.keys():\n",
    "    print(i)"
   ]
  },
  {
   "cell_type": "code",
   "execution_count": 26,
   "id": "04dc5f53",
   "metadata": {},
   "outputs": [
    {
     "name": "stdout",
     "output_type": "stream",
     "text": [
      "['f_name', 'l_name', 'age', 'city']\n"
     ]
    }
   ],
   "source": [
    "d = list(dic.keys())\n",
    "print(d)"
   ]
  },
  {
   "cell_type": "markdown",
   "id": "f1265896",
   "metadata": {},
   "source": [
    "### 5. Dictionary method pop()\n",
    "\n",
    "- The pop() method removes a key from the dictionary and returns its value.\n",
    "- default (optional) → value to return if the key is not found (instead of throwing an error). dic.pop(key, default)"
   ]
  },
  {
   "cell_type": "code",
   "execution_count": 30,
   "id": "0d66dc1a",
   "metadata": {},
   "outputs": [
    {
     "data": {
      "text/plain": [
       "{'f_name': 'Waqas', 'l_name': 'Khan', 'age': 23, 'city': 'karachi'}"
      ]
     },
     "execution_count": 30,
     "metadata": {},
     "output_type": "execute_result"
    }
   ],
   "source": [
    "dic = {\n",
    "    \"f_name\":\"Waqas\",\n",
    "    \"l_name\":\"Khan\",\n",
    "    \"age\":23,\n",
    "    \"city\":\"karachi\"    \n",
    "}\n",
    "dic"
   ]
  },
  {
   "cell_type": "code",
   "execution_count": 31,
   "id": "ab480d41",
   "metadata": {},
   "outputs": [],
   "source": [
    "city = dic.pop(\"city\")"
   ]
  },
  {
   "cell_type": "code",
   "execution_count": 32,
   "id": "33bdba7d",
   "metadata": {},
   "outputs": [
    {
     "data": {
      "text/plain": [
       "'karachi'"
      ]
     },
     "execution_count": 32,
     "metadata": {},
     "output_type": "execute_result"
    }
   ],
   "source": [
    "city"
   ]
  },
  {
   "cell_type": "code",
   "execution_count": 33,
   "id": "24031977",
   "metadata": {},
   "outputs": [
    {
     "data": {
      "text/plain": [
       "{'f_name': 'Waqas', 'l_name': 'Khan', 'age': 23}"
      ]
     },
     "execution_count": 33,
     "metadata": {},
     "output_type": "execute_result"
    }
   ],
   "source": [
    "dic"
   ]
  },
  {
   "cell_type": "markdown",
   "id": "856f953e",
   "metadata": {},
   "source": [
    "### 6. Dictionary method popitem()\n",
    "\n",
    "- The popitem() method removes and returns the last inserted key-value pair from the dictionary as a tuple (key, value)."
   ]
  },
  {
   "cell_type": "code",
   "execution_count": 38,
   "id": "353b4140",
   "metadata": {},
   "outputs": [
    {
     "data": {
      "text/plain": [
       "{'f_name': 'Waqas', 'l_name': 'Khan', 'age': 23, 'city': 'karachi'}"
      ]
     },
     "execution_count": 38,
     "metadata": {},
     "output_type": "execute_result"
    }
   ],
   "source": [
    "dic = {\n",
    "    \"f_name\":\"Waqas\",\n",
    "    \"l_name\":\"Khan\",\n",
    "    \"age\":23,\n",
    "    \"city\":\"karachi\"    \n",
    "}\n",
    "dic"
   ]
  },
  {
   "cell_type": "code",
   "execution_count": 39,
   "id": "1acd6cbd",
   "metadata": {},
   "outputs": [],
   "source": [
    "city = dic.popitem()"
   ]
  },
  {
   "cell_type": "code",
   "execution_count": 40,
   "id": "c512cc33",
   "metadata": {},
   "outputs": [
    {
     "data": {
      "text/plain": [
       "('city', 'karachi')"
      ]
     },
     "execution_count": 40,
     "metadata": {},
     "output_type": "execute_result"
    }
   ],
   "source": [
    "city"
   ]
  },
  {
   "cell_type": "code",
   "execution_count": 41,
   "id": "5bac772c",
   "metadata": {},
   "outputs": [
    {
     "data": {
      "text/plain": [
       "{'f_name': 'Waqas', 'l_name': 'Khan', 'age': 23}"
      ]
     },
     "execution_count": 41,
     "metadata": {},
     "output_type": "execute_result"
    }
   ],
   "source": [
    "dic"
   ]
  },
  {
   "cell_type": "markdown",
   "id": "b6515e3d",
   "metadata": {},
   "source": [
    "### 7. Dictionary method setdefault()\n",
    "\n",
    "- Return the value of a key if it exists in the dictionary.\n",
    "\n",
    "- If the key does not exist, it inserts the key with a default value and then returns that default value."
   ]
  },
  {
   "cell_type": "code",
   "execution_count": 51,
   "id": "d8cbe70c",
   "metadata": {},
   "outputs": [
    {
     "data": {
      "text/plain": [
       "{'f_name': 'Waqas', 'l_name': 'Khan', 'age': 23, 'city': 'karachi'}"
      ]
     },
     "execution_count": 51,
     "metadata": {},
     "output_type": "execute_result"
    }
   ],
   "source": [
    "dic = {\n",
    "    \"f_name\":\"Waqas\",\n",
    "    \"l_name\":\"Khan\",\n",
    "    \"age\":23,\n",
    "    \"city\":\"karachi\"    \n",
    "}\n",
    "dic"
   ]
  },
  {
   "cell_type": "code",
   "execution_count": 52,
   "id": "13a2d05d",
   "metadata": {},
   "outputs": [
    {
     "name": "stdout",
     "output_type": "stream",
     "text": [
      "karachi\n"
     ]
    },
    {
     "data": {
      "text/plain": [
       "{'f_name': 'Waqas', 'l_name': 'Khan', 'age': 23, 'city': 'karachi'}"
      ]
     },
     "execution_count": 52,
     "metadata": {},
     "output_type": "execute_result"
    }
   ],
   "source": [
    "print(dic.setdefault(\"city\", \"unknown\"))\n",
    "dic"
   ]
  },
  {
   "cell_type": "code",
   "execution_count": 53,
   "id": "a4387584",
   "metadata": {},
   "outputs": [
    {
     "name": "stdout",
     "output_type": "stream",
     "text": [
      "Pakistan\n"
     ]
    },
    {
     "data": {
      "text/plain": [
       "{'f_name': 'Waqas',\n",
       " 'l_name': 'Khan',\n",
       " 'age': 23,\n",
       " 'city': 'karachi',\n",
       " 'country': 'Pakistan'}"
      ]
     },
     "execution_count": 53,
     "metadata": {},
     "output_type": "execute_result"
    }
   ],
   "source": [
    "print(dic.setdefault(\"country\", \"Pakistan\"))\n",
    "dic"
   ]
  },
  {
   "cell_type": "code",
   "execution_count": 54,
   "id": "ccaabced",
   "metadata": {},
   "outputs": [
    {
     "name": "stdout",
     "output_type": "stream",
     "text": [
      "None\n"
     ]
    },
    {
     "data": {
      "text/plain": [
       "{'f_name': 'Waqas',\n",
       " 'l_name': 'Khan',\n",
       " 'age': 23,\n",
       " 'city': 'karachi',\n",
       " 'country': 'Pakistan',\n",
       " 'email': None}"
      ]
     },
     "execution_count": 54,
     "metadata": {},
     "output_type": "execute_result"
    }
   ],
   "source": [
    "print(dic.setdefault(\"email\"))\n",
    "dic"
   ]
  },
  {
   "cell_type": "markdown",
   "id": "3e9c598e",
   "metadata": {},
   "source": [
    "### 8. Dictionary method update()\n",
    "\n",
    "- The update() method is used to merge another dictionary (or key-value pairs) into the current dictionary.\n",
    "    - If a key already exists → its value is updated/overwritten.\n",
    "    - If a key doesn’t exist → it is added."
   ]
  },
  {
   "cell_type": "code",
   "execution_count": null,
   "id": "34420754",
   "metadata": {},
   "outputs": [
    {
     "data": {
      "text/plain": [
       "{'f_name': 'Waqas',\n",
       " 'l_name': 'Khan',\n",
       " 'age': 22,\n",
       " 'city': 'karachi',\n",
       " 'Country': 'Pakistan'}"
      ]
     },
     "execution_count": 57,
     "metadata": {},
     "output_type": "execute_result"
    }
   ],
   "source": [
    "dic = {\n",
    "    \"f_name\":\"Waqas\",\n",
    "    \"l_name\":\"Khan\",\n",
    "    \"age\":23,\n",
    "    \"city\":\"karachi\"    \n",
    "}\n",
    "dic.update({\"age\": 22, \"Country\":\"Pakistan\"}) ## Updating with another dictionary\n",
    "dic"
   ]
  },
  {
   "cell_type": "code",
   "execution_count": null,
   "id": "1012256d",
   "metadata": {},
   "outputs": [
    {
     "data": {
      "text/plain": [
       "{'f_name': 'Waqas',\n",
       " 'l_name': 'Khan',\n",
       " 'age': 22,\n",
       " 'city': 'karachi',\n",
       " 'Country': 'Pakistan',\n",
       " 'grade': 'A',\n",
       " 'present': True}"
      ]
     },
     "execution_count": 58,
     "metadata": {},
     "output_type": "execute_result"
    }
   ],
   "source": [
    "dic.update(grade=\"A\", present=True) ## Using keyword arguments\n",
    "dic"
   ]
  },
  {
   "cell_type": "code",
   "execution_count": null,
   "id": "eb0a622a",
   "metadata": {},
   "outputs": [
    {
     "data": {
      "text/plain": [
       "{'f_name': 'Waqas',\n",
       " 'l_name': 'Khan',\n",
       " 'age': 23,\n",
       " 'city': 'karachi',\n",
       " 'Country': 'Pakistan',\n",
       " 'grade': 'A',\n",
       " 'present': True,\n",
       " 'major': 'SE'}"
      ]
     },
     "execution_count": 59,
     "metadata": {},
     "output_type": "execute_result"
    }
   ],
   "source": [
    "dic.update([(\"age\", 23), (\"major\", \"SE\")]) ## Using list/tuple of pairs\n",
    "dic"
   ]
  },
  {
   "cell_type": "markdown",
   "id": "05909d0e",
   "metadata": {},
   "source": [
    "### 9. Dictionary method values\n",
    "\n",
    "- It return all the values of dictionary without keys."
   ]
  },
  {
   "cell_type": "code",
   "execution_count": 61,
   "id": "3460570e",
   "metadata": {},
   "outputs": [
    {
     "data": {
      "text/plain": [
       "dict_values(['Waqas', 'Khan', 23, 'karachi', 'Pakistan', 'A', True, 'SE'])"
      ]
     },
     "execution_count": 61,
     "metadata": {},
     "output_type": "execute_result"
    }
   ],
   "source": [
    "dic.values()"
   ]
  },
  {
   "cell_type": "code",
   "execution_count": null,
   "id": "7d968614",
   "metadata": {},
   "outputs": [
    {
     "name": "stdout",
     "output_type": "stream",
     "text": [
      "Waqas\n",
      "Khan\n",
      "23\n",
      "karachi\n",
      "Pakistan\n",
      "A\n",
      "True\n",
      "SE\n"
     ]
    }
   ],
   "source": [
    "for i in dic.values(): ## using iteration\n",
    "    print(i)"
   ]
  },
  {
   "cell_type": "code",
   "execution_count": 65,
   "id": "2e234823",
   "metadata": {},
   "outputs": [
    {
     "name": "stdout",
     "output_type": "stream",
     "text": [
      "found\n"
     ]
    }
   ],
   "source": [
    "if \"Waqas\" in dic.values():\n",
    "    print(\"found\")\n",
    "else:\n",
    "    print(\"Not found\")"
   ]
  },
  {
   "cell_type": "markdown",
   "id": "9b4670d5",
   "metadata": {},
   "source": [
    "### 10. Dictionary method copy()\n",
    "\n",
    "- The copy() method creates a shallow copy of the dictionary.\n",
    "- That means it makes a new dictionary with the same key–value pairs, but it does not deeply copy nested objects."
   ]
  },
  {
   "cell_type": "code",
   "execution_count": 67,
   "id": "f41e6431",
   "metadata": {},
   "outputs": [
    {
     "data": {
      "text/plain": [
       "{'f_name': 'Waqas',\n",
       " 'l_name': 'Khan',\n",
       " 'age': 23,\n",
       " 'city': 'karachi',\n",
       " 'Country': 'Pakistan',\n",
       " 'grade': 'A',\n",
       " 'present': True,\n",
       " 'major': 'SE'}"
      ]
     },
     "execution_count": 67,
     "metadata": {},
     "output_type": "execute_result"
    }
   ],
   "source": [
    "dic"
   ]
  },
  {
   "cell_type": "markdown",
   "id": "c5b0c188",
   "metadata": {},
   "source": [
    "- Cotents are the same, but they are stored in different memory location."
   ]
  },
  {
   "cell_type": "code",
   "execution_count": 68,
   "id": "333d29a5",
   "metadata": {},
   "outputs": [
    {
     "name": "stdout",
     "output_type": "stream",
     "text": [
      "{'f_name': 'Waqas', 'l_name': 'Khan', 'age': 23, 'city': 'karachi', 'Country': 'Pakistan', 'grade': 'A', 'present': True, 'major': 'SE'}\n"
     ]
    }
   ],
   "source": [
    "new_dic = dic.copy()\n",
    "print(new_dic)"
   ]
  },
  {
   "cell_type": "markdown",
   "id": "b07da751",
   "metadata": {},
   "source": [
    "- Shalow copy behavior\n",
    "- If the dictionary has nested dictionaries/lists, the nested part is shared, not copied.\n"
   ]
  },
  {
   "cell_type": "code",
   "execution_count": 69,
   "id": "188554b8",
   "metadata": {},
   "outputs": [
    {
     "name": "stdout",
     "output_type": "stream",
     "text": [
      "{'name': 'Waqas', 'age': 23, 'class': 'CDE', 'score': [90, 87, 88]} --> {'name': 'Waqas', 'age': 23, 'class': 'CDE', 'score': [90, 87, 88]}\n"
     ]
    }
   ],
   "source": [
    "student = {\n",
    "    \"name\":\"Waqas\",\n",
    "    \"age\":23,\n",
    "    \"class\":\"CDE\",\n",
    "    \"score\":[90,87]\n",
    "}\n",
    "new_student = student.copy()\n",
    "new_student[\"score\"].append(88)\n",
    "print(f\"{student} --> {new_student}\")"
   ]
  },
  {
   "cell_type": "markdown",
   "id": "42829546",
   "metadata": {},
   "source": [
    "- Deep copy behavior\n",
    "- If the dictionary has nested dictionaries/lists, the nested part is not shared, because it is copied."
   ]
  },
  {
   "cell_type": "code",
   "execution_count": null,
   "id": "5e1983be",
   "metadata": {},
   "outputs": [
    {
     "name": "stdout",
     "output_type": "stream",
     "text": [
      "{'name': 'Waqas', 'age': 23, 'class': 'CDE', 'score': [90, 87]}\n",
      "{'name': 'Waqas', 'age': 23, 'class': 'CDE', 'score': [90, 87, 88]}\n"
     ]
    }
   ],
   "source": [
    "import copy\n",
    "student = {\n",
    "    \"name\":\"Waqas\",\n",
    "    \"age\":23,\n",
    "    \"class\":\"CDE\",\n",
    "    \"score\":[90,87]\n",
    "}\n",
    "new_student = copy.deepcopy(student)\n",
    "new_student['score'].append(88)\n",
    "\n",
    "print(student)      ## It will not change because it is a deep copy\n",
    "print(new_student) ## It will change"
   ]
  },
  {
   "cell_type": "markdown",
   "id": "fc6bf166",
   "metadata": {},
   "source": [
    "### 11. Dictionary method clear()\n",
    "\n",
    "- The clear() method removes all key–value pairs from a dictionary, leaving it completely empty.\n",
    "- clear() modifies the dictionary in place.\n",
    "- If other variables reference the same dictionary, they will also see it empty after clear()."
   ]
  },
  {
   "cell_type": "code",
   "execution_count": 71,
   "id": "dc3df388",
   "metadata": {},
   "outputs": [
    {
     "data": {
      "text/plain": [
       "{}"
      ]
     },
     "execution_count": 71,
     "metadata": {},
     "output_type": "execute_result"
    }
   ],
   "source": [
    "dic.clear()\n",
    "dic"
   ]
  }
 ],
 "metadata": {
  "kernelspec": {
   "display_name": "base",
   "language": "python",
   "name": "python3"
  },
  "language_info": {
   "codemirror_mode": {
    "name": "ipython",
    "version": 3
   },
   "file_extension": ".py",
   "mimetype": "text/x-python",
   "name": "python",
   "nbconvert_exporter": "python",
   "pygments_lexer": "ipython3",
   "version": "3.13.5"
  }
 },
 "nbformat": 4,
 "nbformat_minor": 5
}
