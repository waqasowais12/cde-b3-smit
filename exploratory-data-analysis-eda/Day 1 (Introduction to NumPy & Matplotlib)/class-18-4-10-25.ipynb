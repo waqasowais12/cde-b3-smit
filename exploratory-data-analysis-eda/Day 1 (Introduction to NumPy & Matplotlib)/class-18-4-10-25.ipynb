{
 "cells": [
  {
   "cell_type": "markdown",
   "id": "dac60365",
   "metadata": {},
   "source": [
    "## Numpy"
   ]
  },
  {
   "cell_type": "code",
   "execution_count": 1,
   "id": "cd85755d",
   "metadata": {},
   "outputs": [],
   "source": [
    "import numpy as np"
   ]
  },
  {
   "cell_type": "code",
   "execution_count": 16,
   "id": "99dd32ec",
   "metadata": {},
   "outputs": [],
   "source": [
    "weight_np = np.array([40.5,45.6,55.8,60.2])\n",
    "height_np = np.array([5, 5.3, 6, 5.2])"
   ]
  },
  {
   "cell_type": "code",
   "execution_count": 17,
   "id": "c9ca7a5d",
   "metadata": {},
   "outputs": [
    {
     "data": {
      "text/plain": [
       "1"
      ]
     },
     "execution_count": 17,
     "metadata": {},
     "output_type": "execute_result"
    }
   ],
   "source": [
    "weight_np.ndim"
   ]
  },
  {
   "cell_type": "code",
   "execution_count": 18,
   "id": "57b060a0",
   "metadata": {},
   "outputs": [
    {
     "data": {
      "text/plain": [
       "4"
      ]
     },
     "execution_count": 18,
     "metadata": {},
     "output_type": "execute_result"
    }
   ],
   "source": [
    "len(weight_np)"
   ]
  },
  {
   "cell_type": "markdown",
   "id": "88422788",
   "metadata": {},
   "source": [
    "## Subsetting/Slicing "
   ]
  },
  {
   "cell_type": "code",
   "execution_count": 20,
   "id": "6d810ebc",
   "metadata": {},
   "outputs": [
    {
     "data": {
      "text/plain": [
       "array([60.2])"
      ]
     },
     "execution_count": 20,
     "metadata": {},
     "output_type": "execute_result"
    }
   ],
   "source": [
    "weight_np[3:4]"
   ]
  },
  {
   "cell_type": "code",
   "execution_count": 21,
   "id": "c3b6dac7",
   "metadata": {},
   "outputs": [
    {
     "data": {
      "text/plain": [
       "array([False, False,  True,  True])"
      ]
     },
     "execution_count": 21,
     "metadata": {},
     "output_type": "execute_result"
    }
   ],
   "source": [
    "# [40.5,45.6,55.8,60.2]\n",
    "\n",
    "weight_np > 50"
   ]
  },
  {
   "cell_type": "code",
   "execution_count": 22,
   "id": "964860dd",
   "metadata": {},
   "outputs": [
    {
     "data": {
      "text/plain": [
       "array([55.8, 60.2])"
      ]
     },
     "execution_count": 22,
     "metadata": {},
     "output_type": "execute_result"
    }
   ],
   "source": [
    "weight_np[weight_np > 50]"
   ]
  },
  {
   "cell_type": "markdown",
   "id": "1e16276d",
   "metadata": {},
   "source": [
    "### 2D Array"
   ]
  },
  {
   "cell_type": "code",
   "execution_count": 23,
   "id": "11d465e7",
   "metadata": {},
   "outputs": [],
   "source": [
    "arr_2d = np.array([[40.5,45.6,55.8,60.2],\n",
    "                [5, 5.3, 6, 5.8]\n",
    "                ])"
   ]
  },
  {
   "cell_type": "code",
   "execution_count": 24,
   "id": "fcf68439",
   "metadata": {},
   "outputs": [
    {
     "data": {
      "text/plain": [
       "array([[40.5, 45.6, 55.8, 60.2],\n",
       "       [ 5. ,  5.3,  6. ,  5.8]])"
      ]
     },
     "execution_count": 24,
     "metadata": {},
     "output_type": "execute_result"
    }
   ],
   "source": [
    "arr_2d"
   ]
  },
  {
   "cell_type": "code",
   "execution_count": 25,
   "id": "44750209",
   "metadata": {},
   "outputs": [
    {
     "data": {
      "text/plain": [
       "2"
      ]
     },
     "execution_count": 25,
     "metadata": {},
     "output_type": "execute_result"
    }
   ],
   "source": [
    "arr_2d.ndim"
   ]
  },
  {
   "cell_type": "code",
   "execution_count": 26,
   "id": "b8712bd1",
   "metadata": {},
   "outputs": [
    {
     "data": {
      "text/plain": [
       "numpy.ndarray"
      ]
     },
     "execution_count": 26,
     "metadata": {},
     "output_type": "execute_result"
    }
   ],
   "source": [
    "type(arr_2d)"
   ]
  },
  {
   "cell_type": "code",
   "execution_count": 27,
   "id": "53c865e1",
   "metadata": {},
   "outputs": [
    {
     "data": {
      "text/plain": [
       "np.float64(45.6)"
      ]
     },
     "execution_count": 27,
     "metadata": {},
     "output_type": "execute_result"
    }
   ],
   "source": [
    "arr_2d[0][1]"
   ]
  },
  {
   "cell_type": "code",
   "execution_count": 28,
   "id": "0fbb5d38",
   "metadata": {},
   "outputs": [
    {
     "data": {
      "text/plain": [
       "np.float64(5.8)"
      ]
     },
     "execution_count": 28,
     "metadata": {},
     "output_type": "execute_result"
    }
   ],
   "source": [
    "arr_2d[1][3]"
   ]
  },
  {
   "cell_type": "code",
   "execution_count": 29,
   "id": "9f5a97c3",
   "metadata": {},
   "outputs": [
    {
     "data": {
      "text/plain": [
       "array([[40.5, 45.6, 55.8, 60.2],\n",
       "       [ 5. ,  5.3,  6. ,  5.8]])"
      ]
     },
     "execution_count": 29,
     "metadata": {},
     "output_type": "execute_result"
    }
   ],
   "source": [
    "arr_2d"
   ]
  },
  {
   "cell_type": "code",
   "execution_count": 30,
   "id": "1264a19e",
   "metadata": {},
   "outputs": [
    {
     "data": {
      "text/plain": [
       "array([45.6, 55.8])"
      ]
     },
     "execution_count": 30,
     "metadata": {},
     "output_type": "execute_result"
    }
   ],
   "source": [
    "arr_2d[0][1:3]"
   ]
  },
  {
   "cell_type": "code",
   "execution_count": 31,
   "id": "16879089",
   "metadata": {},
   "outputs": [
    {
     "data": {
      "text/plain": [
       "array([5.3, 6. ])"
      ]
     },
     "execution_count": 31,
     "metadata": {},
     "output_type": "execute_result"
    }
   ],
   "source": [
    "arr_2d[1][1:3]"
   ]
  },
  {
   "cell_type": "code",
   "execution_count": null,
   "id": "4a81833d",
   "metadata": {},
   "outputs": [
    {
     "data": {
      "text/plain": [
       "array([[45.6, 55.8],\n",
       "       [ 5.3,  6. ]])"
      ]
     },
     "execution_count": 32,
     "metadata": {},
     "output_type": "execute_result"
    }
   ],
   "source": [
    "# array_name[rows, column]\n",
    "arr_2d[:, 1:3]"
   ]
  },
  {
   "cell_type": "code",
   "execution_count": 33,
   "id": "9b55d597",
   "metadata": {},
   "outputs": [],
   "source": [
    "np_city = np.array([[1.64, 71.78],[1.37, 63.35], [1.76, 55.09],[2.04, 74.85],[2.04, 68.72],[2.01, 73.57],\n",
    "                   [2.64, 73.78],[3.37, 65.35], [4.76, 65.09],[5.04, 76.85],[6.04, 68.72],[7.01, 73.67],\n",
    "                   [1.64, 71.78],[1.37, 63.35], [1.76, 55.09],[2.04, 74.85],[2.04, 68.72],[2.01, 73.57]])"
   ]
  },
  {
   "cell_type": "code",
   "execution_count": 34,
   "id": "de0e7e59",
   "metadata": {},
   "outputs": [
    {
     "data": {
      "text/plain": [
       "2"
      ]
     },
     "execution_count": 34,
     "metadata": {},
     "output_type": "execute_result"
    }
   ],
   "source": [
    "np_city.ndim"
   ]
  },
  {
   "cell_type": "code",
   "execution_count": 37,
   "id": "95dde604",
   "metadata": {},
   "outputs": [
    {
     "data": {
      "text/plain": [
       "np.float64(35.79888888888889)"
      ]
     },
     "execution_count": 37,
     "metadata": {},
     "output_type": "execute_result"
    }
   ],
   "source": [
    "np.mean(np_city)"
   ]
  },
  {
   "cell_type": "code",
   "execution_count": 38,
   "id": "afd1f592",
   "metadata": {},
   "outputs": [
    {
     "data": {
      "text/plain": [
       "np.float64(2.81)"
      ]
     },
     "execution_count": 38,
     "metadata": {},
     "output_type": "execute_result"
    }
   ],
   "source": [
    "np.mean(np_city[:, 0])"
   ]
  },
  {
   "cell_type": "code",
   "execution_count": 39,
   "id": "24959405",
   "metadata": {},
   "outputs": [
    {
     "data": {
      "text/plain": [
       "np.float64(68.78777777777776)"
      ]
     },
     "execution_count": 39,
     "metadata": {},
     "output_type": "execute_result"
    }
   ],
   "source": [
    "np.mean(np_city[:, 1])"
   ]
  },
  {
   "cell_type": "code",
   "execution_count": 40,
   "id": "39648320",
   "metadata": {},
   "outputs": [
    {
     "data": {
      "text/plain": [
       "np.float64(2.04)"
      ]
     },
     "execution_count": 40,
     "metadata": {},
     "output_type": "execute_result"
    }
   ],
   "source": [
    "np.median(np_city[:, 0])"
   ]
  },
  {
   "cell_type": "code",
   "execution_count": 41,
   "id": "1cd45d94",
   "metadata": {},
   "outputs": [
    {
     "data": {
      "text/plain": [
       "np.float64(70.25)"
      ]
     },
     "execution_count": 41,
     "metadata": {},
     "output_type": "execute_result"
    }
   ],
   "source": [
    "np.median(np_city[:, 1])"
   ]
  },
  {
   "cell_type": "code",
   "execution_count": 42,
   "id": "b2143227",
   "metadata": {},
   "outputs": [
    {
     "data": {
      "text/plain": [
       "array([1.37, 1.37, 1.64, 1.64, 1.76, 1.76, 2.01, 2.01, 2.04, 2.04, 2.04,\n",
       "       2.04, 2.64, 3.37, 4.76, 5.04, 6.04, 7.01])"
      ]
     },
     "execution_count": 42,
     "metadata": {},
     "output_type": "execute_result"
    }
   ],
   "source": [
    "np.sort(np_city[:, 0])"
   ]
  },
  {
   "cell_type": "code",
   "execution_count": 52,
   "id": "67b0e63b",
   "metadata": {},
   "outputs": [
    {
     "name": "stdout",
     "output_type": "stream",
     "text": [
      "[[2381 2005 4172]\n",
      " [ 609 6646 5539]\n",
      " [9382  396 8546]]\n"
     ]
    }
   ],
   "source": [
    "print(np.random.randint(1, 10000, (3,3)))"
   ]
  },
  {
   "cell_type": "code",
   "execution_count": 53,
   "id": "ed139341",
   "metadata": {},
   "outputs": [
    {
     "name": "stdout",
     "output_type": "stream",
     "text": [
      "[4 4 3 2 3 4 3 2 4 2 2 3 3 3 4 4 4 1 4 3 4 2 3 1 4 2 4 4 1 1 1 1 3 4 3 3 2\n",
      " 3 2 1 2 1 4 2 2 2 4 1 3 1 2 4 3 4 1 3 2 2 3 4 1 2 4 2 3 4 4 4 2 3 4 4 1 2\n",
      " 1 2 1 3 4 1 3 1 2 2 1 2 2 3 1 3 3 4 4 4 2 2 1 4 1 2 1 3 1 1 4 4 3 3 4 2 4\n",
      " 1 4 2 1 2 3 2 3 1 1 3 2 3 2 2 3 2 2 2 4 1 4 1 4 3 3 4 4 3 1 4 1 4 3 4 4 2\n",
      " 2 3 3 1 2 1 4 4 2 2 4 4 1 1 4 4 3 4 1 2 3 4 3 3 1 2 2 4 3 3 3 3 4 2 2 1 4\n",
      " 2 3 3 4 2 3 2 1 4 4 3 4 3 4 1 1 2 3 1 3 1 3 1 2 4 4 1 4 1 2 1 1 4 2 3 2 3\n",
      " 1 3 1 1 1 4 3 1 3 2 4 1 4 3 4 2 3 2 1 3 3 3 4 1 3 2 3 4 4 1 3 3 2 4 3 4 4\n",
      " 3 1 2 2 3 1 4 3 3 1 4 1 2 1 3 4 2 3 3 4 1 1 3 3 2 2 1 3 1 1 3 1 1 1 2 1 2\n",
      " 2 1 4 2 3 1 4 2 3 3 4 4 3 1 3 4 1 1 2 4 3 4 1 2 4 2 1 4 3 3 1 2 3 4 2 4 4\n",
      " 2 3 4 4 1 1 1 4 1 2 1 1 3 4 2 2 1 1 2 3 1 4 2 2 3 4 2 3 3 4 3 3 3 1 3 3 4\n",
      " 4 3 2 2 4 3 1 1 2 2 1 1 4 1 1 2 3 1 4 2 3 1 1 1 3 2 2 4 1 4 3 1 1 1 3 1 1\n",
      " 4 1 2 1 4 4 4 1 3 1 2 3 1 4 4 1 2 3 3 4 1 1 2 1 1 1 3 4 4 4 2 4 4 4 4 2 1\n",
      " 2 1 1 4 1 2 2 3 2 1 4 3 2 4 4 3 3 2 1 1 2 2 2 1 4 4 3 3 4 1 3 3 2 2 4 2 1\n",
      " 3 2 1 3 4 4 2 3 4 2 2 3 2 2 4 1 1 3 3 2 3 2 4 2 3 2 4 3 2 1 3 1 2 1 2 1 4\n",
      " 4 2 2 2 3 3 3 1 2 2 4 3 3 4 4 2 3 2 1 2 4 3 1 1 1 2 1 3 3 3 3 2 3 4 3 1 3\n",
      " 1 2 3 3 3 4 3 2 1 4 3 4 4 2 3 4 3 2 2 2 1 2 2 1 3 4 3 2 3 3 4 2 3 4 4 2 2\n",
      " 1 1 3 1 2 3 3 1 4 4 2 1 4 4 3 2 2 2 4 1 4 4 1 3 3 1 2 2 3 4 3 1 4 1 4 1 4\n",
      " 1 1 1 1 1 4 3 1 1 4 1 3 1 1 2 4 3 2 2 4 3 4 1 3 4 3 3 1 4 1 3 1 3 4 2 4 4\n",
      " 4 1 3 2 3 2 3 1 2 1 1 2 4 1 1 4 1 4 2 1 1 1 2 1 4 4 1 3 4 3 1 4 4 4 2 4 3\n",
      " 4 2 2 4 2 1 1 4 4 3 1 1 2 3 4 4 4 3 1 4 3 1 2 2 4 2 4 2 2 1 1 4 4 3 1 1 2\n",
      " 1 3 3 4 3 4 4 2 3 2 3 4 4 1 3 2 3 1 4 4 3 2 3 1 2 2 2 4 1 2 3 3 1 4 3 2 1\n",
      " 2 4 2 3 1 3 3 2 2 1 1 4 3 3 4 3 2 4 3 4 3 1 3 1 1 3 3 1 3 2 2 4 1 1 3 3 3\n",
      " 4 2 3 3 4 4 2 2 3 3 4 1 4 1 1 3 4 3 1 2 3 3 1 4 3 4 1 2 4 1 3 4 1 4 3 3 1\n",
      " 3 3 2 1 4 4 3 3 1 3 1 1 1 3 2 4 3 4 2 4 4 4 1 2 2 4 2 2 3 2 1 1 3 4 3 2 1\n",
      " 3 3 3 1 2 3 1 3 1 2 2 2 1 3 1 3 2 4 3 3 4 2 2 2 4 3 2 3 1 3 3 1 2 2 2 1 2\n",
      " 4 3 1 4 1 1 3 3 3 3 1 3 2 3 3 3 1 3 4 2 1 4 3 4 3 1 4 2 3 1 3 4 3 4 3 1 1\n",
      " 2 3 4 4 2 2 1 3 1 3 1 1 3 4 3 1 1 1 1 4 1 2 1 4 4 2 4 1 2 2 4 2 2 1 2 3 3\n",
      " 1]\n"
     ]
    }
   ],
   "source": [
    "print(np.random.randint(1, 5, 1000))"
   ]
  },
  {
   "cell_type": "code",
   "execution_count": 57,
   "id": "bad253b3",
   "metadata": {},
   "outputs": [],
   "source": [
    "height = np.round(np.random.normal(1.75, 0.20, 5000), 2)\n",
    "weight = np.round(np.random.normal(60.32, 15, 5000), 2)"
   ]
  },
  {
   "cell_type": "code",
   "execution_count": 58,
   "id": "0802ff1f",
   "metadata": {},
   "outputs": [
    {
     "data": {
      "text/plain": [
       "array([1.53, 1.8 , 1.64, ..., 1.63, 1.63, 1.53])"
      ]
     },
     "execution_count": 58,
     "metadata": {},
     "output_type": "execute_result"
    }
   ],
   "source": [
    "height"
   ]
  },
  {
   "cell_type": "code",
   "execution_count": 60,
   "id": "1bb03a0b",
   "metadata": {},
   "outputs": [
    {
     "data": {
      "text/plain": [
       "array([53.85, 31.45, 66.89, ..., 26.81, 63.55, 48.72])"
      ]
     },
     "execution_count": 60,
     "metadata": {},
     "output_type": "execute_result"
    }
   ],
   "source": [
    "weight"
   ]
  },
  {
   "cell_type": "code",
   "execution_count": 61,
   "id": "9b400015",
   "metadata": {},
   "outputs": [
    {
     "data": {
      "text/plain": [
       "5000"
      ]
     },
     "execution_count": 61,
     "metadata": {},
     "output_type": "execute_result"
    }
   ],
   "source": [
    "len(height)"
   ]
  },
  {
   "cell_type": "code",
   "execution_count": 62,
   "id": "69a92c5e",
   "metadata": {},
   "outputs": [
    {
     "data": {
      "text/plain": [
       "5000"
      ]
     },
     "execution_count": 62,
     "metadata": {},
     "output_type": "execute_result"
    }
   ],
   "source": [
    "len(weight)"
   ]
  },
  {
   "cell_type": "code",
   "execution_count": 71,
   "id": "17840a42",
   "metadata": {},
   "outputs": [],
   "source": [
    "import numpy as np\n",
    "a = np.array((1,2,3))\n",
    "b = np.array((2,3,4))\n",
    "data = np.column_stack((a,b))"
   ]
  },
  {
   "cell_type": "code",
   "execution_count": 66,
   "id": "4c8bfc3b",
   "metadata": {},
   "outputs": [
    {
     "name": "stdout",
     "output_type": "stream",
     "text": [
      "class:  ndarray\n",
      "shape:  (3,)\n",
      "strides:  (8,)\n",
      "itemsize:  8\n",
      "aligned:  True\n",
      "contiguous:  True\n",
      "fortran:  True\n",
      "data pointer: 0x18b6b3880b0\n",
      "byteorder:  little\n",
      "byteswap:  False\n",
      "type: int64\n"
     ]
    }
   ],
   "source": [
    "np.info(a)"
   ]
  },
  {
   "cell_type": "code",
   "execution_count": 67,
   "id": "b7c5db21",
   "metadata": {},
   "outputs": [
    {
     "data": {
      "text/plain": [
       "array([[53.85,  1.53],\n",
       "       [31.45,  1.8 ],\n",
       "       [66.89,  1.64],\n",
       "       ...,\n",
       "       [26.81,  1.63],\n",
       "       [63.55,  1.63],\n",
       "       [48.72,  1.53]])"
      ]
     },
     "execution_count": 67,
     "metadata": {},
     "output_type": "execute_result"
    }
   ],
   "source": [
    "np.column_stack((weight, height))"
   ]
  },
  {
   "cell_type": "markdown",
   "id": "af8686aa",
   "metadata": {},
   "source": [
    "TASK:\n",
    "\n",
    "- use np.where() to filter tyhe data form weight or height array\n",
    "- Given a 2D NumPy array, write a function to set the elements on the main diagonal to zero without affecting other elements.\n",
    "- Given a 1D NumPy array, write a function to return the indices of the top-k largest elements."
   ]
  },
  {
   "cell_type": "code",
   "execution_count": 68,
   "id": "e34527c9",
   "metadata": {},
   "outputs": [],
   "source": [
    "weight_np = np.array([40.5,45.6,55.8,60.2])\n",
    "height_np = np.array([5, 5.3, 6, 5.2])"
   ]
  },
  {
   "cell_type": "code",
   "execution_count": 70,
   "id": "350100d4",
   "metadata": {},
   "outputs": [
    {
     "data": {
      "text/plain": [
       "array(['5.0', 'Tall', 'Tall', '5.2'], dtype='<U32')"
      ]
     },
     "execution_count": 70,
     "metadata": {},
     "output_type": "execute_result"
    }
   ],
   "source": [
    "np.where(height_np > 5.2, \"Tall\", height_np)"
   ]
  },
  {
   "cell_type": "code",
   "execution_count": null,
   "id": "e0f41108",
   "metadata": {},
   "outputs": [
    {
     "data": {
      "text/plain": [
       "array([[0, 2, 3],\n",
       "       [4, 0, 6],\n",
       "       [7, 8, 0]])"
      ]
     },
     "execution_count": 81,
     "metadata": {},
     "output_type": "execute_result"
    }
   ],
   "source": [
    "import numpy as np\n",
    "\n",
    "arr = np.array([[1, 2, 3],\n",
    "                [4, 5, 6],\n",
    "                [7, 8, 9]])\n",
    "\n",
    "np.fill_diagonal(arr, 0)\n",
    "arr"
   ]
  },
  {
   "cell_type": "code",
   "execution_count": 84,
   "id": "3a94aae9",
   "metadata": {},
   "outputs": [
    {
     "data": {
      "text/plain": [
       "np.int64(6)"
      ]
     },
     "execution_count": 84,
     "metadata": {},
     "output_type": "execute_result"
    }
   ],
   "source": [
    "arr2 = np.array([4, 5, 6])\n",
    "\n",
    "arr2.max()"
   ]
  },
  {
   "cell_type": "code",
   "execution_count": 85,
   "id": "4adeefa6",
   "metadata": {},
   "outputs": [
    {
     "data": {
      "text/plain": [
       "np.int64(5)"
      ]
     },
     "execution_count": 85,
     "metadata": {},
     "output_type": "execute_result"
    }
   ],
   "source": [
    "arr3 = np.array([3,8,4,9,6,2])\n",
    "\n",
    "min_ind = arr3.argmin()\n",
    "min_ind"
   ]
  },
  {
   "cell_type": "code",
   "execution_count": 86,
   "id": "b7f42247",
   "metadata": {},
   "outputs": [
    {
     "data": {
      "text/plain": [
       "np.int64(3)"
      ]
     },
     "execution_count": 86,
     "metadata": {},
     "output_type": "execute_result"
    }
   ],
   "source": [
    "max_ind = arr3.argmax()\n",
    "max_ind"
   ]
  },
  {
   "cell_type": "markdown",
   "id": "942e91b3",
   "metadata": {},
   "source": [
    "### Data Visualization (MATPLOTLIB)\n",
    "\n",
    "- Very important in Data analysis\n",
    "- Explore data\n",
    "- Report insights\n",
    "- `Source: GapMinder, Wealth and Health of Nation`\n"
   ]
  },
  {
   "cell_type": "code",
   "execution_count": 87,
   "id": "9b01b1b2",
   "metadata": {},
   "outputs": [],
   "source": [
    "import matplotlib.pyplot as plt\n",
    "# from matplotlib import pyplot as plt"
   ]
  },
  {
   "cell_type": "code",
   "execution_count": 100,
   "id": "51f97f34",
   "metadata": {},
   "outputs": [
    {
     "data": {
      "image/png": "[encoded data removed]",
      "text/plain": [
       "<Figure size 500x300 with 1 Axes>"
      ]
     },
     "metadata": {},
     "output_type": "display_data"
    }
   ],
   "source": [
    "# defining X & Y axis\n",
    "year = [1950, 1970, 1990, 2010, 2011]\n",
    "pop = [1.519, 20.692, 1.263, 15.972,1.2]\n",
    "\n",
    "plt.figure(figsize=(5,3))\n",
    "\n",
    "plt.scatter(year, pop )\n",
    "\n",
    "plt.yticks([5,10,15,20], ['5B', '10B', '15B', '20B'])\n",
    "\n",
    "plt.xlabel('Years')\n",
    "\n",
    "plt.ylabel('Populatio')\n",
    "\n",
    "plt.title('Years vs Population ratio')\n",
    "\n",
    "plt.show()"
   ]
  },
  {
   "cell_type": "code",
   "execution_count": 101,
   "id": "498d1ed0",
   "metadata": {},
   "outputs": [
    {
     "data": {
      "image/png": "[encoded data removed]",
      "text/plain": [
       "<Figure size 500x300 with 1 Axes>"
      ]
     },
     "metadata": {},
     "output_type": "display_data"
    }
   ],
   "source": [
    "# defining X & Y axis\n",
    "year = [1950, 1970, 1990, 2010, 2011]\n",
    "pop = [1.519, 20.692, 1.263, 15.972,1.2]\n",
    "\n",
    "plt.figure(figsize=(5,3))\n",
    "\n",
    "plt.plot(year, pop )\n",
    "\n",
    "plt.yticks([5,10,15,20], ['5B', '10B', '15B', '20B'])\n",
    "\n",
    "plt.xlabel('Years')\n",
    "\n",
    "plt.ylabel('Populatio')\n",
    "\n",
    "plt.title('Years vs Population ratio')\n",
    "\n",
    "plt.show()"
   ]
  },
  {
   "cell_type": "code",
   "execution_count": 102,
   "id": "1b2d62f7",
   "metadata": {},
   "outputs": [
    {
     "data": {
      "image/png": "[encoded data removed]",
      "text/plain": [
       "<Figure size 500x300 with 1 Axes>"
      ]
     },
     "metadata": {},
     "output_type": "display_data"
    }
   ],
   "source": [
    "# defining X & Y axis\n",
    "year = [1950, 1970, 1990, 2010, 2011]\n",
    "pop = [1.519, 20.692, 1.263, 15.972,1.2]\n",
    "\n",
    "plt.figure(figsize=(5,3))\n",
    "\n",
    "plt.bar(year, pop )\n",
    "\n",
    "plt.yticks([5,10,15,20], ['5B', '10B', '15B', '20B'])\n",
    "\n",
    "plt.xlabel('Years')\n",
    "\n",
    "plt.ylabel('Populatio')\n",
    "\n",
    "plt.title('Years vs Population ratio')\n",
    "\n",
    "plt.show()"
   ]
  },
  {
   "cell_type": "code",
   "execution_count": 109,
   "id": "c51d277a",
   "metadata": {},
   "outputs": [
    {
     "data": {
      "text/plain": [
       "(array([4., 6., 2.]),\n",
       " array([0., 2., 4., 6.]),\n",
       " <BarContainer object of 3 artists>)"
      ]
     },
     "execution_count": 109,
     "metadata": {},
     "output_type": "execute_result"
    },
    {
     "data": {
      "image/png": "[encoded data removed]",
      "text/plain": [
       "<Figure size 640x480 with 1 Axes>"
      ]
     },
     "metadata": {},
     "output_type": "display_data"
    }
   ],
   "source": [
    "values = [0,0.6,1.4,1.6,2.2,2.5,2.6,3.2,3.5,3.9,4.2,6]\n",
    "\n",
    "# print(max(values), min(values))\n",
    "\n",
    "# print(sorted(values)) # [0, 0.6, 1.4, 1.6, 2.2, 2.5, 2.6, 3.2, 3.5, 3.9, 4.2, 6]\n",
    "\n",
    "# print(len(values))\n",
    "\n",
    "plt.hist(values, bins=3)\n"
   ]
  },
  {
   "cell_type": "code",
   "execution_count": null,
   "id": "2ed9bb10",
   "metadata": {},
   "outputs": [],
   "source": []
  }
 ],
 "metadata": {
  "kernelspec": {
   "display_name": "base",
   "language": "python",
   "name": "python3"
  },
  "language_info": {
   "codemirror_mode": {
    "name": "ipython",
    "version": 3
   },
   "file_extension": ".py",
   "mimetype": "text/x-python",
   "name": "python",
   "nbconvert_exporter": "python",
   "pygments_lexer": "ipython3",
   "version": "3.13.5"
  }
 },
 "nbformat": 4,
 "nbformat_minor": 5
}
