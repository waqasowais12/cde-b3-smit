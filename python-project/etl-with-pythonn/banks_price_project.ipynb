{
 "cells": [
  {
   "cell_type": "markdown",
   "id": "d173c839-73c6-4ad2-8c00-769a6bfd9f87",
   "metadata": {},
   "source": [
    "## **CLOUD DATA ENGINEERING FIRST PROJECT**"
   ]
  },
  {
   "cell_type": "markdown",
   "id": "600625f3",
   "metadata": {},
   "source": [
    "### **Basic extract, transform, and load (ETL) pipeline using web scraping, pandas and sql.**"
   ]
  },
  {
   "cell_type": "markdown",
   "id": "6c490ae1",
   "metadata": {},
   "source": [
    "#### Import necessary libraries"
   ]
  },
  {
   "cell_type": "code",
   "execution_count": 5,
   "id": "d47938c7",
   "metadata": {},
   "outputs": [
    {
     "name": "stdout",
     "output_type": "stream",
     "text": [
      "Requirement already satisfied: requests in c:\\users\\user\\anaconda3\\lib\\site-packages (2.32.3)\n",
      "Requirement already satisfied: beautifulsoup4 in c:\\users\\user\\anaconda3\\lib\\site-packages (4.12.3)\n",
      "Requirement already satisfied: pandas in c:\\users\\user\\anaconda3\\lib\\site-packages (2.2.3)\n",
      "Requirement already satisfied: charset-normalizer<4,>=2 in c:\\users\\user\\anaconda3\\lib\\site-packages (from requests) (3.3.2)\n",
      "Requirement already satisfied: idna<4,>=2.5 in c:\\users\\user\\anaconda3\\lib\\site-packages (from requests) (3.7)\n",
      "Requirement already satisfied: urllib3<3,>=1.21.1 in c:\\users\\user\\anaconda3\\lib\\site-packages (from requests) (2.3.0)\n",
      "Requirement already satisfied: certifi>=2017.4.17 in c:\\users\\user\\anaconda3\\lib\\site-packages (from requests) (2025.4.26)\n",
      "Requirement already satisfied: soupsieve>1.2 in c:\\users\\user\\anaconda3\\lib\\site-packages (from beautifulsoup4) (2.5)\n",
      "Requirement already satisfied: numpy>=1.26.0 in c:\\users\\user\\anaconda3\\lib\\site-packages (from pandas) (2.1.3)\n",
      "Requirement already satisfied: python-dateutil>=2.8.2 in c:\\users\\user\\anaconda3\\lib\\site-packages (from pandas) (2.9.0.post0)\n",
      "Requirement already satisfied: pytz>=2020.1 in c:\\users\\user\\anaconda3\\lib\\site-packages (from pandas) (2024.1)\n",
      "Requirement already satisfied: tzdata>=2022.7 in c:\\users\\user\\anaconda3\\lib\\site-packages (from pandas) (2025.2)\n",
      "Requirement already satisfied: six>=1.5 in c:\\users\\user\\anaconda3\\lib\\site-packages (from python-dateutil>=2.8.2->pandas) (1.17.0)\n",
      "Note: you may need to restart the kernel to use updated packages.\n"
     ]
    }
   ],
   "source": [
    "%pip install requests beautifulsoup4 pandas"
   ]
  },
  {
   "cell_type": "code",
   "execution_count": 43,
   "id": "1ad48597",
   "metadata": {},
   "outputs": [],
   "source": [
    "from io import StringIO\n",
    "import requests\n",
    "from bs4 import BeautifulSoup\n",
    "import pandas as pd\n",
    "import sqlite3\n",
    "from datetime import datetime\n"
   ]
  },
  {
   "cell_type": "markdown",
   "id": "6aaa1f7d",
   "metadata": {},
   "source": [
    "### Step:1 Maintaining a Log File\n",
    "\n",
    "This step is done to record the logs while performing ETL and it is not necessary in an ETL pipeline."
   ]
  },
  {
   "cell_type": "code",
   "execution_count": 44,
   "id": "b6cec37d",
   "metadata": {},
   "outputs": [],
   "source": [
    "def log_process(message):\n",
    "    \"\"\"\n",
    "    This function logs the mentioned message of a given stage of the\n",
    "    code execution to a log file. Function returns nothing\n",
    "\n",
    "    \"\"\"\n",
    "    with open('./logs/code_log.txt', 'a') as f:\n",
    "        f.write(f'{datetime.now()}: {message}\\n')"
   ]
  },
  {
   "cell_type": "markdown",
   "id": "f1e184d8",
   "metadata": {},
   "source": [
    "### Step 2:  Extract"
   ]
  },
  {
   "cell_type": "code",
   "execution_count": 45,
   "id": "23cc084f",
   "metadata": {},
   "outputs": [],
   "source": [
    "def extract(url, table_attribute):\n",
    "    \"\"\" \n",
    "    This function aims to extract the required\n",
    "    information from the website and save it to a data frame. The\n",
    "    function returns the data frame for further processing. \n",
    "    \n",
    "    \"\"\"\n",
    "\n",
    "    soup = BeautifulSoup(requests.get(url).text, \"html.parser\")\n",
    "    table = soup.find('span',string=table_attribute).find_next('table')\n",
    "    df = pd.read_html(StringIO(str(table)))[0]\n",
    "\n",
    "    log_process('Data extraction complete, Initiating transform process')\n",
    "    \n",
    "    return df"
   ]
  },
  {
   "cell_type": "markdown",
   "id": "5052aac4",
   "metadata": {},
   "source": [
    "### Step 3: Transformation"
   ]
  },
  {
   "cell_type": "code",
   "execution_count": 46,
   "id": "3275d406",
   "metadata": {},
   "outputs": [],
   "source": [
    "def transform(df, csv_path):\n",
    "    \"\"\" \n",
    "    This function accesses the CSV file for exchange rate\n",
    "    information, and adds three columns to the data frame, each\n",
    "    containing the transformed version of Market Cap column to\n",
    "    respective currencies\n",
    "    \n",
    "    \"\"\"\n",
    "    exchange_rate = pd.read_csv(csv_path, index_col=0).to_dict()['Rate']\n",
    "    print(exchange_rate)\n",
    "    df['MC_EUR_Billion'] = round(df['Market cap (US$ billion)'] * exchange_rate['EUR'], 2)\n",
    "    df['MC_GBP_Billion'] = round(df['Market cap (US$ billion)'] * exchange_rate['GBP'], 2)\n",
    "    df['MC_INR_Billion'] = round(df['Market cap (US$ billion)'] * exchange_rate['INR'], 2)\n",
    "\n",
    "    print(df)\n",
    "\n",
    "    log_process('Data transformation complete. Initiating load process')\n",
    "\n",
    "    return df"
   ]
  },
  {
   "cell_type": "markdown",
   "id": "0bb10805",
   "metadata": {},
   "source": [
    "### Step 4: Load\n",
    "\n",
    "Loading data to csv"
   ]
  },
  {
   "cell_type": "code",
   "execution_count": 47,
   "id": "4f5274dd",
   "metadata": {},
   "outputs": [],
   "source": [
    "def load_csv(df, output_path):\n",
    "    \"\"\" \n",
    "    This function saves the final data frame as a CSV file in\n",
    "    the provided path. Function returns nothing.\n",
    "    \n",
    "    \"\"\"\n",
    "    df.to_csv(output_path)\n",
    "    log_process('Data saved to csv.')"
   ]
  },
  {
   "cell_type": "markdown",
   "id": "839a3d30",
   "metadata": {},
   "source": [
    "### Step 5: Load \n",
    "\n",
    "Loading data to SQL"
   ]
  },
  {
   "cell_type": "code",
   "execution_count": 48,
   "id": "e865c58d",
   "metadata": {},
   "outputs": [],
   "source": [
    "def load_db(df, sql_connection, table_name):\n",
    "    \"\"\" \n",
    "    This function saves the final data frame to a database\n",
    "    table with the provided name. Function returns nothing.\n",
    "    \n",
    "    \"\"\"\n",
    "    df.to_sql(table_name, sql_connection, if_exists='replace', index= False)\n",
    "    log_process('Data loaded to database as a table, Executing queries')"
   ]
  },
  {
   "cell_type": "markdown",
   "id": "634c1e62",
   "metadata": {},
   "source": [
    "### Run Queries"
   ]
  },
  {
   "cell_type": "code",
   "execution_count": 51,
   "id": "e111326c",
   "metadata": {},
   "outputs": [],
   "source": [
    "def run_query(query_statement, sql_connection):\n",
    "    \"\"\" \n",
    "    This function runs the query on the database table and\n",
    "    prints the output on the terminal. Function returns nothing. \n",
    "    \n",
    "    \"\"\"\n",
    "\n",
    "    cursor = sql_connection.cursor()\n",
    "    cursor.execute(query_statement)\n",
    "    result = cursor.fetchall()\n",
    "\n",
    "    log_process('Process Complete')\n",
    "\n",
    "    return result"
   ]
  },
  {
   "cell_type": "markdown",
   "id": "27fb05e0",
   "metadata": {},
   "source": [
    "### Executing Pipeline"
   ]
  },
  {
   "cell_type": "code",
   "execution_count": 52,
   "id": "32d84605",
   "metadata": {},
   "outputs": [
    {
     "name": "stdout",
     "output_type": "stream",
     "text": [
      "{'EUR': 0.97, 'GBP': 0.8, 'INR': 85.0}\n",
      "   Rank                                Bank name  Market cap (US$ billion)  \\\n",
      "0     1                           JPMorgan Chase                    432.92   \n",
      "1     2                          Bank of America                    231.52   \n",
      "2     3  Industrial and Commercial Bank of China                    194.56   \n",
      "3     4               Agricultural Bank of China                    160.68   \n",
      "4     5                                HDFC Bank                    157.91   \n",
      "5     6                              Wells Fargo                    155.87   \n",
      "6     7                        HSBC Holdings PLC                    148.90   \n",
      "7     8                           Morgan Stanley                    140.83   \n",
      "8     9                  China Construction Bank                    139.82   \n",
      "9    10                            Bank of China                    136.81   \n",
      "\n",
      "   MC_EUR_Billion  MC_GBP_Billion  MC_INR_Billion  \n",
      "0          419.93          346.34        36798.20  \n",
      "1          224.57          185.22        19679.20  \n",
      "2          188.72          155.65        16537.60  \n",
      "3          155.86          128.54        13657.80  \n",
      "4          153.17          126.33        13422.35  \n",
      "5          151.19          124.70        13248.95  \n",
      "6          144.43          119.12        12656.50  \n",
      "7          136.61          112.66        11970.55  \n",
      "8          135.63          111.86        11884.70  \n",
      "9          132.71          109.45        11628.85  \n",
      "[(1, 'JPMorgan Chase', 432.92, 419.93, 346.34, 36798.2), (2, 'Bank of America', 231.52, 224.57, 185.22, 19679.2), (3, 'Industrial and Commercial Bank of China', 194.56, 188.72, 155.65, 16537.6), (4, 'Agricultural Bank of China', 160.68, 155.86, 128.54, 13657.8), (5, 'HDFC Bank', 157.91, 153.17, 126.33, 13422.35), (6, 'Wells Fargo', 155.87, 151.19, 124.7, 13248.95), (7, 'HSBC Holdings PLC', 148.9, 144.43, 119.12, 12656.5), (8, 'Morgan Stanley', 140.83, 136.61, 112.66, 11970.55), (9, 'China Construction Bank', 139.82, 135.63, 111.86, 11884.7), (10, 'Bank of China', 136.81, 132.71, 109.45, 11628.85)]\n",
      "[(16148.470000000001,)]\n",
      "[('JPMorgan Chase',), ('Bank of America',), ('Industrial and Commercial Bank of China',), ('Agricultural Bank of China',), ('HDFC Bank',)]\n"
     ]
    }
   ],
   "source": [
    "if __name__ == '__main__':\n",
    "\n",
    "    # Variables as argument for step 2 Extraction content function(extract)\n",
    "    url = 'https://web.archive.org/web/20230908091635/https://en.wikipedia.org/wiki/List_of_largest_banks'\n",
    "    table_attribute = 'By market capitalization'\n",
    "\n",
    "    df = extract(url, table_attribute)\n",
    "\n",
    "    # Variable as argument for step 3 Transformation content function(transform)\n",
    "    csv_path = './input/exchange_rate.csv'\n",
    "\n",
    "    transform(df, csv_path)\n",
    "\n",
    "    # Variable as argument for step 4 Loading data to csv function(load_csv)\n",
    "    output_path = './output/Largest_banks_data.csv'\n",
    "\n",
    "    load_csv(df, output_path)\n",
    "\n",
    "    # Variable as argument for step 5 Loading data to database function(load_db)\n",
    "    database_name = './output/Banks.db'\n",
    "    table_name = 'Largest_banks'\n",
    "\n",
    "    with sqlite3.connect(database_name) as conn:\n",
    "        load_db(df, conn, table_name)\n",
    "\n",
    "        print(run_query('SELECT * FROM Largest_banks', conn))\n",
    "\n",
    "        print(run_query('SELECT AVG(\"MC_INR_Billion\") FROM Largest_banks', conn))\n",
    "\n",
    "        print(run_query('SELECT \"Bank name\" FROM Largest_banks LIMIT 5', conn))"
   ]
  },
  {
   "cell_type": "code",
   "execution_count": null,
   "id": "3727e762",
   "metadata": {},
   "outputs": [],
   "source": []
  }
 ],
 "metadata": {
  "kernelspec": {
   "display_name": "base",
   "language": "python",
   "name": "python3"
  },
  "language_info": {
   "codemirror_mode": {
    "name": "ipython",
    "version": 3
   },
   "file_extension": ".py",
   "mimetype": "text/x-python",
   "name": "python",
   "nbconvert_exporter": "python",
   "pygments_lexer": "ipython3",
   "version": "3.13.5"
  }
 },
 "nbformat": 4,
 "nbformat_minor": 5
}
